{
 "cells": [
  {
   "cell_type": "code",
   "execution_count": 10,
   "metadata": {},
   "outputs": [
    {
     "ename": "TypeError",
     "evalue": "strptime() takes exactly 2 arguments (0 given)",
     "output_type": "error",
     "traceback": [
      "\u001b[1;31m---------------------------------------------------------------------------\u001b[0m",
      "\u001b[1;31mTypeError\u001b[0m                                 Traceback (most recent call last)",
      "\u001b[1;32md:\\새싹 금융데이터\\MJ-s_package\\tabulate_pra.ipynb 셀 3\u001b[0m in \u001b[0;36m<cell line: 3>\u001b[1;34m()\u001b[0m\n\u001b[0;32m      <a href='vscode-notebook-cell:/d%3A/%EC%83%88%EC%8B%B9%20%EA%B8%88%EC%9C%B5%EB%8D%B0%EC%9D%B4%ED%84%B0/MJ-s_package/tabulate_pra.ipynb#W2sZmlsZQ%3D%3D?line=0'>1</a>\u001b[0m \u001b[39mfrom\u001b[39;00m \u001b[39mdatetime\u001b[39;00m \u001b[39mimport\u001b[39;00m datetime\n\u001b[1;32m----> <a href='vscode-notebook-cell:/d%3A/%EC%83%88%EC%8B%B9%20%EA%B8%88%EC%9C%B5%EB%8D%B0%EC%9D%B4%ED%84%B0/MJ-s_package/tabulate_pra.ipynb#W2sZmlsZQ%3D%3D?line=2'>3</a>\u001b[0m travel_dates \u001b[39m=\u001b[39m datetime\u001b[39m.\u001b[39;49mstrptime()\n",
      "\u001b[1;31mTypeError\u001b[0m: strptime() takes exactly 2 arguments (0 given)"
     ]
    }
   ],
   "source": [
    "from datetime import datetime\n",
    "\n",
    "travel_dates = datetime.strptime()"
   ]
  },
  {
   "cell_type": "code",
   "execution_count": 4,
   "metadata": {},
   "outputs": [],
   "source": [
    "import requests\n",
    "\n",
    "import telegram\n",
    "from bs4 import BeautifulSoup"
   ]
  },
  {
   "cell_type": "code",
   "execution_count": 24,
   "metadata": {},
   "outputs": [],
   "source": [
    "headers= {'user-agent': 'Mozilla/5.0 (Windows NT 10.0; Win64; x64) AppleWebKit/537.36 (KHTML, like Gecko) Chrome/105.0.0.0 Safari/537.36'}\n",
    "BASE_URL = 'https://search.naver.com/search.naver?where=nexearch&sm=tab_etc&mra=bk5C&qvt=0'\n",
    "parameters = '&query=' + '미국' + ' 축제'\n",
    "URL = BASE_URL + parameters\n",
    "res = requests.get(URL, headers=headers)\n",
    "soup = BeautifulSoup(res.text, 'html.parser')\n",
    "\n",
    "festival = soup.select('.scroll tr')"
   ]
  },
  {
   "cell_type": "code",
   "execution_count": 23,
   "metadata": {},
   "outputs": [
    {
     "ename": "IndexError",
     "evalue": "list index out of range",
     "output_type": "error",
     "traceback": [
      "\u001b[1;31m---------------------------------------------------------------------------\u001b[0m",
      "\u001b[1;31mIndexError\u001b[0m                                Traceback (most recent call last)",
      "\u001b[1;32md:\\새싹 금융데이터\\MJ-s_package\\tabulate_pra.ipynb 셀 4\u001b[0m in \u001b[0;36m<cell line: 4>\u001b[1;34m()\u001b[0m\n\u001b[0;32m     <a href='vscode-notebook-cell:/d%3A/%EC%83%88%EC%8B%B9%20%EA%B8%88%EC%9C%B5%EB%8D%B0%EC%9D%B4%ED%84%B0/MJ-s_package/tabulate_pra.ipynb#W5sZmlsZQ%3D%3D?line=9'>10</a>\u001b[0m travel_list2 \u001b[39m=\u001b[39m result_time\u001b[39m.\u001b[39msplit(\u001b[39m'\u001b[39m\u001b[39m~\u001b[39m\u001b[39m'\u001b[39m)\n\u001b[0;32m     <a href='vscode-notebook-cell:/d%3A/%EC%83%88%EC%8B%B9%20%EA%B8%88%EC%9C%B5%EB%8D%B0%EC%9D%B4%ED%84%B0/MJ-s_package/tabulate_pra.ipynb#W5sZmlsZQ%3D%3D?line=10'>11</a>\u001b[0m travel_year \u001b[39m=\u001b[39m travel_list2[\u001b[39m0\u001b[39m]\u001b[39m.\u001b[39msplit(\u001b[39m'\u001b[39m\u001b[39m.\u001b[39m\u001b[39m'\u001b[39m)[\u001b[39m0\u001b[39m]\u001b[39m.\u001b[39mstrip()\n\u001b[1;32m---> <a href='vscode-notebook-cell:/d%3A/%EC%83%88%EC%8B%B9%20%EA%B8%88%EC%9C%B5%EB%8D%B0%EC%9D%B4%ED%84%B0/MJ-s_package/tabulate_pra.ipynb#W5sZmlsZQ%3D%3D?line=11'>12</a>\u001b[0m travel_year \u001b[39m+\u001b[39m \u001b[39m'\u001b[39m\u001b[39m.\u001b[39m\u001b[39m'\u001b[39m \u001b[39m+\u001b[39m travel_list2[\u001b[39m1\u001b[39;49m]\u001b[39m.\u001b[39mstrip()\n\u001b[0;32m     <a href='vscode-notebook-cell:/d%3A/%EC%83%88%EC%8B%B9%20%EA%B8%88%EC%9C%B5%EB%8D%B0%EC%9D%B4%ED%84%B0/MJ-s_package/tabulate_pra.ipynb#W5sZmlsZQ%3D%3D?line=13'>14</a>\u001b[0m \u001b[39m#기간을 체크하는 로직이 들어감 1-5\u001b[39;00m\n\u001b[0;32m     <a href='vscode-notebook-cell:/d%3A/%EC%83%88%EC%8B%B9%20%EA%B8%88%EC%9C%B5%EB%8D%B0%EC%9D%B4%ED%84%B0/MJ-s_package/tabulate_pra.ipynb#W5sZmlsZQ%3D%3D?line=14'>15</a>\u001b[0m travel_date\u001b[39m.\u001b[39mappend(travel_list2)\n",
      "\u001b[1;31mIndexError\u001b[0m: list index out of range"
     ]
    }
   ],
   "source": [
    "travel_date = []\n",
    "festival = soup.select('.scroll tr')\n",
    "festival_list = festival[1:]\n",
    "for result in festival_list:\n",
    "        result_time = result.select('td')[1].text\n",
    "        temp = {\n",
    "            '기간': result_time\n",
    "        }\n",
    "\n",
    "        travel_list2 = result_time.split('~')\n",
    "        travel_year = travel_list2[0].split('.')[0].strip()\n",
    "        # for i in range(len(travel_date)):\n",
    "        #     temp = travel_date[i][0].split('.')[0].strip() + '.' + travel_date[i][1].strip()\n",
    "        #     result_time.split('~')[0] + '~' + temp\n",
    "        travel_year + '.' + travel_list2[1].strip()\n",
    "\n",
    "        #기간을 체크하는 로직이 들어감 1-5\n",
    "        travel_date.append(travel_list2)\n",
    "        "
   ]
  },
  {
   "cell_type": "code",
   "execution_count": 57,
   "metadata": {},
   "outputs": [
    {
     "name": "stdout",
     "output_type": "stream",
     "text": [
      "축제기간 맞음\n",
      "2022-11-19 00:00:00\n"
     ]
    }
   ],
   "source": [
    "festa_date = '2022.11.19'\n",
    "datetime3 = datetime.strptime(temp3, '%Y.%m.%d')\n",
    "travel_date = []\n",
    "festival = soup.select('.scroll tr')\n",
    "festival_list = festival[1:]\n",
    "for result in festival_list:\n",
    "        result_time = result.select('td')[1].text\n",
    "        temp = {\n",
    "            '기간': result_time\n",
    "        }\n",
    "        # print(result_time)\n",
    "        try:\n",
    "            travel_list2 = result_time.split('~')\n",
    "            temp2 = travel_list2[0].split('.')[0].strip() + '.' + travel_list2[1].strip()\n",
    "            start_date = datetime.strptime(travel_list2[0].strip(), '%Y.%m.%d.')\n",
    "            final_date = datetime.strptime(temp2.strip(), '%Y.%m.%d.')\n",
    "            result_time =travel_list2[0] + '~ ' + temp2\n",
    "\n",
    "            if start_date < datetime3 < final_date:\n",
    "                print('축제기간 맞음')\n",
    "\n",
    "            # print(start_date)\n",
    "            # print(final_date)\n",
    "        except:\n",
    "            pass\n",
    "\n",
    "print(datetime3)\n",
    "        \n",
    "        # travel_year + '.' + travel_list2[1].strip()\n",
    "\n",
    "        #기간을 체크하는 로직이 들어감 1-5\n",
    "        # travel_date.append(travel_list2)\n"
   ]
  },
  {
   "cell_type": "code",
   "execution_count": null,
   "metadata": {},
   "outputs": [],
   "source": []
  },
  {
   "cell_type": "code",
   "execution_count": 38,
   "metadata": {},
   "outputs": [],
   "source": [
    "from datetime import datetime"
   ]
  },
  {
   "cell_type": "code",
   "execution_count": 43,
   "metadata": {},
   "outputs": [
    {
     "data": {
      "text/plain": [
       "datetime.datetime(2022, 9, 22, 0, 0)"
      ]
     },
     "execution_count": 43,
     "metadata": {},
     "output_type": "execute_result"
    }
   ],
   "source": [
    "date_string = \"2022.09.22.\"\n",
    "datetime.strptime(date_string, \"%Y.%m.%d.\")"
   ]
  },
  {
   "cell_type": "code",
   "execution_count": null,
   "metadata": {},
   "outputs": [],
   "source": []
  },
  {
   "cell_type": "code",
   "execution_count": null,
   "metadata": {},
   "outputs": [],
   "source": []
  },
  {
   "cell_type": "code",
   "execution_count": null,
   "metadata": {},
   "outputs": [],
   "source": []
  }
 ],
 "metadata": {
  "kernelspec": {
   "display_name": "Python 3.10.4 ('study')",
   "language": "python",
   "name": "python3"
  },
  "language_info": {
   "codemirror_mode": {
    "name": "ipython",
    "version": 3
   },
   "file_extension": ".py",
   "mimetype": "text/x-python",
   "name": "python",
   "nbconvert_exporter": "python",
   "pygments_lexer": "ipython3",
   "version": "3.10.4"
  },
  "orig_nbformat": 4,
  "vscode": {
   "interpreter": {
    "hash": "2a0060edd7d251760572a9face11b31d5845688b205e41687a3c0e7ba9f3ee93"
   }
  }
 },
 "nbformat": 4,
 "nbformat_minor": 2
}
