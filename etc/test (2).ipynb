{
 "cells": [
  {
   "cell_type": "code",
   "execution_count": 7,
   "metadata": {},
   "outputs": [],
   "source": [
    "import requests\n",
    "from bs4 import BeautifulSoup"
   ]
  },
  {
   "cell_type": "code",
   "execution_count": 6,
   "metadata": {},
   "outputs": [
    {
     "data": {
      "text/plain": [
       "200"
      ]
     },
     "execution_count": 6,
     "metadata": {},
     "output_type": "execute_result"
    }
   ],
   "source": [
    "BASE_URL = 'https://finance.naver.com/marketindex/exchangeDetail.naver?marketindexCd'\n",
    "parameters = '=FX_EURKRW#'\n",
    "\n",
    "URL = BASE_URL + parameters\n",
    "res = requests.get(URL)\n",
    "\n",
    "res.status_code"
   ]
  },
  {
   "cell_type": "code",
   "execution_count": 3,
   "metadata": {},
   "outputs": [
    {
     "name": "stdout",
     "output_type": "stream",
     "text": [
      "https://ssl.pstatic.net/imgfinance/chart/marketindex/area/month3/FX_EURKRW.png\n"
     ]
    }
   ],
   "source": [
    "soup = BeautifulSoup(res.text, 'html.parser')\n",
    "result = soup.select_one('.flash_area > img') \n",
    "graph = result.attrs['src']\n",
    "#이미지를 크롤링\n",
    "#속성으로 접근\n",
    "\n",
    "print(graph)"
   ]
  },
  {
   "cell_type": "code",
   "execution_count": 4,
   "metadata": {},
   "outputs": [],
   "source": [
    "import telegram"
   ]
  },
  {
   "cell_type": "code",
   "execution_count": 5,
   "metadata": {},
   "outputs": [
    {
     "name": "stdout",
     "output_type": "stream",
     "text": [
      "{'token': '5782216675:AAH9FsDNrxOtRcsj-2ux63aoeQ55tbCwl0Q', 'chatId': '5662031911', 'lastId': '307922339'}\n"
     ]
    }
   ],
   "source": [
    "telegram_config = {}\n",
    "#config 파일 읽기\n",
    "with open('./telegram_config', 'r') as f:\n",
    "    #한 줄씩 읽어오기\n",
    "    configs = f.readlines()\n",
    "    #한 줄씩 확인해서\n",
    "    for config in configs:\n",
    "        #줄바꿈기호 제거 (\\n) 후 =로 문자열 분리\n",
    "        #key, value로 언패킹 (2개 나올 것이 확실하기 때문에)\n",
    "        key, value = config.rstrip().split('=')\n",
    "        #config 딕셔너리에 키-값 추가\n",
    "        telegram_config[key] = value\n",
    "\n",
    "\n",
    "print(telegram_config)\n",
    "token = telegram_config['token']\n",
    "chatId = telegram_config['chatId']\n",
    "lastId = telegram_config['lastId']\n",
    "\n",
    "# --SeSAC=-447930618\n"
   ]
  },
  {
   "cell_type": "code",
   "execution_count": 6,
   "metadata": {},
   "outputs": [],
   "source": [
    "bot = telegram.Bot(token)"
   ]
  },
  {
   "cell_type": "code",
   "execution_count": 14,
   "metadata": {},
   "outputs": [],
   "source": [
    "updates = bot.get_updates()"
   ]
  },
  {
   "cell_type": "code",
   "execution_count": 15,
   "metadata": {},
   "outputs": [
    {
     "data": {
      "text/plain": [
       "[<telegram.update.Update at 0x2130a6fd0c0>]"
      ]
     },
     "execution_count": 15,
     "metadata": {},
     "output_type": "execute_result"
    }
   ],
   "source": [
    "updates"
   ]
  },
  {
   "cell_type": "code",
   "execution_count": 17,
   "metadata": {},
   "outputs": [
    {
     "data": {
      "text/plain": [
       "5662031911"
      ]
     },
     "execution_count": 17,
     "metadata": {},
     "output_type": "execute_result"
    }
   ],
   "source": [
    "chat_id = updates[-1].message.chat.id\n",
    "chat_id"
   ]
  },
  {
   "cell_type": "code",
   "execution_count": 7,
   "metadata": {},
   "outputs": [
    {
     "data": {
      "text/plain": [
       "<telegram.message.Message at 0x1aedc034230>"
      ]
     },
     "execution_count": 7,
     "metadata": {},
     "output_type": "execute_result"
    }
   ],
   "source": [
    "img_url = 'https://ssl.pstatic.net/imgfinance/chart/marketindex/area/month3/FX_EURKRW.png'\n",
    "chat_id = telegram_config['chatId']\n",
    "\n",
    "bot.sendPhoto(chat_id=chatId, photo=img_url, caption=\"더 자세한 환율정보를 원하시면 아래 링크를 클릭하세요.\", reply_markup={\n",
    "    \"inline_keyboard\": [\n",
    "                           [\n",
    "                               { \"text\": \"FX_EURKRW\", \"url\": \"https://finance.naver.com/marketindex/exchangeDetail.naver?marketindexCd=FX_EURKRW#\" }\n",
    "                           ]\n",
    "                       ]})"
   ]
  },
  {
   "cell_type": "code",
   "execution_count": 2,
   "metadata": {},
   "outputs": [
    {
     "ename": "NameError",
     "evalue": "name 'bot' is not defined",
     "output_type": "error",
     "traceback": [
      "\u001b[1;31m---------------------------------------------------------------------------\u001b[0m",
      "\u001b[1;31mNameError\u001b[0m                                 Traceback (most recent call last)",
      "\u001b[1;32md:\\새싹 금융데이터\\MJ-s_package\\(이걸봐)test.ipynb 셀 11\u001b[0m in \u001b[0;36m<cell line: 2>\u001b[1;34m()\u001b[0m\n\u001b[0;32m      <a href='vscode-notebook-cell:/d%3A/%EC%83%88%EC%8B%B9%20%EA%B8%88%EC%9C%B5%EB%8D%B0%EC%9D%B4%ED%84%B0/MJ-s_package/%28%EC%9D%B4%EA%B1%B8%EB%B4%90%29test.ipynb#X13sZmlsZQ%3D%3D?line=0'>1</a>\u001b[0m img_url \u001b[39m=\u001b[39m \u001b[39m'\u001b[39m\u001b[39mhttps://ssl.pstatic.net/imgfinance/chart/marketindex/area/month3/FX_EURKRW.png\u001b[39m\u001b[39m'\u001b[39m\n\u001b[1;32m----> <a href='vscode-notebook-cell:/d%3A/%EC%83%88%EC%8B%B9%20%EA%B8%88%EC%9C%B5%EB%8D%B0%EC%9D%B4%ED%84%B0/MJ-s_package/%28%EC%9D%B4%EA%B1%B8%EB%B4%90%29test.ipynb#X13sZmlsZQ%3D%3D?line=1'>2</a>\u001b[0m bot\u001b[39m.\u001b[39msendPhoto(chat_id\u001b[39m=\u001b[39mchat_id, photo\u001b[39m=\u001b[39mimg_url)\n",
      "\u001b[1;31mNameError\u001b[0m: name 'bot' is not defined"
     ]
    }
   ],
   "source": [
    "img_url = 'https://ssl.pstatic.net/imgfinance/chart/marketindex/area/month3/FX_EURKRW.png'\n",
    "bot.sendPhoto(chat_id=chat_id, photo=img_url)"
   ]
  },
  {
   "cell_type": "code",
   "execution_count": null,
   "metadata": {},
   "outputs": [],
   "source": [
    "https://ssl.pstatic.net/imgfinance/chart/marketindex/area/year10/FX_EURKRW.png?\n",
    "sidcode=20220919\n",
    "\n",
    "#이렇게 하면 오류날 수 있음!"
   ]
  },
  {
   "cell_type": "code",
   "execution_count": 3,
   "metadata": {},
   "outputs": [],
   "source": [
    "def 환율(country):\n",
    "    URL = 'https://finance.naver.com/marketindex/exchangeList.naver'\n",
    "    response = requests.get(URL)\n",
    "    soup = BeautifulSoup(response.text, 'html.parser')\n",
    "    results = soup.select('tbody > tr')\n",
    "    final_result = {}\n",
    "    result1 = soup.select('.tit')\n",
    "    result2 = soup.select('.sale')\n",
    "\n",
    "    for result in results:\n",
    "        #tbody > tr 검색한 것이 통화량 환율 등 한 행이니까 반복문을 돌리고 있음\n",
    "        #한 행별로 tit sale을 검색한다.(select_one 사용)\n",
    "        title = result.select_one('.tit').text.strip()\n",
    "        sale = result.select_one('.sale').text.strip()\n",
    "\n",
    "    \n",
    "\n",
    "        final_result.setdefault(title.split()[0], sale) #딕셔너리로 만들어라!!! 키는 타이틀 스플릿해서 앞에것만 가져오라, 밸류는 sale 넣어라 (split)\n",
    "        # {미국 : 1393.00, 유럽연합 : 1389.87} #정리한 다음에 미국, 유럽연합으로 함수의 인자(파라미터)를 받아라\n",
    "    # print(final_result)        \n",
    "    return final_result[country] #실습자료 보기\n",
    "\n",
    "    #함수 안에 있는 변수는 밖에서 못씀\n",
    "    #지역변수 전역변수\n",
    "    #리턴을 달아주는 이유는 함수 안에서 실행돼서 밖에서 못쓰니까\n",
    "    #어떻게든 전달위해!!\n",
    "    #문자열로 만드는 연습을 해라"
   ]
  },
  {
   "cell_type": "code",
   "execution_count": 6,
   "metadata": {},
   "outputs": [
    {
     "data": {
      "text/plain": [
       "'1,389.00'"
      ]
     },
     "execution_count": 6,
     "metadata": {},
     "output_type": "execute_result"
    }
   ],
   "source": [
    "환율('미국')"
   ]
  },
  {
   "cell_type": "code",
   "execution_count": 22,
   "metadata": {},
   "outputs": [
    {
     "ename": "NameError",
     "evalue": "name 'final_result' is not defined",
     "output_type": "error",
     "traceback": [
      "\u001b[1;31m---------------------------------------------------------------------------\u001b[0m",
      "\u001b[1;31mNameError\u001b[0m                                 Traceback (most recent call last)",
      "\u001b[1;32md:\\새싹 금융데이터\\MJ-s_package\\(이걸봐)test.ipynb 셀 15\u001b[0m in \u001b[0;36m<cell line: 1>\u001b[1;34m()\u001b[0m\n\u001b[1;32m----> <a href='vscode-notebook-cell:/d%3A/%EC%83%88%EC%8B%B9%20%EA%B8%88%EC%9C%B5%EB%8D%B0%EC%9D%B4%ED%84%B0/MJ-s_package/%28%EC%9D%B4%EA%B1%B8%EB%B4%90%29test.ipynb#X20sZmlsZQ%3D%3D?line=0'>1</a>\u001b[0m \u001b[39mprint\u001b[39m(final_result\u001b[39m.\u001b[39mkeys())\n",
      "\u001b[1;31mNameError\u001b[0m: name 'final_result' is not defined"
     ]
    }
   ],
   "source": [
    "print(final_result.keys())"
   ]
  },
  {
   "cell_type": "code",
   "execution_count": 14,
   "metadata": {},
   "outputs": [
    {
     "data": {
      "text/plain": [
       "'USD'"
      ]
     },
     "execution_count": 14,
     "metadata": {},
     "output_type": "execute_result"
    }
   ],
   "source": [
    "title.split()[1]"
   ]
  },
  {
   "cell_type": "markdown",
   "metadata": {},
   "source": [
    "##연습 for문"
   ]
  },
  {
   "cell_type": "code",
   "execution_count": 27,
   "metadata": {},
   "outputs": [
    {
     "name": "stdout",
     "output_type": "stream",
     "text": [
      "대기번호: 1\n",
      "대기번호: 2\n",
      "대기번호: 3\n",
      "대기번호: 4\n"
     ]
    }
   ],
   "source": [
    "wait = range(1, 5)\n",
    "for wait_num in wait:\n",
    "    print(\"대기번호: {0}\".format(wait_num))"
   ]
  },
  {
   "cell_type": "markdown",
   "metadata": {},
   "source": [
    "##연습 while문"
   ]
  },
  {
   "cell_type": "code",
   "execution_count": 4,
   "metadata": {},
   "outputs": [
    {
     "name": "stdout",
     "output_type": "stream",
     "text": [
      "토르, 커피가 준비되었습니다. 5번 남았어요.\n",
      "토르, 커피가 준비되었습니다. 4번 남았어요.\n",
      "토르, 커피가 준비되었습니다. 3번 남았어요.\n",
      "토르, 커피가 준비되었습니다. 2번 남았어요.\n",
      "토르, 커피가 준비되었습니다. 1번 남았어요.\n",
      "커피는 폐기처분되었습니다.\n"
     ]
    }
   ],
   "source": [
    "customer = \"토르\"\n",
    "index = 5\n",
    "\n",
    "while index >=1:\n",
    "    print(\"{0}, 커피가 준비되었습니다. {1}번 남았어요.\".format(customer, index))\n",
    "    index -=1\n",
    "    if index == 0:\n",
    "        print(\"커피는 폐기처분되었습니다.\")"
   ]
  },
  {
   "cell_type": "code",
   "execution_count": 19,
   "metadata": {},
   "outputs": [],
   "source": [
    "\n",
    "URL = 'https://finance.naver.com/marketindex/exchangeList.naver'\n",
    "response = requests.get(URL)\n",
    "soup = BeautifulSoup(response.text, 'html.parser')\n",
    "results = soup.select('tbody > tr')\n",
    "country_dic = {}\n",
    "for result in results:\n",
    "    title = result.select_one('.tit').text.strip().split(' ')\n",
    "    country_dic.setdefault(title[0],title[1])"
   ]
  },
  {
   "cell_type": "code",
   "execution_count": 20,
   "metadata": {},
   "outputs": [
    {
     "data": {
      "text/plain": [
       "'USD'"
      ]
     },
     "execution_count": 20,
     "metadata": {},
     "output_type": "execute_result"
    }
   ],
   "source": [
    "country_dic['미국']"
   ]
  },
  {
   "cell_type": "code",
   "execution_count": 1,
   "metadata": {},
   "outputs": [],
   "source": [
    "import datetime"
   ]
  },
  {
   "cell_type": "code",
   "execution_count": 2,
   "metadata": {},
   "outputs": [
    {
     "data": {
      "text/plain": [
       "datetime.date"
      ]
     },
     "execution_count": 2,
     "metadata": {},
     "output_type": "execute_result"
    }
   ],
   "source": [
    "datetime.date"
   ]
  },
  {
   "cell_type": "code",
   "execution_count": null,
   "metadata": {},
   "outputs": [],
   "source": []
  }
 ],
 "metadata": {
  "kernelspec": {
   "display_name": "Python 3.10.4 ('study')",
   "language": "python",
   "name": "python3"
  },
  "language_info": {
   "codemirror_mode": {
    "name": "ipython",
    "version": 3
   },
   "file_extension": ".py",
   "mimetype": "text/x-python",
   "name": "python",
   "nbconvert_exporter": "python",
   "pygments_lexer": "ipython3",
   "version": "3.10.4"
  },
  "orig_nbformat": 4,
  "vscode": {
   "interpreter": {
    "hash": "2a0060edd7d251760572a9face11b31d5845688b205e41687a3c0e7ba9f3ee93"
   }
  }
 },
 "nbformat": 4,
 "nbformat_minor": 2
}
