{
 "cells": [
  {
   "cell_type": "markdown",
   "metadata": {},
   "source": [
    "# 해외 여행, 언제 갈래? [여행정보 크롤링]"
   ]
  },
  {
   "cell_type": "markdown",
   "metadata": {},
   "source": [
    "# PART 1 환율"
   ]
  },
  {
   "cell_type": "code",
   "execution_count": 86,
   "metadata": {},
   "outputs": [],
   "source": [
    "import requests\n",
    "import telegram"
   ]
  },
  {
   "cell_type": "markdown",
   "metadata": {},
   "source": [
    "# (1) 환율정보 함수 만들기 [def 함수]"
   ]
  },
  {
   "cell_type": "code",
   "execution_count": 113,
   "metadata": {},
   "outputs": [],
   "source": [
    "def 환율(country):\n",
    "    URL = 'https://finance.naver.com/marketindex/exchangeList.naver'\n",
    "    response = requests.get(URL)\n",
    "    soup = BeautifulSoup(response.text, 'html.parser')\n",
    "    results = soup.select('tbody > tr')\n",
    "    final_result = []\n",
    "    result1 = soup.select('.tit')\n",
    "    result2 = soup.select('.sale')\n",
    "\n",
    "    for result in results:\n",
    "        #tbody > tr 검색한 것이 통화량 환율 등 한 행이니까 반복문을 돌리고 있음\n",
    "        #한 행별로 tit sale을 검색한다.(select_one 사용)\n",
    "        title = result.select_one('.tit').text.strip()\n",
    "        sale = result.select_one('.sale').text.strip()\n",
    "\n",
    "        temp = {\n",
    "            '통화명': title.split(),\n",
    "            '환율': sale\n",
    "        }\n",
    "\n",
    "        final_result.append(temp) #딕셔너리로 만들어라!!! 키는 타이틀 스플릿해서 앞에것만 가져오라, 밸류는 sale 넣어라 (split)\n",
    "        # {미국 : 1393.00, 유럽연합 : 1389.87} #정리한 다음에 미국, 유럽연합으로 함수의 인자(파라미터)를 받아라\n",
    "        \n",
    "    return final_result[country] #실습자료 보기\n",
    "\n",
    "    #함수 안에 있는 변수는 밖에서 못씀\n",
    "    #지역변수 전역변수\n",
    "    #리턴을 달아주는 이유는 함수 안에서 실행돼서 밖에서 못쓰니까\n",
    "    #어떻게든 전달위해!!\n",
    "    #문자열로 만드는 연습을 해라"
   ]
  },
  {
   "cell_type": "code",
   "execution_count": 88,
   "metadata": {},
   "outputs": [
    {
     "data": {
      "text/plain": [
       "[{'통화명': '미국 USD', '환율': '1,393.00'},\n",
       " {'통화명': '유럽연합 EUR', '환율': '1,389.87'},\n",
       " {'통화명': '일본 JPY (100엔)', '환율': '970.90'},\n",
       " {'통화명': '중국 CNY', '환율': '198.38'},\n",
       " {'통화명': '홍콩 HKD', '환율': '177.46'},\n",
       " {'통화명': '대만 TWD', '환율': '44.32'},\n",
       " {'통화명': '영국 GBP', '환율': '1,584.26'},\n",
       " {'통화명': '오만 OMR', '환율': '3,622.89'},\n",
       " {'통화명': '캐나다 CAD', '환율': '1,046.58'},\n",
       " {'통화명': '스위스 CHF', '환율': '1,442.10'},\n",
       " {'통화명': '스웨덴 SEK', '환율': '128.80'},\n",
       " {'통화명': '호주 AUD', '환율': '930.94'},\n",
       " {'통화명': '뉴질랜드 NZD', '환율': '829.11'},\n",
       " {'통화명': '체코 CZK', '환율': '56.77'},\n",
       " {'통화명': '칠레 CLP', '환율': '1.51'},\n",
       " {'통화명': '터키 TRY', '환율': '76.17'},\n",
       " {'통화명': '몽골 MNT', '환율': '0.43'},\n",
       " {'통화명': '이스라엘 ILS', '환율': '403.74'},\n",
       " {'통화명': '덴마크 DKK', '환율': '186.87'},\n",
       " {'통화명': '노르웨이 NOK', '환율': '135.41'},\n",
       " {'통화명': '사우디아라비아 SAR', '환율': '370.66'},\n",
       " {'통화명': '쿠웨이트 KWD', '환율': '4,508.09'},\n",
       " {'통화명': '바레인 BHD', '환율': '3,695.06'},\n",
       " {'통화명': '아랍에미리트 AED', '환율': '379.25'},\n",
       " {'통화명': '요르단 JOD', '환율': '1,964.74'},\n",
       " {'통화명': '이집트 EGP', '환율': '71.66'},\n",
       " {'통화명': '태국 THB', '환율': '37.62'},\n",
       " {'통화명': '싱가포르 SGD', '환율': '988.12'},\n",
       " {'통화명': '말레이시아 MYR', '환율': '306.15'},\n",
       " {'통화명': '인도네시아 IDR 100', '환율': '9.32'},\n",
       " {'통화명': '카타르 QAR', '환율': '381.04'},\n",
       " {'통화명': '카자흐스탄 KZT', '환율': '2.91'},\n",
       " {'통화명': '브루나이 BND', '환율': '988.12'},\n",
       " {'통화명': '인도 INR', '환율': '17.46'},\n",
       " {'통화명': '파키스탄 PKR', '환율': '5.86'},\n",
       " {'통화명': '방글라데시 BDT', '환율': '13.46'},\n",
       " {'통화명': '필리핀 PHP', '환율': '24.27'},\n",
       " {'통화명': '멕시코 MXN', '환율': '69.12'},\n",
       " {'통화명': '브라질 BRL', '환율': '265.11'},\n",
       " {'통화명': '베트남 VND 100', '환율': '5.88'},\n",
       " {'통화명': '남아프리카 공화국 ZAR', '환율': '78.46'},\n",
       " {'통화명': '러시아 RUB', '환율': '23.18'},\n",
       " {'통화명': '헝가리 HUF', '환율': '3.46'},\n",
       " {'통화명': '폴란드 PLN', '환율': '294.85'},\n",
       " {'통화명': '스리랑카 LKR', '환율': '3.83'},\n",
       " {'통화명': '알제리 DZD', '환율': '9.90'},\n",
       " {'통화명': '케냐 KES', '환율': '11.56'},\n",
       " {'통화명': '콜롬비아 COP', '환율': '0.31'},\n",
       " {'통화명': '탄자니아 TZS', '환율': '0.60'},\n",
       " {'통화명': '네팔 NPR', '환율': '10.91'},\n",
       " {'통화명': '루마니아 RON', '환율': '282.06'},\n",
       " {'통화명': '리비아 LYD', '환율': '280.89'},\n",
       " {'통화명': '마카오 MOP', '환율': '172.17'},\n",
       " {'통화명': '미얀마 MMK', '환율': '0.66'},\n",
       " {'통화명': '에티오피아 ETB', '환율': '26.37'},\n",
       " {'통화명': '우즈베키스탄 UZS', '환율': '0.13'},\n",
       " {'통화명': '캄보디아 KHR', '환율': '0.34'},\n",
       " {'통화명': '피지 FJD', '환율': '618.63'}]"
      ]
     },
     "execution_count": 88,
     "metadata": {},
     "output_type": "execute_result"
    }
   ],
   "source": [
    "환율\n",
    "#환율 미국 검색시 그래프랑 & 특정 환율만 보이게!\n",
    "split\n"
   ]
  },
  {
   "cell_type": "markdown",
   "metadata": {},
   "source": [
    "##(시현)내가 가장 가고 싶은 나라 2개 추출해보기 (미국 & 프랑스)"
   ]
  },
  {
   "cell_type": "code",
   "execution_count": 111,
   "metadata": {},
   "outputs": [],
   "source": [
    "# 환율[0]\n",
    "# type(환율[0])\n",
    "# #직접 키값을 정해서 \n",
    "# 딕셔너리 자체로 보내면 변환하는 과정이 있을 것\n",
    "# 아예 문자열로 만들어서 보내야 함\n",
    "\n",
    "use_data = 환율()[0:3]\n",
    "\n",
    "message = ''\n",
    "for ud in use_data:\n",
    "    fx = ud['통화명']\n",
    "    sale = ud['환율']\n",
    "    message += str(fx) + ' ' + sale + '\\n'\n",
    "\n",
    "    #메시지 보내는 부분 추가하기"
   ]
  },
  {
   "cell_type": "markdown",
   "metadata": {},
   "source": [
    "# (2) 10년간 국제 시장 환율 변동 측정"
   ]
  },
  {
   "cell_type": "code",
   "execution_count": 20,
   "metadata": {},
   "outputs": [],
   "source": [
    "import requests\n",
    "from bs4 import BeautifulSoup"
   ]
  },
  {
   "cell_type": "code",
   "execution_count": 21,
   "metadata": {},
   "outputs": [
    {
     "data": {
      "text/plain": [
       "200"
      ]
     },
     "execution_count": 21,
     "metadata": {},
     "output_type": "execute_result"
    }
   ],
   "source": [
    "BASE_URL = 'https://finance.naver.com/marketindex/exchangeDetail.naver?marketindexCd'\n",
    "parameters = '=FX_EURKRW#'\n",
    "\n",
    "URL = BASE_URL + parameters\n",
    "res = requests.get(URL)\n",
    "\n",
    "res.status_code"
   ]
  },
  {
   "cell_type": "code",
   "execution_count": 22,
   "metadata": {},
   "outputs": [
    {
     "name": "stdout",
     "output_type": "stream",
     "text": [
      "https://ssl.pstatic.net/imgfinance/chart/marketindex/area/month3/FX_EURKRW.png\n"
     ]
    }
   ],
   "source": [
    "soup = BeautifulSoup(res.text, 'html.parser')\n",
    "result = soup.select_one('.flash_area > img') \n",
    "graph = result.attrs['src']\n",
    "#이미지를 크롤링\n",
    "#속성으로 접근\n",
    "\n",
    "print(graph)"
   ]
  },
  {
   "cell_type": "code",
   "execution_count": 23,
   "metadata": {},
   "outputs": [],
   "source": [
    "import telegram"
   ]
  },
  {
   "cell_type": "code",
   "execution_count": 24,
   "metadata": {},
   "outputs": [
    {
     "name": "stdout",
     "output_type": "stream",
     "text": [
      "{'token': '5782216675:AAH9FsDNrxOtRcsj-2ux63aoeQ55tbCwl0Q', 'chatId': '5662031911', 'lastId': '307922339'}\n"
     ]
    }
   ],
   "source": [
    "telegram_config = {}\n",
    "#config 파일 읽기\n",
    "with open('./telegram_config', 'r') as f:\n",
    "    #한 줄씩 읽어오기\n",
    "    configs = f.readlines()\n",
    "    #한 줄씩 확인해서\n",
    "    for config in configs:\n",
    "        #줄바꿈기호 제거 (\\n) 후 =로 문자열 분리\n",
    "        #key, value로 언패킹 (2개 나올 것이 확실하기 때문에)\n",
    "        key, value = config.rstrip().split('=')\n",
    "        #config 딕셔너리에 키-값 추가\n",
    "        telegram_config[key] = value\n",
    "\n",
    "\n",
    "print(telegram_config)\n",
    "token = telegram_config['token']\n",
    "chatId = telegram_config['chatId']\n",
    "lastId = telegram_config['lastId']"
   ]
  },
  {
   "cell_type": "code",
   "execution_count": 25,
   "metadata": {},
   "outputs": [
    {
     "data": {
      "text/plain": [
       "[<telegram.update.Update at 0x27d079a0700>]"
      ]
     },
     "execution_count": 25,
     "metadata": {},
     "output_type": "execute_result"
    }
   ],
   "source": [
    "bot = telegram.Bot(token)\n",
    "updates = bot.get_updates()\n",
    "updates"
   ]
  },
  {
   "cell_type": "code",
   "execution_count": 26,
   "metadata": {},
   "outputs": [
    {
     "data": {
      "text/plain": [
       "5662031911"
      ]
     },
     "execution_count": 26,
     "metadata": {},
     "output_type": "execute_result"
    }
   ],
   "source": [
    "chat_id = updates[-1].message.chat.id\n",
    "chat_id"
   ]
  },
  {
   "cell_type": "code",
   "execution_count": 106,
   "metadata": {},
   "outputs": [
    {
     "data": {
      "text/plain": [
       "<telegram.message.Message at 0x27d0a5bbc80>"
      ]
     },
     "execution_count": 106,
     "metadata": {},
     "output_type": "execute_result"
    }
   ],
   "source": [
    "img_url = 'https://ssl.pstatic.net/imgfinance/chart/marketindex/area/month3/FX_EURKRW.png?sidcode=20220919'\n",
    "chat_id = telegram_config['chatId']\n",
    "\n",
    "bot.sendPhoto(chat_id=chatId, photo=img_url, caption=\"더 자세한 환율정보를 원하시면 아래 링크를 클릭하세요.\", reply_markup={\n",
    "    \"inline_keyboard\": [\n",
    "                           [\n",
    "                               { \"text\": \"FX_EURKRW\", \"url\": \"https://ssl.pstatic.net/imgfinance/chart/marketindex/area/month3/FX_EURKRW.png?sidcode=20220919\" }\n",
    "                           ]\n",
    "                       ]})"
   ]
  },
  {
   "cell_type": "code",
   "execution_count": null,
   "metadata": {},
   "outputs": [],
   "source": [
    "split()\n",
    "[0] = 환율\n",
    "if [0]== 환율 이면\n",
    "[1] 값을 가지고\n",
    "특정 환율정보만 보내주는식으로\n",
    "미국\n",
    "{\n",
    "    '미국': 'USD',\n",
    "    '유럽':'EUC'\n",
    "} "
   ]
  },
  {
   "cell_type": "code",
   "execution_count": null,
   "metadata": {},
   "outputs": [],
   "source": []
  }
 ],
 "metadata": {
  "kernelspec": {
   "display_name": "Python 3.10.4 ('study')",
   "language": "python",
   "name": "python3"
  },
  "language_info": {
   "codemirror_mode": {
    "name": "ipython",
    "version": 3
   },
   "file_extension": ".py",
   "mimetype": "text/x-python",
   "name": "python",
   "nbconvert_exporter": "python",
   "pygments_lexer": "ipython3",
   "version": "3.10.4"
  },
  "orig_nbformat": 4,
  "vscode": {
   "interpreter": {
    "hash": "2a0060edd7d251760572a9face11b31d5845688b205e41687a3c0e7ba9f3ee93"
   }
  }
 },
 "nbformat": 4,
 "nbformat_minor": 2
}
