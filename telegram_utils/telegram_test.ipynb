{
 "cells": [
  {
   "cell_type": "code",
   "execution_count": 2,
   "metadata": {},
   "outputs": [
    {
     "name": "stdout",
     "output_type": "stream",
     "text": [
      "Requirement already satisfied: python-telegram-bot in d:\\a\\envs\\study\\lib\\site-packages (13.14)\n",
      "Requirement already satisfied: certifi in d:\\a\\envs\\study\\lib\\site-packages (from python-telegram-bot) (2022.6.15)\n",
      "Requirement already satisfied: pytz>=2018.6 in d:\\a\\envs\\study\\lib\\site-packages (from python-telegram-bot) (2022.2.1)\n",
      "Requirement already satisfied: cachetools==4.2.2 in d:\\a\\envs\\study\\lib\\site-packages (from python-telegram-bot) (4.2.2)\n",
      "Requirement already satisfied: APScheduler==3.6.3 in d:\\a\\envs\\study\\lib\\site-packages (from python-telegram-bot) (3.6.3)\n",
      "Requirement already satisfied: tornado==6.1 in d:\\a\\envs\\study\\lib\\site-packages (from python-telegram-bot) (6.1)\n",
      "Requirement already satisfied: setuptools>=0.7 in d:\\a\\envs\\study\\lib\\site-packages (from APScheduler==3.6.3->python-telegram-bot) (61.2.0)\n",
      "Requirement already satisfied: tzlocal>=1.2 in d:\\a\\envs\\study\\lib\\site-packages (from APScheduler==3.6.3->python-telegram-bot) (4.2)\n",
      "Requirement already satisfied: six>=1.4.0 in d:\\a\\envs\\study\\lib\\site-packages (from APScheduler==3.6.3->python-telegram-bot) (1.16.0)\n",
      "Requirement already satisfied: tzdata in d:\\a\\envs\\study\\lib\\site-packages (from tzlocal>=1.2->APScheduler==3.6.3->python-telegram-bot) (2022.2)\n",
      "Requirement already satisfied: pytz-deprecation-shim in d:\\a\\envs\\study\\lib\\site-packages (from tzlocal>=1.2->APScheduler==3.6.3->python-telegram-bot) (0.1.0.post0)\n",
      "Note: you may need to restart the kernel to use updated packages.\n"
     ]
    }
   ],
   "source": [
    "%pip install python-telegram-bot"
   ]
  },
  {
   "cell_type": "code",
   "execution_count": 2,
   "metadata": {},
   "outputs": [],
   "source": [
    "import telegram"
   ]
  },
  {
   "cell_type": "code",
   "execution_count": 3,
   "metadata": {},
   "outputs": [
    {
     "name": "stdout",
     "output_type": "stream",
     "text": [
      "{'token': '5782216675:AAH9FsDNrxOtRcsj-2ux63aoeQ55tbCwl0Q', 'chatId': '5662031911', 'lastId': '307922339'}\n"
     ]
    }
   ],
   "source": [
    "telegram_config = {}\n",
    "#config 파일 읽기\n",
    "with open('./telegram_config', 'r') as f:\n",
    "    #한 줄씩 읽어오기\n",
    "    configs = f.readlines()\n",
    "    #한 줄씩 확인해서\n",
    "    for config in configs:\n",
    "        #줄바꿈기호 제거 (\\n) 후 =로 문자열 분리\n",
    "        #key, value로 언패킹 (2개 나올 것이 확실하기 때문에)\n",
    "        key, value = config.rstrip().split('=')\n",
    "        #config 딕셔너리에 키-값 추가\n",
    "        telegram_config[key] = value\n",
    "\n",
    "\n",
    "print(telegram_config)\n",
    "token = telegram_config['token']\n",
    "chatId = telegram_config['chatId']\n",
    "lastId = telegram_config['lastId']\n",
    "\n"
   ]
  },
  {
   "cell_type": "code",
   "execution_count": 4,
   "metadata": {},
   "outputs": [],
   "source": [
    "bot = telegram.Bot(token)"
   ]
  },
  {
   "cell_type": "code",
   "execution_count": 5,
   "metadata": {},
   "outputs": [],
   "source": [
    "updates = bot.get_updates()"
   ]
  },
  {
   "cell_type": "code",
   "execution_count": 14,
   "metadata": {},
   "outputs": [
    {
     "data": {
      "text/plain": [
       "[<telegram.update.Update at 0x25ed0a4d9c0>,\n",
       " <telegram.update.Update at 0x25ed0a4db40>]"
      ]
     },
     "execution_count": 14,
     "metadata": {},
     "output_type": "execute_result"
    }
   ],
   "source": [
    "updates"
   ]
  },
  {
   "cell_type": "code",
   "execution_count": 15,
   "metadata": {},
   "outputs": [],
   "source": [
    "chat_id = updates[-1].message.chat.id\n",
    "#해당 메시지가 들어간 채팅방"
   ]
  },
  {
   "cell_type": "code",
   "execution_count": 16,
   "metadata": {},
   "outputs": [
    {
     "data": {
      "text/plain": [
       "-596397653"
      ]
     },
     "execution_count": 16,
     "metadata": {},
     "output_type": "execute_result"
    }
   ],
   "source": [
    "updates[-1].message.chat.id"
   ]
  },
  {
   "cell_type": "code",
   "execution_count": 17,
   "metadata": {},
   "outputs": [
    {
     "data": {
      "text/plain": [
       "<telegram.message.Message at 0x25eceda03a0>"
      ]
     },
     "execution_count": 17,
     "metadata": {},
     "output_type": "execute_result"
    }
   ],
   "source": [
    "bot.send_message(chat_id, '안녕하세요.')\n",
    "\n",
    "#봇이 해당 메시지를 보냄"
   ]
  },
  {
   "cell_type": "code",
   "execution_count": 19,
   "metadata": {},
   "outputs": [
    {
     "name": "stdout",
     "output_type": "stream",
     "text": [
      "44\n"
     ]
    }
   ],
   "source": [
    "updates[-1].message.text\n",
    "last_id = updates[-1].message.message_id\n",
    "print(last_id)\n",
    "\n",
    "#봇이랑 대화한 맨 마지막 메시지 불러오기"
   ]
  },
  {
   "cell_type": "code",
   "execution_count": 20,
   "metadata": {},
   "outputs": [
    {
     "data": {
      "text/plain": [
       "44"
      ]
     },
     "execution_count": 20,
     "metadata": {},
     "output_type": "execute_result"
    }
   ],
   "source": [
    "# bot.get_updates(offset=update\n",
    "last_id"
   ]
  },
  {
   "cell_type": "code",
   "execution_count": 21,
   "metadata": {},
   "outputs": [
    {
     "data": {
      "text/plain": [
       "<bound method Bot.get_updates of <telegram.bot.Bot object at 0x0000025ED0A8B990>>"
      ]
     },
     "execution_count": 21,
     "metadata": {},
     "output_type": "execute_result"
    }
   ],
   "source": [
    "bot.get_updates"
   ]
  },
  {
   "cell_type": "code",
   "execution_count": null,
   "metadata": {},
   "outputs": [],
   "source": []
  },
  {
   "cell_type": "code",
   "execution_count": 12,
   "metadata": {},
   "outputs": [],
   "source": [
    "import time\n",
    "while True:\n",
    "    updates = bot.get_updates(offset=last_message_id)[-1]\n",
    "    try:\n",
    "        new_message = bot.get_updates(offset=last_id)[-1]\n",
    "        if new_message.message.text == '오늘날씨':\n",
    "            bot.send_message(chat_id, '오늘 날씨는 화창합니다.')\n",
    "\n",
    "        elif new_\n",
    "\n",
    "    time.sleep(3)"
   ]
  },
  {
   "cell_type": "code",
   "execution_count": 13,
   "metadata": {},
   "outputs": [],
   "source": [
    "# bot.get_updates()[-1].update_id\n",
    "\n",
    "# 서버에서 텔레그램 메시지 확인, 응답 보내기\n",
    "import time\n",
    "\n",
    "while True:\n",
    "    \n",
    "    try:\n",
    "        # 신규 메시지가 없을 경우 에러가 발생 \n",
    "        # list index out of range\n",
    "        # 따라서, try - except 문으로 묶어줌\n",
    "        new_message = bot.get_updates(offset=last_id)[-1]\n",
    "\n",
    "        # 만약 신규 메시지가 오늘날씨면,\n",
    "        if new_message.message.text == '오늘날씨':\n",
    "            # 관련 메시지 발송\n",
    "            bot.send_message(chat_id, '오늘날씨는 화창합니다.')\n",
    "        # 만약 신규 메시지가 내일날씨면,\n",
    "        elif new_message.message.text == '내일날씨':\n",
    "            # 관련 메시지 발송\n",
    "            bot.send_message(chat_id, '내일날씨도 화창합니다.')\n",
    "\n",
    "        # offset 값 최신화 (update_id) + 1 해줘서 그 다음부터 메시지부터 확인하도록\n",
    "        last_id = new_message.update_id + 1\n",
    "    except:\n",
    "        pass\n",
    "\n",
    "    # 텔레그램 서버 부하 줄이기 위해 3초마다 확인\n",
    "    time.sleep(3)"
   ]
  },
  {
   "cell_type": "code",
   "execution_count": 22,
   "metadata": {},
   "outputs": [
    {
     "data": {
      "text/plain": [
       "44"
      ]
     },
     "execution_count": 22,
     "metadata": {},
     "output_type": "execute_result"
    }
   ],
   "source": [
    "last_id"
   ]
  },
  {
   "cell_type": "code",
   "execution_count": 9,
   "metadata": {},
   "outputs": [],
   "source": [
    "#실습6\n",
    "\n",
    "bot = telegram.Bot(token)"
   ]
  },
  {
   "cell_type": "code",
   "execution_count": 10,
   "metadata": {},
   "outputs": [
    {
     "ename": "NameError",
     "evalue": "name 'chat_id' is not defined",
     "output_type": "error",
     "traceback": [
      "\u001b[1;31m---------------------------------------------------------------------------\u001b[0m",
      "\u001b[1;31mNameError\u001b[0m                                 Traceback (most recent call last)",
      "\u001b[1;32md:\\새싹 금융데이터\\MJ-s_package\\(이걸봐)telegram_test.ipynb 셀 18\u001b[0m in \u001b[0;36m<cell line: 1>\u001b[1;34m()\u001b[0m\n\u001b[1;32m----> <a href='vscode-notebook-cell:/d%3A/%EC%83%88%EC%8B%B9%20%EA%B8%88%EC%9C%B5%EB%8D%B0%EC%9D%B4%ED%84%B0/MJ-s_package/%28%EC%9D%B4%EA%B1%B8%EB%B4%90%29telegram_test.ipynb#X23sZmlsZQ%3D%3D?line=0'>1</a>\u001b[0m bot\u001b[39m.\u001b[39msendMessage(chat_id, \u001b[39m'\u001b[39m\u001b[39m테스트\u001b[39m\u001b[39m'\u001b[39m)\n",
      "\u001b[1;31mNameError\u001b[0m: name 'chat_id' is not defined"
     ]
    }
   ],
   "source": [
    "bot.sendMessage(chat_id, '테스트')"
   ]
  },
  {
   "cell_type": "code",
   "execution_count": 11,
   "metadata": {},
   "outputs": [],
   "source": [
    "import requests\n",
    "URL = 'https://finance.naver.com/marketindex/exchangeList.naver'\n",
    "response = requests.get(URL)"
   ]
  },
  {
   "cell_type": "code",
   "execution_count": 12,
   "metadata": {},
   "outputs": [],
   "source": [
    "from bs4 import BeautifulSoup\n",
    "soup = BeautifulSoup(response.text, 'html.parser')"
   ]
  },
  {
   "cell_type": "code",
   "execution_count": 13,
   "metadata": {},
   "outputs": [],
   "source": [
    "def 환율():\n",
    "    URL = 'https://finance.naver.com/marketindex/exchangeList.naver'\n",
    "    response = requests.get(URL)\n",
    "    soup = BeautifulSoup(response.text, 'html.parser')\n",
    "    results = soup.select('tbody > tr')\n",
    "    final_result = []\n",
    "    result1 = soup.select('.tit')\n",
    "    result2 = soup.select('.sale')\n",
    "\n",
    "    for result in results:\n",
    "        #tbody > tr 검색한 것이 통화량 환율 등 한 행이니까 반복문을 돌리고 있음\n",
    "        #한 행별로 tit sale을 검색한다.(select_one 사용)\n",
    "        title = result.select_one('.tit').text.strip()\n",
    "        sale = result.select_one('.sale').text.strip()\n",
    "\n",
    "        temp = {\n",
    "            '통화명': title,\n",
    "            '환율': sale\n",
    "        }\n",
    "\n",
    "        final_result.append(temp)\n",
    "    \n",
    "    return final_result\n",
    "\n",
    "    #함수 안에 있는 변수는 밖에서 못씀\n",
    "    #지역변수 전역변수\n",
    "    #리턴을 달아주는 이유는 함수 안에서 실행돼서 밖에서 못쓰니까\n",
    "    #어떻게든 전달위해!!"
   ]
  },
  {
   "cell_type": "code",
   "execution_count": 14,
   "metadata": {},
   "outputs": [
    {
     "data": {
      "text/plain": [
       "[{'통화명': '미국 USD', '환율': '1,393.00'},\n",
       " {'통화명': '유럽연합 EUR', '환율': '1,389.87'},\n",
       " {'통화명': '일본 JPY (100엔)', '환율': '970.90'},\n",
       " {'통화명': '중국 CNY', '환율': '198.38'},\n",
       " {'통화명': '홍콩 HKD', '환율': '177.46'},\n",
       " {'통화명': '대만 TWD', '환율': '44.32'},\n",
       " {'통화명': '영국 GBP', '환율': '1,584.26'},\n",
       " {'통화명': '오만 OMR', '환율': '3,622.89'},\n",
       " {'통화명': '캐나다 CAD', '환율': '1,046.58'},\n",
       " {'통화명': '스위스 CHF', '환율': '1,442.10'},\n",
       " {'통화명': '스웨덴 SEK', '환율': '128.80'},\n",
       " {'통화명': '호주 AUD', '환율': '930.94'},\n",
       " {'통화명': '뉴질랜드 NZD', '환율': '829.11'},\n",
       " {'통화명': '체코 CZK', '환율': '56.77'},\n",
       " {'통화명': '칠레 CLP', '환율': '1.51'},\n",
       " {'통화명': '터키 TRY', '환율': '76.17'},\n",
       " {'통화명': '몽골 MNT', '환율': '0.43'},\n",
       " {'통화명': '이스라엘 ILS', '환율': '403.74'},\n",
       " {'통화명': '덴마크 DKK', '환율': '186.87'},\n",
       " {'통화명': '노르웨이 NOK', '환율': '135.41'},\n",
       " {'통화명': '사우디아라비아 SAR', '환율': '370.66'},\n",
       " {'통화명': '쿠웨이트 KWD', '환율': '4,508.09'},\n",
       " {'통화명': '바레인 BHD', '환율': '3,695.06'},\n",
       " {'통화명': '아랍에미리트 AED', '환율': '379.25'},\n",
       " {'통화명': '요르단 JOD', '환율': '1,964.74'},\n",
       " {'통화명': '이집트 EGP', '환율': '71.66'},\n",
       " {'통화명': '태국 THB', '환율': '37.62'},\n",
       " {'통화명': '싱가포르 SGD', '환율': '988.12'},\n",
       " {'통화명': '말레이시아 MYR', '환율': '306.15'},\n",
       " {'통화명': '인도네시아 IDR 100', '환율': '9.32'},\n",
       " {'통화명': '카타르 QAR', '환율': '381.04'},\n",
       " {'통화명': '카자흐스탄 KZT', '환율': '2.91'},\n",
       " {'통화명': '브루나이 BND', '환율': '988.12'},\n",
       " {'통화명': '인도 INR', '환율': '17.46'},\n",
       " {'통화명': '파키스탄 PKR', '환율': '5.86'},\n",
       " {'통화명': '방글라데시 BDT', '환율': '13.46'},\n",
       " {'통화명': '필리핀 PHP', '환율': '24.27'},\n",
       " {'통화명': '멕시코 MXN', '환율': '69.12'},\n",
       " {'통화명': '브라질 BRL', '환율': '265.11'},\n",
       " {'통화명': '베트남 VND 100', '환율': '5.88'},\n",
       " {'통화명': '남아프리카 공화국 ZAR', '환율': '78.46'},\n",
       " {'통화명': '러시아 RUB', '환율': '23.18'},\n",
       " {'통화명': '헝가리 HUF', '환율': '3.46'},\n",
       " {'통화명': '폴란드 PLN', '환율': '294.85'},\n",
       " {'통화명': '스리랑카 LKR', '환율': '3.83'},\n",
       " {'통화명': '알제리 DZD', '환율': '9.90'},\n",
       " {'통화명': '케냐 KES', '환율': '11.56'},\n",
       " {'통화명': '콜롬비아 COP', '환율': '0.31'},\n",
       " {'통화명': '탄자니아 TZS', '환율': '0.60'},\n",
       " {'통화명': '네팔 NPR', '환율': '10.91'},\n",
       " {'통화명': '루마니아 RON', '환율': '282.06'},\n",
       " {'통화명': '리비아 LYD', '환율': '280.89'},\n",
       " {'통화명': '마카오 MOP', '환율': '172.17'},\n",
       " {'통화명': '미얀마 MMK', '환율': '0.66'},\n",
       " {'통화명': '에티오피아 ETB', '환율': '26.37'},\n",
       " {'통화명': '우즈베키스탄 UZS', '환율': '0.13'},\n",
       " {'통화명': '캄보디아 KHR', '환율': '0.34'},\n",
       " {'통화명': '피지 FJD', '환율': '618.63'}]"
      ]
     },
     "execution_count": 14,
     "metadata": {},
     "output_type": "execute_result"
    }
   ],
   "source": [
    "환율()"
   ]
  },
  {
   "cell_type": "code",
   "execution_count": 15,
   "metadata": {},
   "outputs": [
    {
     "ename": "NameError",
     "evalue": "name 'final_result' is not defined",
     "output_type": "error",
     "traceback": [
      "\u001b[1;31m---------------------------------------------------------------------------\u001b[0m",
      "\u001b[1;31mNameError\u001b[0m                                 Traceback (most recent call last)",
      "\u001b[1;32md:\\새싹 금융데이터\\MJ-s_package\\(이걸봐)telegram_test.ipynb 셀 23\u001b[0m in \u001b[0;36m<cell line: 1>\u001b[1;34m()\u001b[0m\n\u001b[1;32m----> <a href='vscode-notebook-cell:/d%3A/%EC%83%88%EC%8B%B9%20%EA%B8%88%EC%9C%B5%EB%8D%B0%EC%9D%B4%ED%84%B0/MJ-s_package/%28%EC%9D%B4%EA%B1%B8%EB%B4%90%29telegram_test.ipynb#X31sZmlsZQ%3D%3D?line=0'>1</a>\u001b[0m final_result[\u001b[39m0\u001b[39m]\n\u001b[0;32m      <a href='vscode-notebook-cell:/d%3A/%EC%83%88%EC%8B%B9%20%EA%B8%88%EC%9C%B5%EB%8D%B0%EC%9D%B4%ED%84%B0/MJ-s_package/%28%EC%9D%B4%EA%B1%B8%EB%B4%90%29telegram_test.ipynb#X31sZmlsZQ%3D%3D?line=1'>2</a>\u001b[0m \u001b[39mtype\u001b[39m(final_result[\u001b[39m0\u001b[39m])\n\u001b[0;32m      <a href='vscode-notebook-cell:/d%3A/%EC%83%88%EC%8B%B9%20%EA%B8%88%EC%9C%B5%EB%8D%B0%EC%9D%B4%ED%84%B0/MJ-s_package/%28%EC%9D%B4%EA%B1%B8%EB%B4%90%29telegram_test.ipynb#X31sZmlsZQ%3D%3D?line=2'>3</a>\u001b[0m \u001b[39m#직접 키값을 정해서 \u001b[39;00m\n\u001b[0;32m      <a href='vscode-notebook-cell:/d%3A/%EC%83%88%EC%8B%B9%20%EA%B8%88%EC%9C%B5%EB%8D%B0%EC%9D%B4%ED%84%B0/MJ-s_package/%28%EC%9D%B4%EA%B1%B8%EB%B4%90%29telegram_test.ipynb#X31sZmlsZQ%3D%3D?line=3'>4</a>\u001b[0m \u001b[39m# 딕셔너리 자체로 보내면 변환하는 과정이 있을 것\u001b[39;00m\n\u001b[0;32m      <a href='vscode-notebook-cell:/d%3A/%EC%83%88%EC%8B%B9%20%EA%B8%88%EC%9C%B5%EB%8D%B0%EC%9D%B4%ED%84%B0/MJ-s_package/%28%EC%9D%B4%EA%B1%B8%EB%B4%90%29telegram_test.ipynb#X31sZmlsZQ%3D%3D?line=4'>5</a>\u001b[0m \u001b[39m# 아예 문자열로 만들어서 보내야 함\u001b[39;00m\n",
      "\u001b[1;31mNameError\u001b[0m: name 'final_result' is not defined"
     ]
    }
   ],
   "source": [
    "final_result[0]\n",
    "type(final_result[0])\n",
    "#직접 키값을 정해서 \n",
    "# 딕셔너리 자체로 보내면 변환하는 과정이 있을 것\n",
    "# 아예 문자열로 만들어서 보내야 함\n",
    "\n",
    "use_data = final_result[:2]\n",
    "\n",
    "message = ''\n",
    "for ud in use_data:\n",
    "    fx = ud['통화명']\n",
    "    sale = ud['환율']\n",
    "    message += str(fx) + ' ' + sale + '\\n'"
   ]
  },
  {
   "cell_type": "code",
   "execution_count": 31,
   "metadata": {},
   "outputs": [
    {
     "name": "stdout",
     "output_type": "stream",
     "text": [
      "{'token': '5782216675:AAH9FsDNrxOtRcsj-2ux63aoeQ55tbCwl0Q', 'chatId': '5662031911', 'lastId': '307922339', 'SeSAC': '-447930618'}\n"
     ]
    }
   ],
   "source": [
    "telegram_config = {}\n",
    "#config 파일 읽기\n",
    "with open('./telegram_config', 'r') as f:\n",
    "    #한 줄씩 읽어오기\n",
    "    configs = f.readlines()\n",
    "    #한 줄씩 확인해서\n",
    "    for config in configs:\n",
    "        #줄바꿈기호 제거 (\\n) 후 =로 문자열 분리\n",
    "        #key, value로 언패킹 (2개 나올 것이 확실하기 때문에)\n",
    "        key, value = config.rstrip().split('=')\n",
    "        #config 딕셔너리에 키-값 추가\n",
    "        telegram_config[key] = value\n",
    "\n",
    "\n",
    "print(telegram_config)\n",
    "token = telegram_config['token']\n",
    "chatId = telegram_config['chatId']\n",
    "lastId = telegram_config['lastId']\n"
   ]
  },
  {
   "cell_type": "code",
   "execution_count": 1,
   "metadata": {},
   "outputs": [
    {
     "ename": "NameError",
     "evalue": "name 'bot' is not defined",
     "output_type": "error",
     "traceback": [
      "\u001b[1;31m---------------------------------------------------------------------------\u001b[0m",
      "\u001b[1;31mNameError\u001b[0m                                 Traceback (most recent call last)",
      "\u001b[1;32md:\\새싹 금융데이터\\MJ-s_package\\(이걸봐)telegram_test.ipynb 셀 25\u001b[0m in \u001b[0;36m<cell line: 1>\u001b[1;34m()\u001b[0m\n\u001b[1;32m----> <a href='vscode-notebook-cell:/d%3A/%EC%83%88%EC%8B%B9%20%EA%B8%88%EC%9C%B5%EB%8D%B0%EC%9D%B4%ED%84%B0/MJ-s_package/%28%EC%9D%B4%EA%B1%B8%EB%B4%90%29telegram_test.ipynb#X33sZmlsZQ%3D%3D?line=0'>1</a>\u001b[0m bot\u001b[39m.\u001b[39msend_message(chat_id, final_result[\u001b[39m0\u001b[39m])\n",
      "\u001b[1;31mNameError\u001b[0m: name 'bot' is not defined"
     ]
    }
   ],
   "source": [
    "bot.send_message(chat_id, final_result[0])"
   ]
  },
  {
   "cell_type": "code",
   "execution_count": 65,
   "metadata": {},
   "outputs": [
    {
     "data": {
      "text/plain": [
       "<telegram.message.Message at 0x25ecf5527e0>"
      ]
     },
     "execution_count": 65,
     "metadata": {},
     "output_type": "execute_result"
    }
   ],
   "source": [
    "bot = telegram.Bot(token)\n",
    "bot.send_message(telegram_config['chatId'], message)"
   ]
  },
  {
   "cell_type": "code",
   "execution_count": null,
   "metadata": {},
   "outputs": [],
   "source": []
  },
  {
   "cell_type": "code",
   "execution_count": null,
   "metadata": {},
   "outputs": [],
   "source": []
  },
  {
   "cell_type": "code",
   "execution_count": null,
   "metadata": {},
   "outputs": [],
   "source": []
  },
  {
   "cell_type": "code",
   "execution_count": null,
   "metadata": {},
   "outputs": [],
   "source": []
  },
  {
   "cell_type": "code",
   "execution_count": null,
   "metadata": {},
   "outputs": [],
   "source": []
  },
  {
   "cell_type": "code",
   "execution_count": null,
   "metadata": {},
   "outputs": [],
   "source": []
  },
  {
   "cell_type": "code",
   "execution_count": null,
   "metadata": {},
   "outputs": [],
   "source": []
  },
  {
   "cell_type": "code",
   "execution_count": null,
   "metadata": {},
   "outputs": [],
   "source": []
  },
  {
   "cell_type": "code",
   "execution_count": null,
   "metadata": {},
   "outputs": [],
   "source": []
  }
 ],
 "metadata": {
  "kernelspec": {
   "display_name": "Python 3.10.4 ('study')",
   "language": "python",
   "name": "python3"
  },
  "language_info": {
   "codemirror_mode": {
    "name": "ipython",
    "version": 3
   },
   "file_extension": ".py",
   "mimetype": "text/x-python",
   "name": "python",
   "nbconvert_exporter": "python",
   "pygments_lexer": "ipython3",
   "version": "3.10.4"
  },
  "orig_nbformat": 4,
  "vscode": {
   "interpreter": {
    "hash": "2a0060edd7d251760572a9face11b31d5845688b205e41687a3c0e7ba9f3ee93"
   }
  }
 },
 "nbformat": 4,
 "nbformat_minor": 2
}
