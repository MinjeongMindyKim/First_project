{
 "cells": [
  {
   "cell_type": "markdown",
   "metadata": {},
   "source": [
    "# 해외 여행, 언제 갈래? [여행정보 크롤링]"
   ]
  },
  {
   "cell_type": "markdown",
   "metadata": {},
   "source": [
    "# PART 1 환율"
   ]
  },
  {
   "cell_type": "code",
   "execution_count": 1,
   "metadata": {},
   "outputs": [],
   "source": [
    "import requests\n",
    "\n",
    "import telegram"
   ]
  },
  {
   "cell_type": "markdown",
   "metadata": {},
   "source": [
    "# (1) 환율정보 함수 만들기 [def 함수]"
   ]
  },
  {
   "cell_type": "code",
   "execution_count": 2,
   "metadata": {},
   "outputs": [],
   "source": [
    "from bs4 import BeautifulSoup"
   ]
  },
  {
   "cell_type": "code",
   "execution_count": 3,
   "metadata": {},
   "outputs": [],
   "source": [
    "def 환율(country =''):\n",
    "    URL = 'https://finance.naver.com/marketindex/exchangeList.naver'\n",
    "    response = requests.get(URL)\n",
    "    soup = BeautifulSoup(response.text, 'html.parser')\n",
    "    results = soup.select('tbody > tr')\n",
    "    final_result = {}\n",
    "    result1 = soup.select('.tit')\n",
    "    result2 = soup.select('.sale')\n",
    "\n",
    "    for result in results:\n",
    "        #tbody > tr 검색한 것이 통화량 환율 등 한 행이니까 반복문을 돌리고 있음\n",
    "        #한 행별로 tit sale을 검색한다.(select_one 사용)\n",
    "        title = result.select_one('.tit').text.strip()\n",
    "        sale = result.select_one('.sale').text.strip()\n",
    "\n",
    "        temp = {\n",
    "            '통화명': title.split(),\n",
    "            '환율': sale\n",
    "        }\n",
    "\n",
    "        final_result.setdefault(title.split()[0], sale) #딕셔너리로 만들어라!!! 키는 타이틀 스플릿해서 앞에것만 가져오라, 밸류는 sale 넣어라 (split)\n",
    "        # {미국 : 1393.00, 유럽연합 : 1389.87} #정리한 다음에 미국, 유럽연합으로 함수의 인자(파라미터)를 받아라\n",
    "    if country == '':\n",
    "        return final_result\n",
    "    else:\n",
    "        return final_result[country]\n",
    "\n",
    "     #실습자료 보기\n",
    "\n",
    "    #함수 안에 있는 변수는 밖에서 못씀\n",
    "    #지역변수 전역변수\n",
    "    #리턴을 달아주는 이유는 함수 안에서 실행돼서 밖에서 못쓰니까\n",
    "    #어떻게든 전달위해!!\n",
    "    #문자열로 만드는 연습을 해라"
   ]
  },
  {
   "cell_type": "markdown",
   "metadata": {},
   "source": [
    "##(시현)내가 가장 가고 싶은 나라 2개 추출해보기 (미국 & 유럽연합)"
   ]
  },
  {
   "cell_type": "code",
   "execution_count": 4,
   "metadata": {},
   "outputs": [
    {
     "data": {
      "text/plain": [
       "{'미국': '1,441.00',\n",
       " '유럽연합': '1,412.32',\n",
       " '일본': '995.41',\n",
       " '중국': '201.77',\n",
       " '홍콩': '183.57',\n",
       " '대만': '45.29',\n",
       " '영국': '1,608.44',\n",
       " '오만': '3,742.76',\n",
       " '캐나다': '1,042.09',\n",
       " '스위스': '1,459.98',\n",
       " '스웨덴': '130.07',\n",
       " '호주': '922.82',\n",
       " '뉴질랜드': '806.38',\n",
       " '체코': '57.44',\n",
       " '칠레': '1.49',\n",
       " '터키': '77.88',\n",
       " '몽골': '0.43',\n",
       " '이스라엘': '404.18',\n",
       " '덴마크': '190.00',\n",
       " '노르웨이': '132.28',\n",
       " '사우디아라비아': '383.55',\n",
       " '쿠웨이트': '4,648.99',\n",
       " '바레인': '3,818.74',\n",
       " '아랍에미리트': '392.31',\n",
       " '요르단': '2,032.44',\n",
       " '이집트': '73.75',\n",
       " '태국': '38.09',\n",
       " '싱가포르': '1,003.97',\n",
       " '말레이시아': '310.76',\n",
       " '인도네시아': '9.48',\n",
       " '카타르': '393.29',\n",
       " '카자흐스탄': '3.02',\n",
       " '브루나이': '1,002.92',\n",
       " '인도': '17.68',\n",
       " '파키스탄': '6.32',\n",
       " '방글라데시': '14.23',\n",
       " '필리핀': '24.52',\n",
       " '멕시코': '71.52',\n",
       " '브라질': '266.08',\n",
       " '베트남': '6.04',\n",
       " '남아프리카': '79.38',\n",
       " '러시아': '23.94',\n",
       " '헝가리': '3.34',\n",
       " '폴란드': '290.79',\n",
       " '스리랑카': '3.94',\n",
       " '알제리': '10.23',\n",
       " '케냐': '11.93',\n",
       " '콜롬비아': '0.31',\n",
       " '탄자니아': '0.62',\n",
       " '네팔': '11.07',\n",
       " '루마니아': '285.34',\n",
       " '리비아': '285.20',\n",
       " '마카오': '178.10',\n",
       " '미얀마': '0.69',\n",
       " '에티오피아': '27.27',\n",
       " '우즈베키스탄': '0.13',\n",
       " '캄보디아': '0.35',\n",
       " '피지': '623.74'}"
      ]
     },
     "execution_count": 4,
     "metadata": {},
     "output_type": "execute_result"
    }
   ],
   "source": [
    "환율()\n",
    "#딕셔너리에 저장"
   ]
  },
  {
   "cell_type": "code",
   "execution_count": 5,
   "metadata": {},
   "outputs": [
    {
     "data": {
      "text/plain": [
       "'1,412.32'"
      ]
     },
     "execution_count": 5,
     "metadata": {},
     "output_type": "execute_result"
    }
   ],
   "source": [
    "환율('유럽연합')\n",
    "#환율 미국 검색시 그래프랑 & 특정 환율만 보이게!\n"
   ]
  },
  {
   "cell_type": "markdown",
   "metadata": {},
   "source": [
    "# (2) 3개월간 국제 시장 환율 변동 측정 & 텔레그램으로 그래프 및 링크 보내기"
   ]
  },
  {
   "cell_type": "code",
   "execution_count": 6,
   "metadata": {},
   "outputs": [],
   "source": [
    "import requests\n",
    "from bs4 import BeautifulSoup"
   ]
  },
  {
   "cell_type": "code",
   "execution_count": 7,
   "metadata": {},
   "outputs": [
    {
     "data": {
      "text/plain": [
       "200"
      ]
     },
     "execution_count": 7,
     "metadata": {},
     "output_type": "execute_result"
    }
   ],
   "source": [
    "BASE_URL = 'https://finance.naver.com/marketindex/exchangeDetail.naver?marketindexCd'\n",
    "parameters = '=FX_EURKRW#'\n",
    "\n",
    "URL = BASE_URL + parameters\n",
    "res = requests.get(URL)\n",
    "\n",
    "res.status_code"
   ]
  },
  {
   "cell_type": "code",
   "execution_count": 8,
   "metadata": {},
   "outputs": [
    {
     "name": "stdout",
     "output_type": "stream",
     "text": [
      "https://ssl.pstatic.net/imgfinance/chart/marketindex/area/month3/FX_EURKRW.png\n"
     ]
    }
   ],
   "source": [
    "soup = BeautifulSoup(res.text, 'html.parser')\n",
    "result = soup.select_one('.flash_area > img') \n",
    "graph = result.attrs['src']\n",
    "#이미지를 크롤링\n",
    "#속성으로 접근\n",
    "\n",
    "print(graph)"
   ]
  },
  {
   "cell_type": "code",
   "execution_count": 9,
   "metadata": {},
   "outputs": [],
   "source": [
    "import telegram"
   ]
  },
  {
   "cell_type": "code",
   "execution_count": 10,
   "metadata": {},
   "outputs": [
    {
     "name": "stdout",
     "output_type": "stream",
     "text": [
      "{'token': '5782216675:AAH9FsDNrxOtRcsj-2ux63aoeQ55tbCwl0Q', 'chatId': '5662031911', 'lastId': '307922339'}\n"
     ]
    }
   ],
   "source": [
    "telegram_config = {}\n",
    "#config 파일 읽기\n",
    "with open('./telegram_config', 'r') as f:\n",
    "    #한 줄씩 읽어오기\n",
    "    configs = f.readlines()\n",
    "    #한 줄씩 확인해서\n",
    "    for config in configs:\n",
    "        #줄바꿈기호 제거 (\\n) 후 =로 문자열 분리\n",
    "        #key, value로 언패킹 (2개 나올 것이 확실하기 때문에)\n",
    "        key, value = config.rstrip().split('=')\n",
    "        #config 딕셔너리에 키-값 추가\n",
    "        telegram_config[key] = value\n",
    "\n",
    "\n",
    "print(telegram_config)\n",
    "token = telegram_config['token']\n",
    "chatId = telegram_config['chatId']\n",
    "lastId = telegram_config['lastId']"
   ]
  },
  {
   "cell_type": "code",
   "execution_count": 11,
   "metadata": {},
   "outputs": [
    {
     "data": {
      "text/plain": [
       "[]"
      ]
     },
     "execution_count": 11,
     "metadata": {},
     "output_type": "execute_result"
    }
   ],
   "source": [
    "bot = telegram.Bot(token)\n",
    "updates = bot.get_updates()\n",
    "updates"
   ]
  },
  {
   "cell_type": "code",
   "execution_count": 33,
   "metadata": {},
   "outputs": [
    {
     "ename": "IndexError",
     "evalue": "list index out of range",
     "output_type": "error",
     "traceback": [
      "\u001b[1;31m---------------------------------------------------------------------------\u001b[0m",
      "\u001b[1;31mIndexError\u001b[0m                                Traceback (most recent call last)",
      "\u001b[1;32md:\\새싹 금융데이터\\MJ-s_package\\telegram_utils\\code.ipynb 셀 17\u001b[0m in \u001b[0;36m<cell line: 2>\u001b[1;34m()\u001b[0m\n\u001b[0;32m      <a href='vscode-notebook-cell:/d%3A/%EC%83%88%EC%8B%B9%20%EA%B8%88%EC%9C%B5%EB%8D%B0%EC%9D%B4%ED%84%B0/MJ-s_package/telegram_utils/code.ipynb#X22sZmlsZQ%3D%3D?line=0'>1</a>\u001b[0m chatId \u001b[39m=\u001b[39m bot\u001b[39m.\u001b[39mgetUpdates()[\u001b[39m-\u001b[39m\u001b[39m1\u001b[39m]\u001b[39m.\u001b[39mmessage\u001b[39m.\u001b[39mchat\u001b[39m.\u001b[39mid\n\u001b[1;32m----> <a href='vscode-notebook-cell:/d%3A/%EC%83%88%EC%8B%B9%20%EA%B8%88%EC%9C%B5%EB%8D%B0%EC%9D%B4%ED%84%B0/MJ-s_package/telegram_utils/code.ipynb#X22sZmlsZQ%3D%3D?line=1'>2</a>\u001b[0m chatId \u001b[39m=\u001b[39m updates[\u001b[39m-\u001b[39;49m\u001b[39m1\u001b[39;49m]\u001b[39m.\u001b[39mmessage\u001b[39m.\u001b[39mchat\u001b[39m.\u001b[39mid\n",
      "\u001b[1;31mIndexError\u001b[0m: list index out of range"
     ]
    }
   ],
   "source": [
    "chatId = bot.getUpdates()[-1].message.chat.id\n",
    "chatId = updates[-1].message.chat.id\n",
    "# chatId"
   ]
  },
  {
   "cell_type": "code",
   "execution_count": 34,
   "metadata": {},
   "outputs": [],
   "source": [
    "URL = 'https://finance.naver.com/marketindex/exchangeList.naver'\n",
    "response = requests.get(URL)\n",
    "soup = BeautifulSoup(response.text, 'html.parser')\n",
    "results = soup.select('tbody > tr')\n",
    "country_dic = {}\n",
    "for result in results:\n",
    "    title = result.select_one('.tit').text.strip().split(' ')\n",
    "    country_dic.setdefault(title[0],title[1])\n",
    "    "
   ]
  },
  {
   "cell_type": "code",
   "execution_count": 35,
   "metadata": {},
   "outputs": [
    {
     "data": {
      "text/plain": [
       "{'미국': 'USD',\n",
       " '유럽연합': 'EUR',\n",
       " '일본': 'JPY',\n",
       " '중국': 'CNY',\n",
       " '홍콩': 'HKD',\n",
       " '대만': 'TWD',\n",
       " '영국': 'GBP',\n",
       " '오만': 'OMR',\n",
       " '캐나다': 'CAD',\n",
       " '스위스': 'CHF',\n",
       " '스웨덴': 'SEK',\n",
       " '호주': 'AUD',\n",
       " '뉴질랜드': 'NZD',\n",
       " '체코': 'CZK',\n",
       " '칠레': 'CLP',\n",
       " '터키': 'TRY',\n",
       " '몽골': 'MNT',\n",
       " '이스라엘': 'ILS',\n",
       " '덴마크': 'DKK',\n",
       " '노르웨이': 'NOK',\n",
       " '사우디아라비아': 'SAR',\n",
       " '쿠웨이트': 'KWD',\n",
       " '바레인': 'BHD',\n",
       " '아랍에미리트': 'AED',\n",
       " '요르단': 'JOD',\n",
       " '이집트': 'EGP',\n",
       " '태국': 'THB',\n",
       " '싱가포르': 'SGD',\n",
       " '말레이시아': 'MYR',\n",
       " '인도네시아': 'IDR',\n",
       " '카타르': 'QAR',\n",
       " '카자흐스탄': 'KZT',\n",
       " '브루나이': 'BND',\n",
       " '인도': 'INR',\n",
       " '파키스탄': 'PKR',\n",
       " '방글라데시': 'BDT',\n",
       " '필리핀': 'PHP',\n",
       " '멕시코': 'MXN',\n",
       " '브라질': 'BRL',\n",
       " '베트남': 'VND',\n",
       " '남아프리카': '공화국',\n",
       " '러시아': 'RUB',\n",
       " '헝가리': 'HUF',\n",
       " '폴란드': 'PLN',\n",
       " '스리랑카': 'LKR',\n",
       " '알제리': 'DZD',\n",
       " '케냐': 'KES',\n",
       " '콜롬비아': 'COP',\n",
       " '탄자니아': 'TZS',\n",
       " '네팔': 'NPR',\n",
       " '루마니아': 'RON',\n",
       " '리비아': 'LYD',\n",
       " '마카오': 'MOP',\n",
       " '미얀마': 'MMK',\n",
       " '에티오피아': 'ETB',\n",
       " '우즈베키스탄': 'UZS',\n",
       " '캄보디아': 'KHR',\n",
       " '피지': 'FJD'}"
      ]
     },
     "execution_count": 35,
     "metadata": {},
     "output_type": "execute_result"
    }
   ],
   "source": [
    "country_dic"
   ]
  },
  {
   "cell_type": "code",
   "execution_count": 36,
   "metadata": {},
   "outputs": [],
   "source": [
    "# 이미지 파일 함수 만들기\n",
    "from datetime import datetime\n",
    "def url(country):\n",
    "    url1 ='https://ssl.pstatic.net/imgfinance/chart/marketindex/area/month3/FX_'\n",
    "    url2 = 'KRW.png?'\n",
    "    today = datetime.today()\n",
    "    sidcode= int(today.strftime('%Y%m%d'))\n",
    "\n",
    "    img_url = url1 +country_dic[country] +url2+str(sidcode) ##datetime\n",
    "    # chat_id = telegram_config['chatId']\n",
    "\n",
    "    return img_url"
   ]
  },
  {
   "cell_type": "code",
   "execution_count": 17,
   "metadata": {},
   "outputs": [],
   "source": [
    "# Country_list=[]\n",
    "# for Country1 in country_dic:\n",
    "#     Country_list.append(Country1)\n",
    "# print(Country_list)"
   ]
  },
  {
   "cell_type": "code",
   "execution_count": 65,
   "metadata": {},
   "outputs": [],
   "source": [
    "# for con in Country_list:\n",
    "#     img_url=url(con)\n",
    "#     print(img_url)\n"
   ]
  },
  {
   "cell_type": "code",
   "execution_count": 51,
   "metadata": {},
   "outputs": [],
   "source": [
    "\n",
    "# img_url=url('')\n"
   ]
  },
  {
   "cell_type": "code",
   "execution_count": 37,
   "metadata": {},
   "outputs": [
    {
     "ename": "NameError",
     "evalue": "name 'img_url' is not defined",
     "output_type": "error",
     "traceback": [
      "\u001b[1;31m---------------------------------------------------------------------------\u001b[0m",
      "\u001b[1;31mNameError\u001b[0m                                 Traceback (most recent call last)",
      "\u001b[1;32md:\\새싹 금융데이터\\MJ-s_package\\telegram_utils\\code.ipynb 셀 24\u001b[0m in \u001b[0;36m<cell line: 1>\u001b[1;34m()\u001b[0m\n\u001b[1;32m----> <a href='vscode-notebook-cell:/d%3A/%EC%83%88%EC%8B%B9%20%EA%B8%88%EC%9C%B5%EB%8D%B0%EC%9D%B4%ED%84%B0/MJ-s_package/telegram_utils/code.ipynb#X32sZmlsZQ%3D%3D?line=0'>1</a>\u001b[0m img_url\n",
      "\u001b[1;31mNameError\u001b[0m: name 'img_url' is not defined"
     ]
    }
   ],
   "source": [
    "img_url"
   ]
  },
  {
   "cell_type": "code",
   "execution_count": 40,
   "metadata": {},
   "outputs": [],
   "source": [
    "# sendphoto 함수\n",
    "def sendPhoto(country):\n",
    "    bot.sendPhoto(chat_id=chatId, photo=url(country), caption=\"현재 환율: \" + 환율(country), reply_markup={\n",
    "        \"inline_keyboard\": [\n",
    "                            [\n",
    "                                {\"text\": \"더 자세한 환율정보를 보시려면 클릭\", \"url\" : 'https://finance.naver.com/marketindex/exchangeDetail.naver?marketindexCd=FX_'+country_dic[country]+'KRW#' }\n",
    "                            ]\n",
    "                        ]})"
   ]
  },
  {
   "cell_type": "code",
   "execution_count": 41,
   "metadata": {},
   "outputs": [
    {
     "ename": "NameError",
     "evalue": "name 'context' is not defined",
     "output_type": "error",
     "traceback": [
      "\u001b[1;31m---------------------------------------------------------------------------\u001b[0m",
      "\u001b[1;31mNameError\u001b[0m                                 Traceback (most recent call last)",
      "\u001b[1;32md:\\새싹 금융데이터\\MJ-s_package\\telegram_utils\\code.ipynb 셀 26\u001b[0m in \u001b[0;36m<cell line: 1>\u001b[1;34m()\u001b[0m\n\u001b[1;32m----> <a href='vscode-notebook-cell:/d%3A/%EC%83%88%EC%8B%B9%20%EA%B8%88%EC%9C%B5%EB%8D%B0%EC%9D%B4%ED%84%B0/MJ-s_package/telegram_utils/code.ipynb#X34sZmlsZQ%3D%3D?line=0'>1</a>\u001b[0m sendPhoto(\u001b[39m'\u001b[39;49m\u001b[39m터키\u001b[39;49m\u001b[39m'\u001b[39;49m)\n",
      "\u001b[1;32md:\\새싹 금융데이터\\MJ-s_package\\telegram_utils\\code.ipynb 셀 26\u001b[0m in \u001b[0;36msendPhoto\u001b[1;34m(country)\u001b[0m\n\u001b[0;32m      <a href='vscode-notebook-cell:/d%3A/%EC%83%88%EC%8B%B9%20%EA%B8%88%EC%9C%B5%EB%8D%B0%EC%9D%B4%ED%84%B0/MJ-s_package/telegram_utils/code.ipynb#X34sZmlsZQ%3D%3D?line=1'>2</a>\u001b[0m \u001b[39mdef\u001b[39;00m \u001b[39msendPhoto\u001b[39m(country):\n\u001b[1;32m----> <a href='vscode-notebook-cell:/d%3A/%EC%83%88%EC%8B%B9%20%EA%B8%88%EC%9C%B5%EB%8D%B0%EC%9D%B4%ED%84%B0/MJ-s_package/telegram_utils/code.ipynb#X34sZmlsZQ%3D%3D?line=2'>3</a>\u001b[0m     bot\u001b[39m.\u001b[39msendPhoto(chat_id\u001b[39m=\u001b[39mchatId, photo\u001b[39m=\u001b[39murl(country), caption\u001b[39m=\u001b[39m\u001b[39m\"\u001b[39m\u001b[39m[\u001b[39m\u001b[39m{}\u001b[39;00m\u001b[39m] 현재 환율: \u001b[39m\u001b[39m\"\u001b[39m\u001b[39m.\u001b[39mformat( context\u001b[39m.\u001b[39margs[\u001b[39m0\u001b[39m] ) \u001b[39m+\u001b[39m country, reply_markup\u001b[39m=\u001b[39m{\n\u001b[0;32m      <a href='vscode-notebook-cell:/d%3A/%EC%83%88%EC%8B%B9%20%EA%B8%88%EC%9C%B5%EB%8D%B0%EC%9D%B4%ED%84%B0/MJ-s_package/telegram_utils/code.ipynb#X34sZmlsZQ%3D%3D?line=3'>4</a>\u001b[0m         \u001b[39m\"\u001b[39m\u001b[39minline_keyboard\u001b[39m\u001b[39m\"\u001b[39m: [\n\u001b[0;32m      <a href='vscode-notebook-cell:/d%3A/%EC%83%88%EC%8B%B9%20%EA%B8%88%EC%9C%B5%EB%8D%B0%EC%9D%B4%ED%84%B0/MJ-s_package/telegram_utils/code.ipynb#X34sZmlsZQ%3D%3D?line=4'>5</a>\u001b[0m                             [\n\u001b[0;32m      <a href='vscode-notebook-cell:/d%3A/%EC%83%88%EC%8B%B9%20%EA%B8%88%EC%9C%B5%EB%8D%B0%EC%9D%B4%ED%84%B0/MJ-s_package/telegram_utils/code.ipynb#X34sZmlsZQ%3D%3D?line=5'>6</a>\u001b[0m                                 {\u001b[39m\"\u001b[39m\u001b[39mtext\u001b[39m\u001b[39m\"\u001b[39m: \u001b[39m\"\u001b[39m\u001b[39m더 자세한 환율정보를 보시려면 클릭\u001b[39m\u001b[39m\"\u001b[39m, \u001b[39m\"\u001b[39m\u001b[39murl\u001b[39m\u001b[39m\"\u001b[39m : \u001b[39m'\u001b[39m\u001b[39mhttps://finance.naver.com/marketindex/exchangeDetail.naver?marketindexCd=FX_\u001b[39m\u001b[39m'\u001b[39m\u001b[39m+\u001b[39mcountry_dic[country]\u001b[39m+\u001b[39m\u001b[39m'\u001b[39m\u001b[39mKRW#\u001b[39m\u001b[39m'\u001b[39m }\n\u001b[0;32m      <a href='vscode-notebook-cell:/d%3A/%EC%83%88%EC%8B%B9%20%EA%B8%88%EC%9C%B5%EB%8D%B0%EC%9D%B4%ED%84%B0/MJ-s_package/telegram_utils/code.ipynb#X34sZmlsZQ%3D%3D?line=6'>7</a>\u001b[0m                             ]\n\u001b[0;32m      <a href='vscode-notebook-cell:/d%3A/%EC%83%88%EC%8B%B9%20%EA%B8%88%EC%9C%B5%EB%8D%B0%EC%9D%B4%ED%84%B0/MJ-s_package/telegram_utils/code.ipynb#X34sZmlsZQ%3D%3D?line=7'>8</a>\u001b[0m                         ]})\n",
      "\u001b[1;31mNameError\u001b[0m: name 'context' is not defined"
     ]
    }
   ],
   "source": [
    "sendPhoto('터키')"
   ]
  },
  {
   "cell_type": "markdown",
   "metadata": {},
   "source": [
    "# PART 2 축제"
   ]
  },
  {
   "cell_type": "markdown",
   "metadata": {},
   "source": [
    "# (1) 축제정보 함수 만들기 [def 축제]"
   ]
  },
  {
   "cell_type": "code",
   "execution_count": 20,
   "metadata": {},
   "outputs": [],
   "source": [
    "from bs4 import BeautifulSoup"
   ]
  },
  {
   "cell_type": "code",
   "execution_count": 29,
   "metadata": {},
   "outputs": [],
   "source": [
    "def 축제(country, festa_date):\n",
    "    datetime3 = datetime.strptime(festa_date, '%Y.%m.%d')\n",
    "\n",
    "    headers= {'user-agent': 'Mozilla/5.0 (Windows NT 10.0; Win64; x64) AppleWebKit/537.36 (KHTML, like Gecko) Chrome/105.0.0.0 Safari/537.36'}\n",
    "    BASE_URL = 'https://search.naver.com/search.naver?where=nexearch&sm=tab_etc&mra=bk5C&qvt=0'\n",
    "    parameters = '&query=' + country + ' 축제'\n",
    "\n",
    "    URL = BASE_URL + parameters\n",
    "    res = requests.get(URL, headers=headers)\n",
    "    soup = BeautifulSoup(res.text, 'html.parser')\n",
    "    final_result2 = []\n",
    "    \n",
    "    #행을 나누기\n",
    "    festival = soup.select('.scroll tr')\n",
    "    festival_list = festival[1:]\n",
    "    # print(festival_list)\n",
    "    for result in festival_list:\n",
    "        result_title = result.select('td')[0].text\n",
    "        result_time = result.select('td')[1].text\n",
    "        result_place = result.select('td')[2].text\n",
    "\n",
    "        temp = {\n",
    "            '축제명': result_title,\n",
    "            '기간(현지기준)': result_time,\n",
    "            '장소' : result_place\n",
    "        }\n",
    "    \n",
    "        try:\n",
    "            travel_list2 = result_time.split('~')\n",
    "            temp2 = travel_list2[0].split('.')[0].strip() + '.' + travel_list2[1].strip()\n",
    "            start_date = datetime.strptime(travel_list2[0].strip(), '%Y.%m.%d.')\n",
    "            final_date = datetime.strptime(temp2.strip(), '%Y.%m.%d.')\n",
    "            result_time =travel_list2[0] + '~ ' + temp2\n",
    "\n",
    "            if start_date < datetime3 < final_date:\n",
    "                print('축제기간 맞음')\n",
    "                final_result2.append(temp)\n",
    "\n",
    "            # print(start_date)\n",
    "            # print(final_date)\n",
    "        except:\n",
    "            pass\n",
    "\n",
    "    message = ''\n",
    "    for i in final_result2: #딕셔너리i\n",
    "        # print(i['축제명'])\n",
    "        # print(i['기간(현지기준)'])\n",
    "        # print(i['장소'])\n",
    "        \n",
    "        message += i['축제명'] + i['기간(현지기준)'] + i['장소'] + '\\n'\n",
    "    \n",
    "        #딕셔너리에서 축제명, 기간, 장소로 (key)로 접근해서 값을 가져와라.\n",
    "    \n",
    "    return message"
   ]
  },
  {
   "cell_type": "code",
   "execution_count": 33,
   "metadata": {},
   "outputs": [
    {
     "name": "stdout",
     "output_type": "stream",
     "text": [
      "축제기간 맞음\n",
      " LA 오토쇼   2022.11.18. ~ 11.27.   미국 캘리포니아주 로스앤젤레스 컨벤션센터 \n",
      "\n"
     ]
    }
   ],
   "source": [
    "print(축제('미국', '2022.11.19'))"
   ]
  },
  {
   "cell_type": "markdown",
   "metadata": {},
   "source": [
    "# (2) 나라이름 검색시 해당 나라의 축제 리스트 추출"
   ]
  },
  {
   "cell_type": "code",
   "execution_count": 16,
   "metadata": {},
   "outputs": [],
   "source": [
    "# festa1 = '미국'"
   ]
  },
  {
   "cell_type": "code",
   "execution_count": 17,
   "metadata": {},
   "outputs": [
    {
     "ename": "TypeError",
     "evalue": "string indices must be integers",
     "output_type": "error",
     "traceback": [
      "\u001b[1;31m---------------------------------------------------------------------------\u001b[0m",
      "\u001b[1;31mTypeError\u001b[0m                                 Traceback (most recent call last)",
      "\u001b[1;32md:\\새싹 금융데이터\\MJ-s_package\\code.ipynb 셀 35\u001b[0m in \u001b[0;36m<cell line: 2>\u001b[1;34m()\u001b[0m\n\u001b[0;32m      <a href='vscode-notebook-cell:/d%3A/%EC%83%88%EC%8B%B9%20%EA%B8%88%EC%9C%B5%EB%8D%B0%EC%9D%B4%ED%84%B0/MJ-s_package/code.ipynb#X45sZmlsZQ%3D%3D?line=0'>1</a>\u001b[0m message \u001b[39m=\u001b[39m \u001b[39m'\u001b[39m\u001b[39m'\u001b[39m\n\u001b[0;32m      <a href='vscode-notebook-cell:/d%3A/%EC%83%88%EC%8B%B9%20%EA%B8%88%EC%9C%B5%EB%8D%B0%EC%9D%B4%ED%84%B0/MJ-s_package/code.ipynb#X45sZmlsZQ%3D%3D?line=1'>2</a>\u001b[0m \u001b[39mfor\u001b[39;00m i \u001b[39min\u001b[39;00m festa1: \u001b[39m#딕셔너리i\u001b[39;00m\n\u001b[1;32m----> <a href='vscode-notebook-cell:/d%3A/%EC%83%88%EC%8B%B9%20%EA%B8%88%EC%9C%B5%EB%8D%B0%EC%9D%B4%ED%84%B0/MJ-s_package/code.ipynb#X45sZmlsZQ%3D%3D?line=2'>3</a>\u001b[0m     \u001b[39mprint\u001b[39m(i[\u001b[39m'\u001b[39;49m\u001b[39m축제명\u001b[39;49m\u001b[39m'\u001b[39;49m])\n\u001b[0;32m      <a href='vscode-notebook-cell:/d%3A/%EC%83%88%EC%8B%B9%20%EA%B8%88%EC%9C%B5%EB%8D%B0%EC%9D%B4%ED%84%B0/MJ-s_package/code.ipynb#X45sZmlsZQ%3D%3D?line=3'>4</a>\u001b[0m     \u001b[39mprint\u001b[39m(i[\u001b[39m'\u001b[39m\u001b[39m기간(현지기준)\u001b[39m\u001b[39m'\u001b[39m])\n\u001b[0;32m      <a href='vscode-notebook-cell:/d%3A/%EC%83%88%EC%8B%B9%20%EA%B8%88%EC%9C%B5%EB%8D%B0%EC%9D%B4%ED%84%B0/MJ-s_package/code.ipynb#X45sZmlsZQ%3D%3D?line=4'>5</a>\u001b[0m     \u001b[39mprint\u001b[39m(i[\u001b[39m'\u001b[39m\u001b[39m장소\u001b[39m\u001b[39m'\u001b[39m])\n",
      "\u001b[1;31mTypeError\u001b[0m: string indices must be integers"
     ]
    }
   ],
   "source": [
    "# message = ''\n",
    "# for i in festa1: #딕셔너리i\n",
    "#     # print(i['축제명'])\n",
    "#     # print(i['기간(현지기준)'])\n",
    "#     # print(i['장소'])\n",
    "    \n",
    "#     message += i['축제명'] + i['기간(현지기준)'] + i['장소'] + '\\n'\n",
    "#     #딕셔너리에서 축제명, 기간, 장소로 (key)로 접근해서 값을 가져와라.\n"
   ]
  },
  {
   "cell_type": "code",
   "execution_count": 35,
   "metadata": {},
   "outputs": [
    {
     "data": {
      "text/plain": [
       "<telegram.message.Message at 0x172870d1840>"
      ]
     },
     "execution_count": 35,
     "metadata": {},
     "output_type": "execute_result"
    }
   ],
   "source": [
    "bot.send_message(telegram_config['chatId'], 축제('타이완'))"
   ]
  },
  {
   "cell_type": "code",
   "execution_count": 85,
   "metadata": {},
   "outputs": [],
   "source": [
    "## #cmd_handler_bot.py"
   ]
  },
  {
   "cell_type": "code",
   "execution_count": null,
   "metadata": {},
   "outputs": [],
   "source": [
    "# from telegram.ext import Updater\n",
    "# from telegram.ext import CommandHandler\n",
    " \n",
    "# BOT_TOKEN='5782216675:AAH9FsDNrxOtRcsj-2ux63aoeQ55tbCwl0Q'\n",
    " \n",
    "# updater = Updater( token=BOT_TOKEN, use_context=True )\n",
    "# dispatcher = updater.dispatcher\n",
    " \n",
    "\n",
    "# def 나라_환율(update, context):\n",
    "#     country = 환율(context.args[0])\n",
    "#     url_cou = url(context.args[0])\n",
    "#     context.bot.sendPhoto(chat_id=update.effective_chat.id, photo=url_cou, caption=\"현재 환율: \" + country, reply_markup={\n",
    "#         \"inline_keyboard\": [\n",
    "#                             [\n",
    "#                                 {\"text\": \"더 자세한 환율정보를 보시려면 클릭\", \"url\" : 'https://finance.naver.com/marketindex/exchangeDetail.naver?marketindexCd=FX_'+country_dic[context.args[0]]+'KRW#' }\n",
    "#                             ]\n",
    "#                         ]})\n",
    "\n",
    " \n",
    "# def stop(update, context):\n",
    "#     context.bot.send_message(chat_id=update.effective_chat.id, text=\"작업을 중단합니다.\")\n",
    " \n",
    "# def zigbang(update, context):\n",
    "#     context.bot.send_message(chat_id=update.effective_chat.id, text=\"[{}] 주변 매물을 수집합니다.\".format( context.args[0] ))\n",
    "    \n",
    " \n",
    "# start_handler = CommandHandler('country_info', 나라_환율)\n",
    "# stop_handler = CommandHandler('stop', stop)\n",
    "# zigbang_handler = CommandHandler('zigbang', zigbang)\n",
    " \n",
    "# dispatcher.add_handler(start_handler)\n",
    "# dispatcher.add_handler(stop_handler)\n",
    "# dispatcher.add_handler(zigbang_handler)\n",
    " \n",
    "# updater.start_polling()\n",
    "# updater.idle()"
   ]
  }
 ],
 "metadata": {
  "kernelspec": {
   "display_name": "Python 3.10.4 ('study')",
   "language": "python",
   "name": "python3"
  },
  "language_info": {
   "codemirror_mode": {
    "name": "ipython",
    "version": 3
   },
   "file_extension": ".py",
   "mimetype": "text/x-python",
   "name": "python",
   "nbconvert_exporter": "python",
   "pygments_lexer": "ipython3",
   "version": "3.10.4"
  },
  "orig_nbformat": 4,
  "vscode": {
   "interpreter": {
    "hash": "2a0060edd7d251760572a9face11b31d5845688b205e41687a3c0e7ba9f3ee93"
   }
  }
 },
 "nbformat": 4,
 "nbformat_minor": 2
}
