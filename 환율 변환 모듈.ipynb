{
 "cells": [
  {
   "cell_type": "code",
   "execution_count": 2,
   "metadata": {},
   "outputs": [
    {
     "name": "stdout",
     "output_type": "stream",
     "text": [
      "Requirement already satisfied: currencyconverter in d:\\a\\envs\\study\\lib\\site-packages (0.17)\n",
      "Note: you may need to restart the kernel to use updated packages.\n"
     ]
    }
   ],
   "source": [
    "pip install currencyconverter"
   ]
  },
  {
   "cell_type": "code",
   "execution_count": 3,
   "metadata": {},
   "outputs": [
    {
     "name": "stdout",
     "output_type": "stream",
     "text": [
      "0.7598268995672488\n"
     ]
    }
   ],
   "source": [
    "from currency_converter import CurrencyConverter\n",
    "c = CurrencyConverter()\n",
    "print(c.convert(1000, 'KRW', 'USD'))"
   ]
  },
  {
   "cell_type": "code",
   "execution_count": 4,
   "metadata": {},
   "outputs": [
    {
     "name": "stdout",
     "output_type": "stream",
     "text": [
      "{'AUD', 'THB', 'ISK', 'CZK', 'IDR', 'CYP', 'MYR', 'TRY', 'CHF', 'NOK', 'HRK', 'KRW', 'SIT', 'ROL', 'RUB', 'TRL', 'DKK', 'SKK', 'USD', 'JPY', 'BGN', 'SGD', 'CAD', 'HUF', 'INR', 'ZAR', 'EUR', 'ILS', 'PHP', 'LTL', 'PLN', 'HKD', 'LVL', 'MXN', 'MTL', 'NZD', 'BRL', 'RON', 'GBP', 'SEK', 'CNY', 'EEK'}\n"
     ]
    }
   ],
   "source": [
    "from currency_converter import CurrencyConverter\n",
    "c = CurrencyConverter()\n",
    "\n",
    "print(c.currencies)"
   ]
  },
  {
   "cell_type": "markdown",
   "metadata": {},
   "source": [
    "##프로젝트 2"
   ]
  },
  {
   "cell_type": "code",
   "execution_count": 5,
   "metadata": {},
   "outputs": [],
   "source": [
    "import requests\n",
    "URL = 'https://finance.naver.com/marketindex/exchangeList.naver'\n",
    "response = requests.get(URL)"
   ]
  },
  {
   "cell_type": "code",
   "execution_count": 6,
   "metadata": {},
   "outputs": [
    {
     "data": {
      "text/plain": [
       "200"
      ]
     },
     "execution_count": 6,
     "metadata": {},
     "output_type": "execute_result"
    }
   ],
   "source": [
    "response.status_code"
   ]
  },
  {
   "cell_type": "code",
   "execution_count": 7,
   "metadata": {},
   "outputs": [],
   "source": [
    "from bs4 import BeautifulSoup\n",
    "soup = BeautifulSoup(response.text, 'html.parser')"
   ]
  },
  {
   "cell_type": "code",
   "execution_count": 8,
   "metadata": {},
   "outputs": [
    {
     "data": {
      "text/plain": [
       "200"
      ]
     },
     "execution_count": 8,
     "metadata": {},
     "output_type": "execute_result"
    }
   ],
   "source": [
    "response.status_code"
   ]
  },
  {
   "cell_type": "code",
   "execution_count": 9,
   "metadata": {},
   "outputs": [],
   "source": [
    "result1 = soup.select('.tit')"
   ]
  },
  {
   "cell_type": "code",
   "execution_count": 15,
   "metadata": {},
   "outputs": [
    {
     "ename": "KeyError",
     "evalue": "0",
     "output_type": "error",
     "traceback": [
      "\u001b[1;31m---------------------------------------------------------------------------\u001b[0m",
      "\u001b[1;31mKeyError\u001b[0m                                  Traceback (most recent call last)",
      "\u001b[1;32md:\\새싹 금융데이터\\MJ-s_package\\환율 변환 모듈.ipynb 셀 14\u001b[0m in \u001b[0;36m<cell line: 4>\u001b[1;34m()\u001b[0m\n\u001b[0;32m      <a href='vscode-notebook-cell:/d%3A/%EC%83%88%EC%8B%B9%20%EA%B8%88%EC%9C%B5%EB%8D%B0%EC%9D%B4%ED%84%B0/MJ-s_package/%ED%99%98%EC%9C%A8%20%EB%B3%80%ED%99%98%20%EB%AA%A8%EB%93%88.ipynb#X16sZmlsZQ%3D%3D?line=0'>1</a>\u001b[0m result2 \u001b[39m=\u001b[39m soup\u001b[39m.\u001b[39mselect(\u001b[39m'\u001b[39m\u001b[39m.sale\u001b[39m\u001b[39m'\u001b[39m)\n\u001b[0;32m      <a href='vscode-notebook-cell:/d%3A/%EC%83%88%EC%8B%B9%20%EA%B8%88%EC%9C%B5%EB%8D%B0%EC%9D%B4%ED%84%B0/MJ-s_package/%ED%99%98%EC%9C%A8%20%EB%B3%80%ED%99%98%20%EB%AA%A8%EB%93%88.ipynb#X16sZmlsZQ%3D%3D?line=1'>2</a>\u001b[0m result2\n\u001b[1;32m----> <a href='vscode-notebook-cell:/d%3A/%EC%83%88%EC%8B%B9%20%EA%B8%88%EC%9C%B5%EB%8D%B0%EC%9D%B4%ED%84%B0/MJ-s_package/%ED%99%98%EC%9C%A8%20%EB%B3%80%ED%99%98%20%EB%AA%A8%EB%93%88.ipynb#X16sZmlsZQ%3D%3D?line=3'>4</a>\u001b[0m result2_USD \u001b[39m=\u001b[39m result[\u001b[39m0\u001b[39;49m]\u001b[39m.\u001b[39mtext\n\u001b[0;32m      <a href='vscode-notebook-cell:/d%3A/%EC%83%88%EC%8B%B9%20%EA%B8%88%EC%9C%B5%EB%8D%B0%EC%9D%B4%ED%84%B0/MJ-s_package/%ED%99%98%EC%9C%A8%20%EB%B3%80%ED%99%98%20%EB%AA%A8%EB%93%88.ipynb#X16sZmlsZQ%3D%3D?line=4'>5</a>\u001b[0m result2_EUR \u001b[39m=\u001b[39m result[\u001b[39m1\u001b[39m]\u001b[39m.\u001b[39mtext\n\u001b[0;32m      <a href='vscode-notebook-cell:/d%3A/%EC%83%88%EC%8B%B9%20%EA%B8%88%EC%9C%B5%EB%8D%B0%EC%9D%B4%ED%84%B0/MJ-s_package/%ED%99%98%EC%9C%A8%20%EB%B3%80%ED%99%98%20%EB%AA%A8%EB%93%88.ipynb#X16sZmlsZQ%3D%3D?line=5'>6</a>\u001b[0m result2_JPY \u001b[39m=\u001b[39m result[\u001b[39m2\u001b[39m]\u001b[39m.\u001b[39mtext\n",
      "File \u001b[1;32md:\\a\\envs\\study\\lib\\site-packages\\bs4\\element.py:1519\u001b[0m, in \u001b[0;36mTag.__getitem__\u001b[1;34m(self, key)\u001b[0m\n\u001b[0;32m   1516\u001b[0m \u001b[39mdef\u001b[39;00m \u001b[39m__getitem__\u001b[39m(\u001b[39mself\u001b[39m, key):\n\u001b[0;32m   1517\u001b[0m     \u001b[39m\"\"\"tag[key] returns the value of the 'key' attribute for the Tag,\u001b[39;00m\n\u001b[0;32m   1518\u001b[0m \u001b[39m    and throws an exception if it's not there.\"\"\"\u001b[39;00m\n\u001b[1;32m-> 1519\u001b[0m     \u001b[39mreturn\u001b[39;00m \u001b[39mself\u001b[39;49m\u001b[39m.\u001b[39;49mattrs[key]\n",
      "\u001b[1;31mKeyError\u001b[0m: 0"
     ]
    }
   ],
   "source": [
    "result2 = soup.select('.sale')\n",
    "result2\n",
    "\n",
    "result2_USD = result[0].text\n",
    "result2_EUR = result[1].text\n",
    "result2_JPY = result[2].text\n",
    "result2_GBP = result[6].text\n"
   ]
  },
  {
   "cell_type": "code",
   "execution_count": 21,
   "metadata": {},
   "outputs": [],
   "source": [
    "results = soup.select('tbody > tr')\n",
    "final_result = []\n",
    "result1 = soup.select('.tit')\n",
    "result2 = soup.select('.sale')\n",
    "\n",
    "for result in results:\n",
    "    #tbody > tr 검색한 것이 통화량 환율 등 한 행이니까 반복문을 돌리고 있음\n",
    "    #한 행별로 tit sale을 검색한다.(select_one 사용)\n",
    "    title = result.select_one('.tit').text.strip()\n",
    "    sale = result.select_one('.sale').text.strip()\n",
    "\n",
    "    if 'USD' in title:\n",
    "        final_result.append({\n",
    "            '통화명': title,\n",
    "            '환율': sale\n",
    "            })\n",
    "\n",
    "    if 'EUR' in title:\n",
    "        final_result.append({\n",
    "            '통화명': title,\n",
    "            '환율': sale\n",
    "            })\n",
    "\n",
    "    if 'JPY' in title:\n",
    "        final_result.append({\n",
    "            '통화명': title,\n",
    "            '환율': sale\n",
    "            })\n",
    "\n",
    "    if 'GBP' in title:\n",
    "        final_result.append({\n",
    "            '통화명': title,\n",
    "            '환율': sale\n",
    "            })\n",
    "\n",
    "#     temp = {\n",
    "#         '통화명': title,\n",
    "#         '환율': sale\n",
    "#     }\n",
    "\n",
    "#     final_result.append(temp)\n",
    "\n",
    "# print(final_result)\n",
    "\n"
   ]
  },
  {
   "cell_type": "code",
   "execution_count": 18,
   "metadata": {},
   "outputs": [],
   "source": [
    "result_USD = final_result[0] #딕셔너리에는 텍스트가 없음\n",
    "result_EUR = final_result[1]\n",
    "result_JPY = final_result[2]\n",
    "result_GBP = final_result[6]\n",
    "\n",
    "#인덱스 배열을 새로 만들어라 "
   ]
  },
  {
   "cell_type": "code",
   "execution_count": 22,
   "metadata": {},
   "outputs": [
    {
     "data": {
      "text/plain": [
       "[{'통화명': '미국 USD', '환율': '1,375.00'},\n",
       " {'통화명': '유럽연합 EUR', '환율': '1,375.41'},\n",
       " {'통화명': '일본 JPY (100엔)', '환율': '954.10'},\n",
       " {'통화명': '영국 GBP', '환율': '1,586.06'}]"
      ]
     },
     "execution_count": 22,
     "metadata": {},
     "output_type": "execute_result"
    }
   ],
   "source": [
    "final_result"
   ]
  },
  {
   "cell_type": "code",
   "execution_count": 15,
   "metadata": {},
   "outputs": [
    {
     "ename": "AttributeError",
     "evalue": "'str' object has no attribute 'extend'",
     "output_type": "error",
     "traceback": [
      "\u001b[1;31m---------------------------------------------------------------------------\u001b[0m",
      "\u001b[1;31mAttributeError\u001b[0m                            Traceback (most recent call last)",
      "\u001b[1;32md:\\새싹 금융데이터\\MJ-s_package\\환율 변환 모듈.ipynb 셀 10\u001b[0m in \u001b[0;36m<cell line: 1>\u001b[1;34m()\u001b[0m\n\u001b[1;32m----> <a href='vscode-notebook-cell:/d%3A/%EC%83%88%EC%8B%B9%20%EA%B8%88%EC%9C%B5%EB%8D%B0%EC%9D%B4%ED%84%B0/MJ-s_package/%ED%99%98%EC%9C%A8%20%EB%B3%80%ED%99%98%20%EB%AA%A8%EB%93%88.ipynb#X12sZmlsZQ%3D%3D?line=0'>1</a>\u001b[0m result_Currency \u001b[39m=\u001b[39m result_USD\u001b[39m.\u001b[39;49mextend(result_EUR)\n",
      "\u001b[1;31mAttributeError\u001b[0m: 'str' object has no attribute 'extend'"
     ]
    }
   ],
   "source": [
    "\n"
   ]
  },
  {
   "cell_type": "code",
   "execution_count": null,
   "metadata": {},
   "outputs": [],
   "source": []
  },
  {
   "cell_type": "code",
   "execution_count": 46,
   "metadata": {},
   "outputs": [
    {
     "data": {
      "text/plain": [
       "200"
      ]
     },
     "execution_count": 46,
     "metadata": {},
     "output_type": "execute_result"
    }
   ],
   "source": [
    "response.status_code"
   ]
  },
  {
   "cell_type": "code",
   "execution_count": 50,
   "metadata": {},
   "outputs": [
    {
     "data": {
      "text/plain": [
       "[<td class=\"sale\">1,371.50</td>,\n",
       " <td class=\"sale\">1,358.54</td>,\n",
       " <td class=\"sale\">977.30</td>,\n",
       " <td class=\"sale\">197.59</td>,\n",
       " <td class=\"sale\">174.74</td>,\n",
       " <td class=\"sale\">44.60</td>,\n",
       " <td class=\"sale\">1,575.03</td>,\n",
       " <td class=\"sale\">3,562.25</td>,\n",
       " <td class=\"sale\">1,043.28</td>,\n",
       " <td class=\"sale\">1,396.36</td>,\n",
       " <td class=\"sale\">126.42</td>,\n",
       " <td class=\"sale\">932.07</td>,\n",
       " <td class=\"sale\">836.34</td>,\n",
       " <td class=\"sale\">55.33</td>,\n",
       " <td class=\"sale\">1.56</td>,\n",
       " <td class=\"sale\">75.25</td>,\n",
       " <td class=\"sale\">0.43</td>,\n",
       " <td class=\"sale\">402.58</td>,\n",
       " <td class=\"sale\">182.68</td>,\n",
       " <td class=\"sale\">136.71</td>,\n",
       " <td class=\"sale\">364.91</td>,\n",
       " <td class=\"sale\">4,445.42</td>,\n",
       " <td class=\"sale\">3,638.12</td>,\n",
       " <td class=\"sale\">373.40</td>,\n",
       " <td class=\"sale\">1,932.64</td>,\n",
       " <td class=\"sale\">71.40</td>,\n",
       " <td class=\"sale\">37.36</td>,\n",
       " <td class=\"sale\">976.26</td>,\n",
       " <td class=\"sale\">305.59</td>,\n",
       " <td class=\"sale\">9.21</td>,\n",
       " <td class=\"sale\">374.42</td>,\n",
       " <td class=\"sale\">2.90</td>,\n",
       " <td class=\"sale\">976.26</td>,\n",
       " <td class=\"sale\">17.17</td>,\n",
       " <td class=\"sale\">6.25</td>,\n",
       " <td class=\"sale\">14.43</td>,\n",
       " <td class=\"sale\">24.07</td>,\n",
       " <td class=\"sale\">68.72</td>,\n",
       " <td class=\"sale\">265.49</td>,\n",
       " <td class=\"sale\">5.82</td>,\n",
       " <td class=\"sale\">79.16</td>,\n",
       " <td class=\"sale\">22.66</td>,\n",
       " <td class=\"sale\">3.38</td>,\n",
       " <td class=\"sale\">287.17</td>,\n",
       " <td class=\"sale\">3.81</td>,\n",
       " <td class=\"sale\">9.73</td>,\n",
       " <td class=\"sale\">11.40</td>,\n",
       " <td class=\"sale\">0.31</td>,\n",
       " <td class=\"sale\">0.59</td>,\n",
       " <td class=\"sale\">10.73</td>,\n",
       " <td class=\"sale\">281.52</td>,\n",
       " <td class=\"sale\">276.99</td>,\n",
       " <td class=\"sale\">169.57</td>,\n",
       " <td class=\"sale\">0.65</td>,\n",
       " <td class=\"sale\">25.98</td>,\n",
       " <td class=\"sale\">0.13</td>,\n",
       " <td class=\"sale\">0.33</td>,\n",
       " <td class=\"sale\">615.25</td>]"
      ]
     },
     "execution_count": 50,
     "metadata": {},
     "output_type": "execute_result"
    }
   ],
   "source": [
    "result2 = soup.select('.sale')\n",
    "result2"
   ]
  },
  {
   "cell_type": "code",
   "execution_count": null,
   "metadata": {},
   "outputs": [],
   "source": []
  },
  {
   "cell_type": "code",
   "execution_count": null,
   "metadata": {},
   "outputs": [],
   "source": []
  },
  {
   "cell_type": "code",
   "execution_count": null,
   "metadata": {},
   "outputs": [],
   "source": []
  },
  {
   "cell_type": "code",
   "execution_count": null,
   "metadata": {},
   "outputs": [],
   "source": []
  },
  {
   "cell_type": "code",
   "execution_count": 47,
   "metadata": {},
   "outputs": [],
   "source": [
    "result2 = soup.select('.sale')"
   ]
  },
  {
   "cell_type": "code",
   "execution_count": null,
   "metadata": {},
   "outputs": [],
   "source": []
  },
  {
   "cell_type": "code",
   "execution_count": null,
   "metadata": {},
   "outputs": [],
   "source": []
  },
  {
   "cell_type": "code",
   "execution_count": 31,
   "metadata": {},
   "outputs": [
    {
     "data": {
      "text/plain": [
       "[<td class=\"sale\">1,371.50</td>,\n",
       " <td class=\"sale\">1,358.54</td>,\n",
       " <td class=\"sale\">977.30</td>,\n",
       " <td class=\"sale\">197.59</td>,\n",
       " <td class=\"sale\">174.74</td>,\n",
       " <td class=\"sale\">44.60</td>,\n",
       " <td class=\"sale\">1,575.03</td>,\n",
       " <td class=\"sale\">3,562.25</td>,\n",
       " <td class=\"sale\">1,043.28</td>,\n",
       " <td class=\"sale\">1,396.36</td>,\n",
       " <td class=\"sale\">126.42</td>,\n",
       " <td class=\"sale\">932.07</td>,\n",
       " <td class=\"sale\">836.34</td>,\n",
       " <td class=\"sale\">55.33</td>,\n",
       " <td class=\"sale\">1.56</td>,\n",
       " <td class=\"sale\">75.25</td>,\n",
       " <td class=\"sale\">0.43</td>,\n",
       " <td class=\"sale\">402.58</td>,\n",
       " <td class=\"sale\">182.68</td>,\n",
       " <td class=\"sale\">136.71</td>,\n",
       " <td class=\"sale\">364.91</td>,\n",
       " <td class=\"sale\">4,445.42</td>,\n",
       " <td class=\"sale\">3,638.12</td>,\n",
       " <td class=\"sale\">373.40</td>,\n",
       " <td class=\"sale\">1,932.64</td>,\n",
       " <td class=\"sale\">71.40</td>,\n",
       " <td class=\"sale\">37.36</td>,\n",
       " <td class=\"sale\">976.26</td>,\n",
       " <td class=\"sale\">305.59</td>,\n",
       " <td class=\"sale\">9.21</td>,\n",
       " <td class=\"sale\">374.42</td>,\n",
       " <td class=\"sale\">2.90</td>,\n",
       " <td class=\"sale\">976.26</td>,\n",
       " <td class=\"sale\">17.17</td>,\n",
       " <td class=\"sale\">6.25</td>,\n",
       " <td class=\"sale\">14.43</td>,\n",
       " <td class=\"sale\">24.07</td>,\n",
       " <td class=\"sale\">68.72</td>,\n",
       " <td class=\"sale\">265.49</td>,\n",
       " <td class=\"sale\">5.82</td>,\n",
       " <td class=\"sale\">79.16</td>,\n",
       " <td class=\"sale\">22.66</td>,\n",
       " <td class=\"sale\">3.38</td>,\n",
       " <td class=\"sale\">287.17</td>,\n",
       " <td class=\"sale\">3.81</td>,\n",
       " <td class=\"sale\">9.73</td>,\n",
       " <td class=\"sale\">11.40</td>,\n",
       " <td class=\"sale\">0.31</td>,\n",
       " <td class=\"sale\">0.59</td>,\n",
       " <td class=\"sale\">10.73</td>,\n",
       " <td class=\"sale\">281.52</td>,\n",
       " <td class=\"sale\">276.99</td>,\n",
       " <td class=\"sale\">169.57</td>,\n",
       " <td class=\"sale\">0.65</td>,\n",
       " <td class=\"sale\">25.98</td>,\n",
       " <td class=\"sale\">0.13</td>,\n",
       " <td class=\"sale\">0.33</td>,\n",
       " <td class=\"sale\">615.25</td>]"
      ]
     },
     "execution_count": 31,
     "metadata": {},
     "output_type": "execute_result"
    }
   ],
   "source": [
    "result2"
   ]
  },
  {
   "cell_type": "code",
   "execution_count": null,
   "metadata": {},
   "outputs": [],
   "source": []
  },
  {
   "cell_type": "code",
   "execution_count": null,
   "metadata": {},
   "outputs": [],
   "source": []
  }
 ],
 "metadata": {
  "kernelspec": {
   "display_name": "Python 3.10.4 ('study')",
   "language": "python",
   "name": "python3"
  },
  "language_info": {
   "codemirror_mode": {
    "name": "ipython",
    "version": 3
   },
   "file_extension": ".py",
   "mimetype": "text/x-python",
   "name": "python",
   "nbconvert_exporter": "python",
   "pygments_lexer": "ipython3",
   "version": "3.10.4"
  },
  "orig_nbformat": 4,
  "vscode": {
   "interpreter": {
    "hash": "2a0060edd7d251760572a9face11b31d5845688b205e41687a3c0e7ba9f3ee93"
   }
  }
 },
 "nbformat": 4,
 "nbformat_minor": 2
}
