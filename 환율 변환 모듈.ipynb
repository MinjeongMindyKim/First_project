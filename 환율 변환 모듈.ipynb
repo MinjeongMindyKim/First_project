{
 "cells": [
  {
   "cell_type": "code",
   "execution_count": 1,
   "metadata": {},
   "outputs": [
    {
     "name": "stdout",
     "output_type": "stream",
     "text": [
      "Requirement already satisfied: currencyconverter in d:\\a\\envs\\study\\lib\\site-packages (0.17)\n",
      "Note: you may need to restart the kernel to use updated packages.\n"
     ]
    }
   ],
   "source": [
    "pip install currencyconverter"
   ]
  },
  {
   "cell_type": "code",
   "execution_count": 2,
   "metadata": {},
   "outputs": [
    {
     "name": "stdout",
     "output_type": "stream",
     "text": [
      "0.7598268995672488\n"
     ]
    }
   ],
   "source": [
    "from currency_converter import CurrencyConverter\n",
    "c = CurrencyConverter()\n",
    "print(c.convert(1000, 'KRW', 'USD'))"
   ]
  },
  {
   "cell_type": "code",
   "execution_count": 3,
   "metadata": {},
   "outputs": [
    {
     "name": "stdout",
     "output_type": "stream",
     "text": [
      "{'HRK', 'MTL', 'IDR', 'CZK', 'NZD', 'EEK', 'BGN', 'HKD', 'TRY', 'LTL', 'NOK', 'GBP', 'CNY', 'CHF', 'ROL', 'INR', 'AUD', 'PLN', 'RON', 'MXN', 'ISK', 'MYR', 'PHP', 'SIT', 'BRL', 'DKK', 'SKK', 'JPY', 'LVL', 'USD', 'SGD', 'CYP', 'ZAR', 'RUB', 'EUR', 'SEK', 'KRW', 'HUF', 'THB', 'CAD', 'TRL', 'ILS'}\n"
     ]
    }
   ],
   "source": [
    "from currency_converter import CurrencyConverter\n",
    "c = CurrencyConverter()\n",
    "\n",
    "print(c.currencies)"
   ]
  },
  {
   "cell_type": "markdown",
   "metadata": {},
   "source": [
    "##프로젝트 2"
   ]
  },
  {
   "cell_type": "markdown",
   "metadata": {},
   "source": []
  },
  {
   "cell_type": "code",
   "execution_count": null,
   "metadata": {},
   "outputs": [],
   "source": []
  },
  {
   "cell_type": "code",
   "execution_count": null,
   "metadata": {},
   "outputs": [],
   "source": []
  },
  {
   "cell_type": "code",
   "execution_count": 17,
   "metadata": {},
   "outputs": [],
   "source": [
    "import requests\n",
    "URL = 'https://finance.naver.com/marketindex/exchangeList.naver'\n",
    "response = requests.get(URL)"
   ]
  },
  {
   "cell_type": "code",
   "execution_count": 5,
   "metadata": {},
   "outputs": [
    {
     "data": {
      "text/plain": [
       "200"
      ]
     },
     "execution_count": 5,
     "metadata": {},
     "output_type": "execute_result"
    }
   ],
   "source": [
    "response.status_code"
   ]
  },
  {
   "cell_type": "code",
   "execution_count": 6,
   "metadata": {},
   "outputs": [],
   "source": [
    "from bs4 import BeautifulSoup\n",
    "soup = BeautifulSoup(response.text, 'html.parser')"
   ]
  },
  {
   "cell_type": "code",
   "execution_count": 7,
   "metadata": {},
   "outputs": [
    {
     "data": {
      "text/plain": [
       "200"
      ]
     },
     "execution_count": 7,
     "metadata": {},
     "output_type": "execute_result"
    }
   ],
   "source": [
    "response.status_code"
   ]
  },
  {
   "cell_type": "code",
   "execution_count": 35,
   "metadata": {},
   "outputs": [],
   "source": [
    "result1 = soup.select('.tit')"
   ]
  },
  {
   "cell_type": "code",
   "execution_count": 36,
   "metadata": {},
   "outputs": [
    {
     "name": "stdout",
     "output_type": "stream",
     "text": [
      "1,370.00\n"
     ]
    },
    {
     "ename": "AttributeError",
     "evalue": "'NoneType' object has no attribute 'strip'",
     "output_type": "error",
     "traceback": [
      "\u001b[1;31m---------------------------------------------------------------------------\u001b[0m",
      "\u001b[1;31mAttributeError\u001b[0m                            Traceback (most recent call last)",
      "\u001b[1;32md:\\새싹 금융데이터\\MJ-s_package\\환율 변환 모듈.ipynb 셀 12\u001b[0m in \u001b[0;36m<cell line: 6>\u001b[1;34m()\u001b[0m\n\u001b[0;32m      <a href='vscode-notebook-cell:/d%3A/%EC%83%88%EC%8B%B9%20%EA%B8%88%EC%9C%B5%EB%8D%B0%EC%9D%B4%ED%84%B0/MJ-s_package/%ED%99%98%EC%9C%A8%20%EB%B3%80%ED%99%98%20%EB%AA%A8%EB%93%88.ipynb#X11sZmlsZQ%3D%3D?line=2'>3</a>\u001b[0m result1_JPY \u001b[39m=\u001b[39m result[\u001b[39m2\u001b[39m]\u001b[39m.\u001b[39mtext\n\u001b[0;32m      <a href='vscode-notebook-cell:/d%3A/%EC%83%88%EC%8B%B9%20%EA%B8%88%EC%9C%B5%EB%8D%B0%EC%9D%B4%ED%84%B0/MJ-s_package/%ED%99%98%EC%9C%A8%20%EB%B3%80%ED%99%98%20%EB%AA%A8%EB%93%88.ipynb#X11sZmlsZQ%3D%3D?line=3'>4</a>\u001b[0m result1_GBP \u001b[39m=\u001b[39m result[\u001b[39m6\u001b[39m]\u001b[39m.\u001b[39mtext\n\u001b[1;32m----> <a href='vscode-notebook-cell:/d%3A/%EC%83%88%EC%8B%B9%20%EA%B8%88%EC%9C%B5%EB%8D%B0%EC%9D%B4%ED%84%B0/MJ-s_package/%ED%99%98%EC%9C%A8%20%EB%B3%80%ED%99%98%20%EB%AA%A8%EB%93%88.ipynb#X11sZmlsZQ%3D%3D?line=5'>6</a>\u001b[0m \u001b[39mprint\u001b[39;49m(result1_USD)\u001b[39m.\u001b[39;49mstrip()\n\u001b[0;32m      <a href='vscode-notebook-cell:/d%3A/%EC%83%88%EC%8B%B9%20%EA%B8%88%EC%9C%B5%EB%8D%B0%EC%9D%B4%ED%84%B0/MJ-s_package/%ED%99%98%EC%9C%A8%20%EB%B3%80%ED%99%98%20%EB%AA%A8%EB%93%88.ipynb#X11sZmlsZQ%3D%3D?line=6'>7</a>\u001b[0m \u001b[39mprint\u001b[39m(result1_EUR)\u001b[39m.\u001b[39mstrip()\n\u001b[0;32m      <a href='vscode-notebook-cell:/d%3A/%EC%83%88%EC%8B%B9%20%EA%B8%88%EC%9C%B5%EB%8D%B0%EC%9D%B4%ED%84%B0/MJ-s_package/%ED%99%98%EC%9C%A8%20%EB%B3%80%ED%99%98%20%EB%AA%A8%EB%93%88.ipynb#X11sZmlsZQ%3D%3D?line=7'>8</a>\u001b[0m \u001b[39mprint\u001b[39m(result1_JPY)\u001b[39m.\u001b[39mstrip()\n",
      "\u001b[1;31mAttributeError\u001b[0m: 'NoneType' object has no attribute 'strip'"
     ]
    }
   ],
   "source": [
    "result1_USD = result[0].text\n",
    "result1_EUR = result[1].text\n",
    "result1_JPY = result[2].text\n",
    "result1_GBP = result[6].text\n",
    "\n",
    "print(result1_USD).strip()\n",
    "print(result1_EUR).strip()\n",
    "print(result1_JPY).strip()\n",
    "print(result1_GBP).strip()"
   ]
  },
  {
   "cell_type": "code",
   "execution_count": 37,
   "metadata": {},
   "outputs": [],
   "source": [
    "result2 = soup.select('.sale')\n",
    "result2\n",
    "\n",
    "result2_USD = result[0].text\n",
    "result2_EUR = result[1].text\n",
    "result2_JPY = result[2].text\n",
    "result2_GBP = result[6].text\n"
   ]
  },
  {
   "cell_type": "code",
   "execution_count": 41,
   "metadata": {},
   "outputs": [
    {
     "name": "stdout",
     "output_type": "stream",
     "text": [
      "[{'통화명': [<td class=\"tit\"><a href=\"/marketindex/exchangeDetail.naver?marketindexCd=FX_USDKRW\" onclick=\"parent.clickcr(this, 'exl.exlist', 'FX_USDKRW', '1', event);\" target=\"_parent\">\n",
      "\t\t\t\t\n",
      "\t\t\t\t\t\n",
      "\t\t\t\t\t\n",
      "\t\t\t\t\t\n",
      "\t\t\t\t\t미국 USD\n",
      "\t\t\t\t\n",
      "\t\t\t\t</a></td>, <td class=\"tit\"><a href=\"/marketindex/exchangeDetail.naver?marketindexCd=FX_EURKRW\" onclick=\"parent.clickcr(this, 'exl.exlist', 'FX_EURKRW', '2', event);\" target=\"_parent\">\n",
      "\t\t\t\t\n",
      "\t\t\t\t\t\n",
      "\t\t\t\t\t\n",
      "\t\t\t\t\t\n",
      "\t\t\t\t\t유럽연합 EUR\n",
      "\t\t\t\t\n",
      "\t\t\t\t</a></td>, <td class=\"tit\"><a href=\"/marketindex/exchangeDetail.naver?marketindexCd=FX_JPYKRW\" onclick=\"parent.clickcr(this, 'exl.exlist', 'FX_JPYKRW', '3', event);\" target=\"_parent\">\n",
      "\t\t\t\t\n",
      "\t\t\t\t\t일본 JPY (100엔)\n",
      "\t\t\t\t\t\n",
      "\t\t\t\t\t\n",
      "\t\t\t\t\t\n",
      "\t\t\t\t\n",
      "\t\t\t\t</a></td>, <td class=\"tit\"><a href=\"/marketindex/exchangeDetail.naver?marketindexCd=FX_CNYKRW\" onclick=\"parent.clickcr(this, 'exl.exlist', 'FX_CNYKRW', '4', event);\" target=\"_parent\">\n",
      "\t\t\t\t\n",
      "\t\t\t\t\t\n",
      "\t\t\t\t\t\n",
      "\t\t\t\t\t\n",
      "\t\t\t\t\t중국 CNY\n",
      "\t\t\t\t\n",
      "\t\t\t\t</a></td>, <td class=\"tit\"><a href=\"/marketindex/exchangeDetail.naver?marketindexCd=FX_HKDKRW\" onclick=\"parent.clickcr(this, 'exl.exlist', 'FX_HKDKRW', '5', event);\" target=\"_parent\">\n",
      "\t\t\t\t\n",
      "\t\t\t\t\t\n",
      "\t\t\t\t\t\n",
      "\t\t\t\t\t\n",
      "\t\t\t\t\t홍콩 HKD\n",
      "\t\t\t\t\n",
      "\t\t\t\t</a></td>, <td class=\"tit\"><a href=\"/marketindex/exchangeDetail.naver?marketindexCd=FX_TWDKRW\" onclick=\"parent.clickcr(this, 'exl.exlist', 'FX_TWDKRW', '6', event);\" target=\"_parent\">\n",
      "\t\t\t\t\n",
      "\t\t\t\t\t\n",
      "\t\t\t\t\t\n",
      "\t\t\t\t\t\n",
      "\t\t\t\t\t대만 TWD\n",
      "\t\t\t\t\n",
      "\t\t\t\t</a></td>, <td class=\"tit\"><a href=\"/marketindex/exchangeDetail.naver?marketindexCd=FX_GBPKRW\" onclick=\"parent.clickcr(this, 'exl.exlist', 'FX_GBPKRW', '7', event);\" target=\"_parent\">\n",
      "\t\t\t\t\n",
      "\t\t\t\t\t\n",
      "\t\t\t\t\t\n",
      "\t\t\t\t\t\n",
      "\t\t\t\t\t영국 GBP\n",
      "\t\t\t\t\n",
      "\t\t\t\t</a></td>, <td class=\"tit\"><a href=\"/marketindex/exchangeDetail.naver?marketindexCd=FX_OMRKRW\" onclick=\"parent.clickcr(this, 'exl.exlist', 'FX_OMRKRW', '8', event);\" target=\"_parent\">\n",
      "\t\t\t\t\n",
      "\t\t\t\t\t\n",
      "\t\t\t\t\t\n",
      "\t\t\t\t\t\n",
      "\t\t\t\t\t오만 OMR\n",
      "\t\t\t\t\n",
      "\t\t\t\t</a></td>, <td class=\"tit\"><a href=\"/marketindex/exchangeDetail.naver?marketindexCd=FX_CADKRW\" onclick=\"parent.clickcr(this, 'exl.exlist', 'FX_CADKRW', '9', event);\" target=\"_parent\">\n",
      "\t\t\t\t\n",
      "\t\t\t\t\t\n",
      "\t\t\t\t\t\n",
      "\t\t\t\t\t\n",
      "\t\t\t\t\t캐나다 CAD\n",
      "\t\t\t\t\n",
      "\t\t\t\t</a></td>, <td class=\"tit\"><a href=\"/marketindex/exchangeDetail.naver?marketindexCd=FX_CHFKRW\" onclick=\"parent.clickcr(this, 'exl.exlist', 'FX_CHFKRW', '10', event);\" target=\"_parent\">\n",
      "\t\t\t\t\n",
      "\t\t\t\t\t\n",
      "\t\t\t\t\t\n",
      "\t\t\t\t\t\n",
      "\t\t\t\t\t스위스 CHF\n",
      "\t\t\t\t\n",
      "\t\t\t\t</a></td>, <td class=\"tit\"><a href=\"/marketindex/exchangeDetail.naver?marketindexCd=FX_SEKKRW\" onclick=\"parent.clickcr(this, 'exl.exlist', 'FX_SEKKRW', '11', event);\" target=\"_parent\">\n",
      "\t\t\t\t\n",
      "\t\t\t\t\t\n",
      "\t\t\t\t\t\n",
      "\t\t\t\t\t\n",
      "\t\t\t\t\t스웨덴 SEK\n",
      "\t\t\t\t\n",
      "\t\t\t\t</a></td>, <td class=\"tit\"><a href=\"/marketindex/exchangeDetail.naver?marketindexCd=FX_AUDKRW\" onclick=\"parent.clickcr(this, 'exl.exlist', 'FX_AUDKRW', '12', event);\" target=\"_parent\">\n",
      "\t\t\t\t\n",
      "\t\t\t\t\t\n",
      "\t\t\t\t\t\n",
      "\t\t\t\t\t\n",
      "\t\t\t\t\t호주 AUD\n",
      "\t\t\t\t\n",
      "\t\t\t\t</a></td>, <td class=\"tit\"><a href=\"/marketindex/exchangeDetail.naver?marketindexCd=FX_NZDKRW\" onclick=\"parent.clickcr(this, 'exl.exlist', 'FX_NZDKRW', '13', event);\" target=\"_parent\">\n",
      "\t\t\t\t\n",
      "\t\t\t\t\t\n",
      "\t\t\t\t\t\n",
      "\t\t\t\t\t\n",
      "\t\t\t\t\t뉴질랜드 NZD\n",
      "\t\t\t\t\n",
      "\t\t\t\t</a></td>, <td class=\"tit\"><a href=\"/marketindex/exchangeDetail.naver?marketindexCd=FX_CZKKRW\" onclick=\"parent.clickcr(this, 'exl.exlist', 'FX_CZKKRW', '14', event);\" target=\"_parent\">\n",
      "\t\t\t\t\n",
      "\t\t\t\t\t\n",
      "\t\t\t\t\t\n",
      "\t\t\t\t\t\n",
      "\t\t\t\t\t체코 CZK\n",
      "\t\t\t\t\n",
      "\t\t\t\t</a></td>, <td class=\"tit\"><a href=\"/marketindex/exchangeDetail.naver?marketindexCd=FX_CLPKRW\" onclick=\"parent.clickcr(this, 'exl.exlist', 'FX_CLPKRW', '15', event);\" target=\"_parent\">\n",
      "\t\t\t\t\n",
      "\t\t\t\t\t\n",
      "\t\t\t\t\t\n",
      "\t\t\t\t\t\n",
      "\t\t\t\t\t칠레 CLP\n",
      "\t\t\t\t\n",
      "\t\t\t\t</a></td>, <td class=\"tit\"><a href=\"/marketindex/exchangeDetail.naver?marketindexCd=FX_TRYKRW\" onclick=\"parent.clickcr(this, 'exl.exlist', 'FX_TRYKRW', '16', event);\" target=\"_parent\">\n",
      "\t\t\t\t\n",
      "\t\t\t\t\t\n",
      "\t\t\t\t\t\n",
      "\t\t\t\t\t\n",
      "\t\t\t\t\t터키 TRY\n",
      "\t\t\t\t\n",
      "\t\t\t\t</a></td>, <td class=\"tit\"><a href=\"/marketindex/exchangeDetail.naver?marketindexCd=FX_MNTKRW\" onclick=\"parent.clickcr(this, 'exl.exlist', 'FX_MNTKRW', '17', event);\" target=\"_parent\">\n",
      "\t\t\t\t\n",
      "\t\t\t\t\t\n",
      "\t\t\t\t\t\n",
      "\t\t\t\t\t\n",
      "\t\t\t\t\t몽골 MNT\n",
      "\t\t\t\t\n",
      "\t\t\t\t</a></td>, <td class=\"tit\"><a href=\"/marketindex/exchangeDetail.naver?marketindexCd=FX_ILSKRW\" onclick=\"parent.clickcr(this, 'exl.exlist', 'FX_ILSKRW', '18', event);\" target=\"_parent\">\n",
      "\t\t\t\t\n",
      "\t\t\t\t\t\n",
      "\t\t\t\t\t\n",
      "\t\t\t\t\t\n",
      "\t\t\t\t\t이스라엘 ILS\n",
      "\t\t\t\t\n",
      "\t\t\t\t</a></td>, <td class=\"tit\"><a href=\"/marketindex/exchangeDetail.naver?marketindexCd=FX_DKKKRW\" onclick=\"parent.clickcr(this, 'exl.exlist', 'FX_DKKKRW', '19', event);\" target=\"_parent\">\n",
      "\t\t\t\t\n",
      "\t\t\t\t\t\n",
      "\t\t\t\t\t\n",
      "\t\t\t\t\t\n",
      "\t\t\t\t\t덴마크 DKK\n",
      "\t\t\t\t\n",
      "\t\t\t\t</a></td>, <td class=\"tit\"><a href=\"/marketindex/exchangeDetail.naver?marketindexCd=FX_NOKKRW\" onclick=\"parent.clickcr(this, 'exl.exlist', 'FX_NOKKRW', '20', event);\" target=\"_parent\">\n",
      "\t\t\t\t\n",
      "\t\t\t\t\t\n",
      "\t\t\t\t\t\n",
      "\t\t\t\t\t\n",
      "\t\t\t\t\t노르웨이 NOK\n",
      "\t\t\t\t\n",
      "\t\t\t\t</a></td>, <td class=\"tit\"><a href=\"/marketindex/exchangeDetail.naver?marketindexCd=FX_SARKRW\" onclick=\"parent.clickcr(this, 'exl.exlist', 'FX_SARKRW', '21', event);\" target=\"_parent\">\n",
      "\t\t\t\t\n",
      "\t\t\t\t\t\n",
      "\t\t\t\t\t\n",
      "\t\t\t\t\t\n",
      "\t\t\t\t\t사우디아라비아 SAR\n",
      "\t\t\t\t\n",
      "\t\t\t\t</a></td>, <td class=\"tit\"><a href=\"/marketindex/exchangeDetail.naver?marketindexCd=FX_KWDKRW\" onclick=\"parent.clickcr(this, 'exl.exlist', 'FX_KWDKRW', '22', event);\" target=\"_parent\">\n",
      "\t\t\t\t\n",
      "\t\t\t\t\t\n",
      "\t\t\t\t\t\n",
      "\t\t\t\t\t\n",
      "\t\t\t\t\t쿠웨이트 KWD\n",
      "\t\t\t\t\n",
      "\t\t\t\t</a></td>, <td class=\"tit\"><a href=\"/marketindex/exchangeDetail.naver?marketindexCd=FX_BHDKRW\" onclick=\"parent.clickcr(this, 'exl.exlist', 'FX_BHDKRW', '23', event);\" target=\"_parent\">\n",
      "\t\t\t\t\n",
      "\t\t\t\t\t\n",
      "\t\t\t\t\t\n",
      "\t\t\t\t\t\n",
      "\t\t\t\t\t바레인 BHD\n",
      "\t\t\t\t\n",
      "\t\t\t\t</a></td>, <td class=\"tit\"><a href=\"/marketindex/exchangeDetail.naver?marketindexCd=FX_AEDKRW\" onclick=\"parent.clickcr(this, 'exl.exlist', 'FX_AEDKRW', '24', event);\" target=\"_parent\">\n",
      "\t\t\t\t\n",
      "\t\t\t\t\t\n",
      "\t\t\t\t\t\n",
      "\t\t\t\t\t\n",
      "\t\t\t\t\t아랍에미리트 AED\n",
      "\t\t\t\t\n",
      "\t\t\t\t</a></td>, <td class=\"tit\"><a href=\"/marketindex/exchangeDetail.naver?marketindexCd=FX_JODKRW\" onclick=\"parent.clickcr(this, 'exl.exlist', 'FX_JODKRW', '25', event);\" target=\"_parent\">\n",
      "\t\t\t\t\n",
      "\t\t\t\t\t\n",
      "\t\t\t\t\t\n",
      "\t\t\t\t\t\n",
      "\t\t\t\t\t요르단 JOD\n",
      "\t\t\t\t\n",
      "\t\t\t\t</a></td>, <td class=\"tit\"><a href=\"/marketindex/exchangeDetail.naver?marketindexCd=FX_EGPKRW\" onclick=\"parent.clickcr(this, 'exl.exlist', 'FX_EGPKRW', '26', event);\" target=\"_parent\">\n",
      "\t\t\t\t\n",
      "\t\t\t\t\t\n",
      "\t\t\t\t\t\n",
      "\t\t\t\t\t\n",
      "\t\t\t\t\t이집트 EGP\n",
      "\t\t\t\t\n",
      "\t\t\t\t</a></td>, <td class=\"tit\"><a href=\"/marketindex/exchangeDetail.naver?marketindexCd=FX_THBKRW\" onclick=\"parent.clickcr(this, 'exl.exlist', 'FX_THBKRW', '27', event);\" target=\"_parent\">\n",
      "\t\t\t\t\n",
      "\t\t\t\t\t\n",
      "\t\t\t\t\t\n",
      "\t\t\t\t\t\n",
      "\t\t\t\t\t태국 THB\n",
      "\t\t\t\t\n",
      "\t\t\t\t</a></td>, <td class=\"tit\"><a href=\"/marketindex/exchangeDetail.naver?marketindexCd=FX_SGDKRW\" onclick=\"parent.clickcr(this, 'exl.exlist', 'FX_SGDKRW', '28', event);\" target=\"_parent\">\n",
      "\t\t\t\t\n",
      "\t\t\t\t\t\n",
      "\t\t\t\t\t\n",
      "\t\t\t\t\t\n",
      "\t\t\t\t\t싱가포르 SGD\n",
      "\t\t\t\t\n",
      "\t\t\t\t</a></td>, <td class=\"tit\"><a href=\"/marketindex/exchangeDetail.naver?marketindexCd=FX_MYRKRW\" onclick=\"parent.clickcr(this, 'exl.exlist', 'FX_MYRKRW', '29', event);\" target=\"_parent\">\n",
      "\t\t\t\t\n",
      "\t\t\t\t\t\n",
      "\t\t\t\t\t\n",
      "\t\t\t\t\t\n",
      "\t\t\t\t\t말레이시아 MYR\n",
      "\t\t\t\t\n",
      "\t\t\t\t</a></td>, <td class=\"tit\"><a href=\"/marketindex/exchangeDetail.naver?marketindexCd=FX_IDRKRW\" onclick=\"parent.clickcr(this, 'exl.exlist', 'FX_IDRKRW', '30', event);\" target=\"_parent\">\n",
      "\t\t\t\t\n",
      "\t\t\t\t\t\n",
      "\t\t\t\t\t인도네시아 IDR 100\n",
      "\t\t\t\t\t\n",
      "\t\t\t\t\t\n",
      "\t\t\t\t\n",
      "\t\t\t\t</a></td>, <td class=\"tit\"><a href=\"/marketindex/exchangeDetail.naver?marketindexCd=FX_QARKRW\" onclick=\"parent.clickcr(this, 'exl.exlist', 'FX_QARKRW', '31', event);\" target=\"_parent\">\n",
      "\t\t\t\t\n",
      "\t\t\t\t\t\n",
      "\t\t\t\t\t\n",
      "\t\t\t\t\t\n",
      "\t\t\t\t\t카타르 QAR\n",
      "\t\t\t\t\n",
      "\t\t\t\t</a></td>, <td class=\"tit\"><a href=\"/marketindex/exchangeDetail.naver?marketindexCd=FX_KZTKRW\" onclick=\"parent.clickcr(this, 'exl.exlist', 'FX_KZTKRW', '32', event);\" target=\"_parent\">\n",
      "\t\t\t\t\n",
      "\t\t\t\t\t\n",
      "\t\t\t\t\t\n",
      "\t\t\t\t\t\n",
      "\t\t\t\t\t카자흐스탄 KZT\n",
      "\t\t\t\t\n",
      "\t\t\t\t</a></td>, <td class=\"tit\"><a href=\"/marketindex/exchangeDetail.naver?marketindexCd=FX_BNDKRW\" onclick=\"parent.clickcr(this, 'exl.exlist', 'FX_BNDKRW', '33', event);\" target=\"_parent\">\n",
      "\t\t\t\t\n",
      "\t\t\t\t\t\n",
      "\t\t\t\t\t\n",
      "\t\t\t\t\t\n",
      "\t\t\t\t\t브루나이 BND\n",
      "\t\t\t\t\n",
      "\t\t\t\t</a></td>, <td class=\"tit\"><a href=\"/marketindex/exchangeDetail.naver?marketindexCd=FX_INRKRW\" onclick=\"parent.clickcr(this, 'exl.exlist', 'FX_INRKRW', '34', event);\" target=\"_parent\">\n",
      "\t\t\t\t\n",
      "\t\t\t\t\t\n",
      "\t\t\t\t\t\n",
      "\t\t\t\t\t\n",
      "\t\t\t\t\t인도 INR\n",
      "\t\t\t\t\n",
      "\t\t\t\t</a></td>, <td class=\"tit\"><a href=\"/marketindex/exchangeDetail.naver?marketindexCd=FX_PKRKRW\" onclick=\"parent.clickcr(this, 'exl.exlist', 'FX_PKRKRW', '35', event);\" target=\"_parent\">\n",
      "\t\t\t\t\n",
      "\t\t\t\t\t\n",
      "\t\t\t\t\t\n",
      "\t\t\t\t\t\n",
      "\t\t\t\t\t파키스탄 PKR\n",
      "\t\t\t\t\n",
      "\t\t\t\t</a></td>, <td class=\"tit\"><a href=\"/marketindex/exchangeDetail.naver?marketindexCd=FX_BDTKRW\" onclick=\"parent.clickcr(this, 'exl.exlist', 'FX_BDTKRW', '36', event);\" target=\"_parent\">\n",
      "\t\t\t\t\n",
      "\t\t\t\t\t\n",
      "\t\t\t\t\t\n",
      "\t\t\t\t\t\n",
      "\t\t\t\t\t방글라데시 BDT\n",
      "\t\t\t\t\n",
      "\t\t\t\t</a></td>, <td class=\"tit\"><a href=\"/marketindex/exchangeDetail.naver?marketindexCd=FX_PHPKRW\" onclick=\"parent.clickcr(this, 'exl.exlist', 'FX_PHPKRW', '37', event);\" target=\"_parent\">\n",
      "\t\t\t\t\n",
      "\t\t\t\t\t\n",
      "\t\t\t\t\t\n",
      "\t\t\t\t\t\n",
      "\t\t\t\t\t필리핀 PHP\n",
      "\t\t\t\t\n",
      "\t\t\t\t</a></td>, <td class=\"tit\"><a href=\"/marketindex/exchangeDetail.naver?marketindexCd=FX_MXNKRW\" onclick=\"parent.clickcr(this, 'exl.exlist', 'FX_MXNKRW', '38', event);\" target=\"_parent\">\n",
      "\t\t\t\t\n",
      "\t\t\t\t\t\n",
      "\t\t\t\t\t\n",
      "\t\t\t\t\t\n",
      "\t\t\t\t\t멕시코 MXN\n",
      "\t\t\t\t\n",
      "\t\t\t\t</a></td>, <td class=\"tit\"><a href=\"/marketindex/exchangeDetail.naver?marketindexCd=FX_BRLKRW\" onclick=\"parent.clickcr(this, 'exl.exlist', 'FX_BRLKRW', '39', event);\" target=\"_parent\">\n",
      "\t\t\t\t\n",
      "\t\t\t\t\t\n",
      "\t\t\t\t\t\n",
      "\t\t\t\t\t\n",
      "\t\t\t\t\t브라질 BRL\n",
      "\t\t\t\t\n",
      "\t\t\t\t</a></td>, <td class=\"tit\"><a href=\"/marketindex/exchangeDetail.naver?marketindexCd=FX_VNDKRW\" onclick=\"parent.clickcr(this, 'exl.exlist', 'FX_VNDKRW', '40', event);\" target=\"_parent\">\n",
      "\t\t\t\t\n",
      "\t\t\t\t\t\n",
      "\t\t\t\t\t\n",
      "\t\t\t\t\t베트남 VND 100\n",
      "\t\t\t\t\t\n",
      "\t\t\t\t\n",
      "\t\t\t\t</a></td>, <td class=\"tit\"><a href=\"/marketindex/exchangeDetail.naver?marketindexCd=FX_ZARKRW\" onclick=\"parent.clickcr(this, 'exl.exlist', 'FX_ZARKRW', '41', event);\" target=\"_parent\">\n",
      "\t\t\t\t\n",
      "\t\t\t\t\t\n",
      "\t\t\t\t\t\n",
      "\t\t\t\t\t\n",
      "\t\t\t\t\t남아프리카 공화국 ZAR\n",
      "\t\t\t\t\n",
      "\t\t\t\t</a></td>, <td class=\"tit\"><a href=\"/marketindex/exchangeDetail.naver?marketindexCd=FX_RUBKRW\" onclick=\"parent.clickcr(this, 'exl.exlist', 'FX_RUBKRW', '42', event);\" target=\"_parent\">\n",
      "\t\t\t\t\n",
      "\t\t\t\t\t\n",
      "\t\t\t\t\t\n",
      "\t\t\t\t\t\n",
      "\t\t\t\t\t러시아 RUB\n",
      "\t\t\t\t\n",
      "\t\t\t\t</a></td>, <td class=\"tit\"><a href=\"/marketindex/exchangeDetail.naver?marketindexCd=FX_HUFKRW\" onclick=\"parent.clickcr(this, 'exl.exlist', 'FX_HUFKRW', '43', event);\" target=\"_parent\">\n",
      "\t\t\t\t\n",
      "\t\t\t\t\t\n",
      "\t\t\t\t\t\n",
      "\t\t\t\t\t\n",
      "\t\t\t\t\t헝가리 HUF\n",
      "\t\t\t\t\n",
      "\t\t\t\t</a></td>, <td class=\"tit\"><a href=\"/marketindex/exchangeDetail.naver?marketindexCd=FX_PLNKRW\" onclick=\"parent.clickcr(this, 'exl.exlist', 'FX_PLNKRW', '44', event);\" target=\"_parent\">\n",
      "\t\t\t\t\n",
      "\t\t\t\t\t\n",
      "\t\t\t\t\t\n",
      "\t\t\t\t\t\n",
      "\t\t\t\t\t폴란드 PLN\n",
      "\t\t\t\t\n",
      "\t\t\t\t</a></td>, <td class=\"tit\"><a href=\"/marketindex/exchangeDetail.naver?marketindexCd=\" onclick=\"parent.clickcr(this, 'exl.exlist', '', '45', event);\" target=\"_parent\">\n",
      "\t\t\t\t\n",
      "\t\t\t\t\t\n",
      "\t\t\t\t\t\n",
      "\t\t\t\t\t\n",
      "\t\t\t\t\t스리랑카 LKR\n",
      "\t\t\t\t\n",
      "\t\t\t\t</a></td>, <td class=\"tit\"><a href=\"/marketindex/exchangeDetail.naver?marketindexCd=\" onclick=\"parent.clickcr(this, 'exl.exlist', '', '46', event);\" target=\"_parent\">\n",
      "\t\t\t\t\n",
      "\t\t\t\t\t\n",
      "\t\t\t\t\t\n",
      "\t\t\t\t\t\n",
      "\t\t\t\t\t알제리 DZD\n",
      "\t\t\t\t\n",
      "\t\t\t\t</a></td>, <td class=\"tit\"><a href=\"/marketindex/exchangeDetail.naver?marketindexCd=\" onclick=\"parent.clickcr(this, 'exl.exlist', '', '47', event);\" target=\"_parent\">\n",
      "\t\t\t\t\n",
      "\t\t\t\t\t\n",
      "\t\t\t\t\t\n",
      "\t\t\t\t\t\n",
      "\t\t\t\t\t케냐 KES\n",
      "\t\t\t\t\n",
      "\t\t\t\t</a></td>, <td class=\"tit\"><a href=\"/marketindex/exchangeDetail.naver?marketindexCd=\" onclick=\"parent.clickcr(this, 'exl.exlist', '', '48', event);\" target=\"_parent\">\n",
      "\t\t\t\t\n",
      "\t\t\t\t\t\n",
      "\t\t\t\t\t\n",
      "\t\t\t\t\t\n",
      "\t\t\t\t\t콜롬비아 COP\n",
      "\t\t\t\t\n",
      "\t\t\t\t</a></td>, <td class=\"tit\"><a href=\"/marketindex/exchangeDetail.naver?marketindexCd=\" onclick=\"parent.clickcr(this, 'exl.exlist', '', '49', event);\" target=\"_parent\">\n",
      "\t\t\t\t\n",
      "\t\t\t\t\t\n",
      "\t\t\t\t\t\n",
      "\t\t\t\t\t\n",
      "\t\t\t\t\t탄자니아 TZS\n",
      "\t\t\t\t\n",
      "\t\t\t\t</a></td>, <td class=\"tit\"><a href=\"/marketindex/exchangeDetail.naver?marketindexCd=\" onclick=\"parent.clickcr(this, 'exl.exlist', '', '50', event);\" target=\"_parent\">\n",
      "\t\t\t\t\n",
      "\t\t\t\t\t\n",
      "\t\t\t\t\t\n",
      "\t\t\t\t\t\n",
      "\t\t\t\t\t네팔 NPR\n",
      "\t\t\t\t\n",
      "\t\t\t\t</a></td>, <td class=\"tit\"><a href=\"/marketindex/exchangeDetail.naver?marketindexCd=\" onclick=\"parent.clickcr(this, 'exl.exlist', '', '51', event);\" target=\"_parent\">\n",
      "\t\t\t\t\n",
      "\t\t\t\t\t\n",
      "\t\t\t\t\t\n",
      "\t\t\t\t\t\n",
      "\t\t\t\t\t루마니아 RON\n",
      "\t\t\t\t\n",
      "\t\t\t\t</a></td>, <td class=\"tit\"><a href=\"/marketindex/exchangeDetail.naver?marketindexCd=\" onclick=\"parent.clickcr(this, 'exl.exlist', '', '52', event);\" target=\"_parent\">\n",
      "\t\t\t\t\n",
      "\t\t\t\t\t\n",
      "\t\t\t\t\t\n",
      "\t\t\t\t\t\n",
      "\t\t\t\t\t리비아 LYD\n",
      "\t\t\t\t\n",
      "\t\t\t\t</a></td>, <td class=\"tit\"><a href=\"/marketindex/exchangeDetail.naver?marketindexCd=\" onclick=\"parent.clickcr(this, 'exl.exlist', '', '53', event);\" target=\"_parent\">\n",
      "\t\t\t\t\n",
      "\t\t\t\t\t\n",
      "\t\t\t\t\t\n",
      "\t\t\t\t\t\n",
      "\t\t\t\t\t마카오 MOP\n",
      "\t\t\t\t\n",
      "\t\t\t\t</a></td>, <td class=\"tit\"><a href=\"/marketindex/exchangeDetail.naver?marketindexCd=\" onclick=\"parent.clickcr(this, 'exl.exlist', '', '54', event);\" target=\"_parent\">\n",
      "\t\t\t\t\n",
      "\t\t\t\t\t\n",
      "\t\t\t\t\t\n",
      "\t\t\t\t\t\n",
      "\t\t\t\t\t미얀마 MMK\n",
      "\t\t\t\t\n",
      "\t\t\t\t</a></td>, <td class=\"tit\"><a href=\"/marketindex/exchangeDetail.naver?marketindexCd=\" onclick=\"parent.clickcr(this, 'exl.exlist', '', '55', event);\" target=\"_parent\">\n",
      "\t\t\t\t\n",
      "\t\t\t\t\t\n",
      "\t\t\t\t\t\n",
      "\t\t\t\t\t\n",
      "\t\t\t\t\t에티오피아 ETB\n",
      "\t\t\t\t\n",
      "\t\t\t\t</a></td>, <td class=\"tit\"><a href=\"/marketindex/exchangeDetail.naver?marketindexCd=\" onclick=\"parent.clickcr(this, 'exl.exlist', '', '56', event);\" target=\"_parent\">\n",
      "\t\t\t\t\n",
      "\t\t\t\t\t\n",
      "\t\t\t\t\t\n",
      "\t\t\t\t\t\n",
      "\t\t\t\t\t우즈베키스탄 UZS\n",
      "\t\t\t\t\n",
      "\t\t\t\t</a></td>, <td class=\"tit\"><a href=\"/marketindex/exchangeDetail.naver?marketindexCd=\" onclick=\"parent.clickcr(this, 'exl.exlist', '', '57', event);\" target=\"_parent\">\n",
      "\t\t\t\t\n",
      "\t\t\t\t\t\n",
      "\t\t\t\t\t\n",
      "\t\t\t\t\t\n",
      "\t\t\t\t\t캄보디아 KHR\n",
      "\t\t\t\t\n",
      "\t\t\t\t</a></td>, <td class=\"tit\"><a href=\"/marketindex/exchangeDetail.naver?marketindexCd=\" onclick=\"parent.clickcr(this, 'exl.exlist', '', '58', event);\" target=\"_parent\">\n",
      "\t\t\t\t\n",
      "\t\t\t\t\t\n",
      "\t\t\t\t\t\n",
      "\t\t\t\t\t\n",
      "\t\t\t\t\t피지 FJD\n",
      "\t\t\t\t\n",
      "\t\t\t\t</a></td>], '환율': [<td class=\"sale\">1,370.00</td>, <td class=\"sale\">1,362.47</td>, <td class=\"sale\">975.47</td>, <td class=\"sale\">197.37</td>, <td class=\"sale\">174.55</td>, <td class=\"sale\">44.63</td>, <td class=\"sale\">1,582.90</td>, <td class=\"sale\">3,558.35</td>, <td class=\"sale\">1,043.57</td>, <td class=\"sale\">1,399.32</td>, <td class=\"sale\">126.97</td>, <td class=\"sale\">933.59</td>, <td class=\"sale\">836.59</td>, <td class=\"sale\">55.39</td>, <td class=\"sale\">1.55</td>, <td class=\"sale\">75.21</td>, <td class=\"sale\">0.43</td>, <td class=\"sale\">402.17</td>, <td class=\"sale\">183.22</td>, <td class=\"sale\">137.71</td>, <td class=\"sale\">364.46</td>, <td class=\"sale\">4,439.69</td>, <td class=\"sale\">3,633.76</td>, <td class=\"sale\">372.98</td>, <td class=\"sale\">1,932.30</td>, <td class=\"sale\">71.22</td>, <td class=\"sale\">37.47</td>, <td class=\"sale\">976.86</td>, <td class=\"sale\">304.97</td>, <td class=\"sale\">9.21</td>, <td class=\"sale\">372.15</td>, <td class=\"sale\">2.90</td>, <td class=\"sale\">976.86</td>, <td class=\"sale\">17.17</td>, <td class=\"sale\">6.24</td>, <td class=\"sale\">14.41</td>, <td class=\"sale\">24.05</td>, <td class=\"sale\">68.55</td>, <td class=\"sale\">265.75</td>, <td class=\"sale\">5.83</td>, <td class=\"sale\">79.73</td>, <td class=\"sale\">22.46</td>, <td class=\"sale\">3.37</td>, <td class=\"sale\">288.18</td>, <td class=\"sale\">3.81</td>, <td class=\"sale\">9.76</td>, <td class=\"sale\">11.40</td>, <td class=\"sale\">0.31</td>, <td class=\"sale\">0.59</td>, <td class=\"sale\">10.72</td>, <td class=\"sale\">282.30</td>, <td class=\"sale\">277.89</td>, <td class=\"sale\">169.42</td>, <td class=\"sale\">0.65</td>, <td class=\"sale\">25.95</td>, <td class=\"sale\">0.13</td>, <td class=\"sale\">0.33</td>, <td class=\"sale\">615.40</td>]}]\n"
     ]
    }
   ],
   "source": [
    "results = soup.select('tbody > tr')\n",
    "final_result = []\n",
    "\n",
    "for result in results:\n",
    "    result1 = soup.select('.tit')\n",
    "    result2 = soup.select('.sale')\n",
    "\n",
    "    temp = {\n",
    "        '통화명': result1,\n",
    "        '환율': result2\n",
    "    }\n",
    "\n",
    "final_result.append(temp)\n",
    "\n",
    "print(final_result)\n",
    "\n"
   ]
  },
  {
   "cell_type": "code",
   "execution_count": null,
   "metadata": {},
   "outputs": [],
   "source": []
  },
  {
   "cell_type": "code",
   "execution_count": null,
   "metadata": {},
   "outputs": [],
   "source": []
  },
  {
   "cell_type": "code",
   "execution_count": 15,
   "metadata": {},
   "outputs": [
    {
     "ename": "AttributeError",
     "evalue": "'str' object has no attribute 'extend'",
     "output_type": "error",
     "traceback": [
      "\u001b[1;31m---------------------------------------------------------------------------\u001b[0m",
      "\u001b[1;31mAttributeError\u001b[0m                            Traceback (most recent call last)",
      "\u001b[1;32md:\\새싹 금융데이터\\MJ-s_package\\환율 변환 모듈.ipynb 셀 10\u001b[0m in \u001b[0;36m<cell line: 1>\u001b[1;34m()\u001b[0m\n\u001b[1;32m----> <a href='vscode-notebook-cell:/d%3A/%EC%83%88%EC%8B%B9%20%EA%B8%88%EC%9C%B5%EB%8D%B0%EC%9D%B4%ED%84%B0/MJ-s_package/%ED%99%98%EC%9C%A8%20%EB%B3%80%ED%99%98%20%EB%AA%A8%EB%93%88.ipynb#X12sZmlsZQ%3D%3D?line=0'>1</a>\u001b[0m result_Currency \u001b[39m=\u001b[39m result_USD\u001b[39m.\u001b[39;49mextend(result_EUR)\n",
      "\u001b[1;31mAttributeError\u001b[0m: 'str' object has no attribute 'extend'"
     ]
    }
   ],
   "source": [
    "\n"
   ]
  },
  {
   "cell_type": "code",
   "execution_count": null,
   "metadata": {},
   "outputs": [],
   "source": []
  },
  {
   "cell_type": "code",
   "execution_count": 46,
   "metadata": {},
   "outputs": [
    {
     "data": {
      "text/plain": [
       "200"
      ]
     },
     "execution_count": 46,
     "metadata": {},
     "output_type": "execute_result"
    }
   ],
   "source": [
    "response.status_code"
   ]
  },
  {
   "cell_type": "code",
   "execution_count": 50,
   "metadata": {},
   "outputs": [
    {
     "data": {
      "text/plain": [
       "[<td class=\"sale\">1,371.50</td>,\n",
       " <td class=\"sale\">1,358.54</td>,\n",
       " <td class=\"sale\">977.30</td>,\n",
       " <td class=\"sale\">197.59</td>,\n",
       " <td class=\"sale\">174.74</td>,\n",
       " <td class=\"sale\">44.60</td>,\n",
       " <td class=\"sale\">1,575.03</td>,\n",
       " <td class=\"sale\">3,562.25</td>,\n",
       " <td class=\"sale\">1,043.28</td>,\n",
       " <td class=\"sale\">1,396.36</td>,\n",
       " <td class=\"sale\">126.42</td>,\n",
       " <td class=\"sale\">932.07</td>,\n",
       " <td class=\"sale\">836.34</td>,\n",
       " <td class=\"sale\">55.33</td>,\n",
       " <td class=\"sale\">1.56</td>,\n",
       " <td class=\"sale\">75.25</td>,\n",
       " <td class=\"sale\">0.43</td>,\n",
       " <td class=\"sale\">402.58</td>,\n",
       " <td class=\"sale\">182.68</td>,\n",
       " <td class=\"sale\">136.71</td>,\n",
       " <td class=\"sale\">364.91</td>,\n",
       " <td class=\"sale\">4,445.42</td>,\n",
       " <td class=\"sale\">3,638.12</td>,\n",
       " <td class=\"sale\">373.40</td>,\n",
       " <td class=\"sale\">1,932.64</td>,\n",
       " <td class=\"sale\">71.40</td>,\n",
       " <td class=\"sale\">37.36</td>,\n",
       " <td class=\"sale\">976.26</td>,\n",
       " <td class=\"sale\">305.59</td>,\n",
       " <td class=\"sale\">9.21</td>,\n",
       " <td class=\"sale\">374.42</td>,\n",
       " <td class=\"sale\">2.90</td>,\n",
       " <td class=\"sale\">976.26</td>,\n",
       " <td class=\"sale\">17.17</td>,\n",
       " <td class=\"sale\">6.25</td>,\n",
       " <td class=\"sale\">14.43</td>,\n",
       " <td class=\"sale\">24.07</td>,\n",
       " <td class=\"sale\">68.72</td>,\n",
       " <td class=\"sale\">265.49</td>,\n",
       " <td class=\"sale\">5.82</td>,\n",
       " <td class=\"sale\">79.16</td>,\n",
       " <td class=\"sale\">22.66</td>,\n",
       " <td class=\"sale\">3.38</td>,\n",
       " <td class=\"sale\">287.17</td>,\n",
       " <td class=\"sale\">3.81</td>,\n",
       " <td class=\"sale\">9.73</td>,\n",
       " <td class=\"sale\">11.40</td>,\n",
       " <td class=\"sale\">0.31</td>,\n",
       " <td class=\"sale\">0.59</td>,\n",
       " <td class=\"sale\">10.73</td>,\n",
       " <td class=\"sale\">281.52</td>,\n",
       " <td class=\"sale\">276.99</td>,\n",
       " <td class=\"sale\">169.57</td>,\n",
       " <td class=\"sale\">0.65</td>,\n",
       " <td class=\"sale\">25.98</td>,\n",
       " <td class=\"sale\">0.13</td>,\n",
       " <td class=\"sale\">0.33</td>,\n",
       " <td class=\"sale\">615.25</td>]"
      ]
     },
     "execution_count": 50,
     "metadata": {},
     "output_type": "execute_result"
    }
   ],
   "source": [
    "result2 = soup.select('.sale')\n",
    "result2"
   ]
  },
  {
   "cell_type": "code",
   "execution_count": null,
   "metadata": {},
   "outputs": [],
   "source": []
  },
  {
   "cell_type": "code",
   "execution_count": null,
   "metadata": {},
   "outputs": [],
   "source": []
  },
  {
   "cell_type": "code",
   "execution_count": null,
   "metadata": {},
   "outputs": [],
   "source": []
  },
  {
   "cell_type": "code",
   "execution_count": null,
   "metadata": {},
   "outputs": [],
   "source": []
  },
  {
   "cell_type": "code",
   "execution_count": 47,
   "metadata": {},
   "outputs": [],
   "source": [
    "result2 = soup.select('.sale')"
   ]
  },
  {
   "cell_type": "code",
   "execution_count": null,
   "metadata": {},
   "outputs": [],
   "source": []
  },
  {
   "cell_type": "code",
   "execution_count": null,
   "metadata": {},
   "outputs": [],
   "source": []
  },
  {
   "cell_type": "code",
   "execution_count": 31,
   "metadata": {},
   "outputs": [
    {
     "data": {
      "text/plain": [
       "[<td class=\"sale\">1,371.50</td>,\n",
       " <td class=\"sale\">1,358.54</td>,\n",
       " <td class=\"sale\">977.30</td>,\n",
       " <td class=\"sale\">197.59</td>,\n",
       " <td class=\"sale\">174.74</td>,\n",
       " <td class=\"sale\">44.60</td>,\n",
       " <td class=\"sale\">1,575.03</td>,\n",
       " <td class=\"sale\">3,562.25</td>,\n",
       " <td class=\"sale\">1,043.28</td>,\n",
       " <td class=\"sale\">1,396.36</td>,\n",
       " <td class=\"sale\">126.42</td>,\n",
       " <td class=\"sale\">932.07</td>,\n",
       " <td class=\"sale\">836.34</td>,\n",
       " <td class=\"sale\">55.33</td>,\n",
       " <td class=\"sale\">1.56</td>,\n",
       " <td class=\"sale\">75.25</td>,\n",
       " <td class=\"sale\">0.43</td>,\n",
       " <td class=\"sale\">402.58</td>,\n",
       " <td class=\"sale\">182.68</td>,\n",
       " <td class=\"sale\">136.71</td>,\n",
       " <td class=\"sale\">364.91</td>,\n",
       " <td class=\"sale\">4,445.42</td>,\n",
       " <td class=\"sale\">3,638.12</td>,\n",
       " <td class=\"sale\">373.40</td>,\n",
       " <td class=\"sale\">1,932.64</td>,\n",
       " <td class=\"sale\">71.40</td>,\n",
       " <td class=\"sale\">37.36</td>,\n",
       " <td class=\"sale\">976.26</td>,\n",
       " <td class=\"sale\">305.59</td>,\n",
       " <td class=\"sale\">9.21</td>,\n",
       " <td class=\"sale\">374.42</td>,\n",
       " <td class=\"sale\">2.90</td>,\n",
       " <td class=\"sale\">976.26</td>,\n",
       " <td class=\"sale\">17.17</td>,\n",
       " <td class=\"sale\">6.25</td>,\n",
       " <td class=\"sale\">14.43</td>,\n",
       " <td class=\"sale\">24.07</td>,\n",
       " <td class=\"sale\">68.72</td>,\n",
       " <td class=\"sale\">265.49</td>,\n",
       " <td class=\"sale\">5.82</td>,\n",
       " <td class=\"sale\">79.16</td>,\n",
       " <td class=\"sale\">22.66</td>,\n",
       " <td class=\"sale\">3.38</td>,\n",
       " <td class=\"sale\">287.17</td>,\n",
       " <td class=\"sale\">3.81</td>,\n",
       " <td class=\"sale\">9.73</td>,\n",
       " <td class=\"sale\">11.40</td>,\n",
       " <td class=\"sale\">0.31</td>,\n",
       " <td class=\"sale\">0.59</td>,\n",
       " <td class=\"sale\">10.73</td>,\n",
       " <td class=\"sale\">281.52</td>,\n",
       " <td class=\"sale\">276.99</td>,\n",
       " <td class=\"sale\">169.57</td>,\n",
       " <td class=\"sale\">0.65</td>,\n",
       " <td class=\"sale\">25.98</td>,\n",
       " <td class=\"sale\">0.13</td>,\n",
       " <td class=\"sale\">0.33</td>,\n",
       " <td class=\"sale\">615.25</td>]"
      ]
     },
     "execution_count": 31,
     "metadata": {},
     "output_type": "execute_result"
    }
   ],
   "source": [
    "result2"
   ]
  },
  {
   "cell_type": "code",
   "execution_count": null,
   "metadata": {},
   "outputs": [],
   "source": []
  },
  {
   "cell_type": "code",
   "execution_count": null,
   "metadata": {},
   "outputs": [],
   "source": []
  }
 ],
 "metadata": {
  "kernelspec": {
   "display_name": "Python 3.10.4 ('study')",
   "language": "python",
   "name": "python3"
  },
  "language_info": {
   "codemirror_mode": {
    "name": "ipython",
    "version": 3
   },
   "file_extension": ".py",
   "mimetype": "text/x-python",
   "name": "python",
   "nbconvert_exporter": "python",
   "pygments_lexer": "ipython3",
   "version": "3.10.4"
  },
  "orig_nbformat": 4,
  "vscode": {
   "interpreter": {
    "hash": "2a0060edd7d251760572a9face11b31d5845688b205e41687a3c0e7ba9f3ee93"
   }
  }
 },
 "nbformat": 4,
 "nbformat_minor": 2
}
