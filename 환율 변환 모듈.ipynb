{
 "cells": [
  {
   "cell_type": "code",
   "execution_count": 3,
   "metadata": {},
   "outputs": [
    {
     "name": "stdout",
     "output_type": "stream",
     "text": [
      "Collecting currencyconverter\n",
      "  Downloading CurrencyConverter-0.17-py3-none-any.whl (551 kB)\n",
      "     -------------------------------------- 551.8/551.8 kB 3.8 MB/s eta 0:00:00\n",
      "Installing collected packages: currencyconverter\n",
      "Successfully installed currencyconverter-0.17\n",
      "Note: you may need to restart the kernel to use updated packages.\n"
     ]
    }
   ],
   "source": [
    "pip install currencyconverter"
   ]
  },
  {
   "cell_type": "code",
   "execution_count": 8,
   "metadata": {},
   "outputs": [
    {
     "name": "stdout",
     "output_type": "stream",
     "text": [
      "0.7598268995672488\n"
     ]
    }
   ],
   "source": [
    "from currency_converter import CurrencyConverter\n",
    "c = CurrencyConverter()\n",
    "print(c.convert(1000, 'KRW', 'USD'))"
   ]
  },
  {
   "cell_type": "code",
   "execution_count": 7,
   "metadata": {},
   "outputs": [
    {
     "name": "stdout",
     "output_type": "stream",
     "text": [
      "{'THB', 'CYP', 'MTL', 'NOK', 'CZK', 'HKD', 'CNY', 'JPY', 'ISK', 'RON', 'CAD', 'BRL', 'PLN', 'GBP', 'EEK', 'USD', 'PHP', 'CHF', 'BGN', 'ZAR', 'ILS', 'INR', 'SEK', 'DKK', 'TRY', 'MYR', 'ROL', 'MXN', 'SGD', 'TRL', 'EUR', 'HUF', 'HRK', 'KRW', 'IDR', 'LTL', 'NZD', 'LVL', 'AUD', 'RUB', 'SKK', 'SIT'}\n"
     ]
    }
   ],
   "source": [
    "from currency_converter import CurrencyConverter\n",
    "c = CurrencyConverter()\n",
    "\n",
    "print(c.currencies)"
   ]
  },
  {
   "cell_type": "code",
   "execution_count": null,
   "metadata": {},
   "outputs": [],
   "source": []
  },
  {
   "cell_type": "code",
   "execution_count": null,
   "metadata": {},
   "outputs": [],
   "source": []
  },
  {
   "cell_type": "code",
   "execution_count": null,
   "metadata": {},
   "outputs": [],
   "source": []
  },
  {
   "cell_type": "code",
   "execution_count": null,
   "metadata": {},
   "outputs": [],
   "source": []
  },
  {
   "cell_type": "code",
   "execution_count": null,
   "metadata": {},
   "outputs": [],
   "source": []
  }
 ],
 "metadata": {
  "kernelspec": {
   "display_name": "Python 3.10.4 ('study')",
   "language": "python",
   "name": "python3"
  },
  "language_info": {
   "codemirror_mode": {
    "name": "ipython",
    "version": 3
   },
   "file_extension": ".py",
   "mimetype": "text/x-python",
   "name": "python",
   "nbconvert_exporter": "python",
   "pygments_lexer": "ipython3",
   "version": "3.10.4"
  },
  "orig_nbformat": 4,
  "vscode": {
   "interpreter": {
    "hash": "2a0060edd7d251760572a9face11b31d5845688b205e41687a3c0e7ba9f3ee93"
   }
  }
 },
 "nbformat": 4,
 "nbformat_minor": 2
}
