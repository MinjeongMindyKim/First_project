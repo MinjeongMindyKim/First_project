{
 "cells": [
  {
   "cell_type": "code",
   "execution_count": 20,
   "metadata": {},
   "outputs": [
    {
     "name": "stdout",
     "output_type": "stream",
     "text": [
      "Requirement already satisfied: currencyconverter in d:\\a\\envs\\study\\lib\\site-packages (0.17)\n",
      "Note: you may need to restart the kernel to use updated packages.\n"
     ]
    }
   ],
   "source": [
    "pip install currencyconverter"
   ]
  },
  {
   "cell_type": "code",
   "execution_count": 5,
   "metadata": {},
   "outputs": [
    {
     "name": "stdout",
     "output_type": "stream",
     "text": [
      "0.7598268995672488\n"
     ]
    }
   ],
   "source": [
    "from currency_converter import CurrencyConverter\n",
    "c = CurrencyConverter()\n",
    "print(c.convert(1000, 'KRW', 'USD'))"
   ]
  },
  {
   "cell_type": "code",
   "execution_count": 6,
   "metadata": {},
   "outputs": [
    {
     "name": "stdout",
     "output_type": "stream",
     "text": [
      "{'SGD', 'IDR', 'CNY', 'EEK', 'MYR', 'NOK', 'MTL', 'GBP', 'SKK', 'AUD', 'USD', 'HKD', 'ILS', 'TRL', 'CZK', 'LTL', 'SEK', 'ZAR', 'CYP', 'BGN', 'INR', 'MXN', 'RUB', 'CAD', 'THB', 'BRL', 'EUR', 'ROL', 'HUF', 'SIT', 'TRY', 'JPY', 'ISK', 'KRW', 'CHF', 'PHP', 'RON', 'DKK', 'HRK', 'LVL', 'PLN', 'NZD'}\n"
     ]
    }
   ],
   "source": [
    "from currency_converter import CurrencyConverter\n",
    "c = CurrencyConverter()\n",
    "\n",
    "print(c.currencies)"
   ]
  },
  {
   "cell_type": "markdown",
   "metadata": {},
   "source": [
    "##프로젝트 - 환율 part"
   ]
  },
  {
   "cell_type": "code",
   "execution_count": 7,
   "metadata": {},
   "outputs": [],
   "source": [
    "import requests\n",
    "URL = 'https://finance.naver.com/marketindex/exchangeList.naver'\n",
    "response = requests.get(URL)"
   ]
  },
  {
   "cell_type": "code",
   "execution_count": 8,
   "metadata": {},
   "outputs": [
    {
     "data": {
      "text/plain": [
       "200"
      ]
     },
     "execution_count": 8,
     "metadata": {},
     "output_type": "execute_result"
    }
   ],
   "source": [
    "response.status_code"
   ]
  },
  {
   "cell_type": "code",
   "execution_count": 9,
   "metadata": {},
   "outputs": [],
   "source": [
    "from bs4 import BeautifulSoup\n",
    "soup = BeautifulSoup(response.text, 'html.parser')"
   ]
  },
  {
   "cell_type": "code",
   "execution_count": 10,
   "metadata": {},
   "outputs": [
    {
     "data": {
      "text/plain": [
       "200"
      ]
     },
     "execution_count": 10,
     "metadata": {},
     "output_type": "execute_result"
    }
   ],
   "source": [
    "response.status_code"
   ]
  },
  {
   "cell_type": "code",
   "execution_count": 11,
   "metadata": {},
   "outputs": [],
   "source": [
    "def 환율():\n",
    "    URL = 'https://finance.naver.com/marketindex/exchangeList.naver'\n",
    "    response = requests.get(URL)\n",
    "    soup = BeautifulSoup(response.text, 'html.parser')\n",
    "    results = soup.select('tbody > tr')\n",
    "    final_result = []\n",
    "    result1 = soup.select('.tit')\n",
    "    result2 = soup.select('.sale')\n",
    "\n",
    "    for result in results:\n",
    "        #tbody > tr 검색한 것이 통화량 환율 등 한 행이니까 반복문을 돌리고 있음\n",
    "        #한 행별로 tit sale을 검색한다.(select_one 사용)\n",
    "        title = result.select_one('.tit').text.strip()\n",
    "        sale = result.select_one('.sale').text.strip()\n",
    "\n",
    "        temp = {\n",
    "            '통화명': title,\n",
    "            '환율': sale\n",
    "        }\n",
    "\n",
    "        final_result.append(temp)\n",
    "    \n",
    "    return final_result\n",
    "\n",
    "    #함수 안에 있는 변수는 밖에서 못씀\n",
    "    #지역변수 전역변수\n",
    "    #리턴을 달아주는 이유는 함수 안에서 실행돼서 밖에서 못쓰니까\n",
    "    #어떻게든 전달위해!!"
   ]
  },
  {
   "cell_type": "code",
   "execution_count": 12,
   "metadata": {},
   "outputs": [
    {
     "data": {
      "text/plain": [
       "[{'통화명': '미국 USD', '환율': '1,391.70'},\n",
       " {'통화명': '유럽연합 EUR', '환율': '1,391.28'},\n",
       " {'통화명': '일본 JPY (100엔)', '환율': '972.16'},\n",
       " {'통화명': '중국 CNY', '환율': '198.30'},\n",
       " {'통화명': '홍콩 HKD', '환율': '177.30'},\n",
       " {'통화명': '대만 TWD', '환율': '44.34'},\n",
       " {'통화명': '영국 GBP', '환율': '1,586.26'},\n",
       " {'통화명': '오만 OMR', '환율': '3,614.71'},\n",
       " {'통화명': '캐나다 CAD', '환율': '1,047.34'},\n",
       " {'통화명': '스위스 CHF', '환율': '1,441.13'},\n",
       " {'통화명': '스웨덴 SEK', '환율': '129.10'},\n",
       " {'통화명': '호주 AUD', '환율': '932.72'},\n",
       " {'통화명': '뉴질랜드 NZD', '환율': '830.29'},\n",
       " {'통화명': '체코 CZK', '환율': '56.73'},\n",
       " {'통화명': '칠레 CLP', '환율': '1.51'},\n",
       " {'통화명': '터키 TRY', '환율': '76.18'},\n",
       " {'통화명': '몽골 MNT', '환율': '0.43'},\n",
       " {'통화명': '이스라엘 ILS', '환율': '405.47'},\n",
       " {'통화명': '덴마크 DKK', '환율': '187.08'},\n",
       " {'통화명': '노르웨이 NOK', '환율': '136.06'},\n",
       " {'통화명': '사우디아라비아 SAR', '환율': '370.39'},\n",
       " {'통화명': '쿠웨이트 KWD', '환율': '4,501.70'},\n",
       " {'통화명': '바레인 BHD', '환율': '3,691.32'},\n",
       " {'통화명': '아랍에미리트 AED', '환율': '378.89'},\n",
       " {'통화명': '요르단 JOD', '환율': '1,962.91'},\n",
       " {'통화명': '이집트 EGP', '환율': '71.56'},\n",
       " {'통화명': '태국 THB', '환율': '37.70'},\n",
       " {'통화명': '싱가포르 SGD', '환율': '988.60'},\n",
       " {'통화명': '말레이시아 MYR', '환율': '306.24'},\n",
       " {'통화명': '인도네시아 IDR 100', '환율': '9.31'},\n",
       " {'통화명': '카타르 QAR', '환율': '378.81'},\n",
       " {'통화명': '카자흐스탄 KZT', '환율': '2.93'},\n",
       " {'통화명': '브루나이 BND', '환율': '988.60'},\n",
       " {'통화명': '인도 INR', '환율': '17.45'},\n",
       " {'통화명': '파키스탄 PKR', '환율': '5.82'},\n",
       " {'통화명': '방글라데시 BDT', '환율': '13.45'},\n",
       " {'통화명': '필리핀 PHP', '환율': '24.26'},\n",
       " {'통화명': '멕시코 MXN', '환율': '69.34'},\n",
       " {'통화명': '브라질 BRL', '환율': '264.86'},\n",
       " {'통화명': '베트남 VND 100', '환율': '5.88'},\n",
       " {'통화명': '남아프리카 공화국 ZAR', '환율': '78.73'},\n",
       " {'통화명': '러시아 RUB', '환율': '21.62'},\n",
       " {'통화명': '헝가리 HUF', '환율': '3.43'},\n",
       " {'통화명': '폴란드 PLN', '환율': '294.91'},\n",
       " {'통화명': '스리랑카 LKR', '환율': '3.82'},\n",
       " {'통화명': '알제리 DZD', '환율': '9.91'},\n",
       " {'통화명': '케냐 KES', '환율': '11.56'},\n",
       " {'통화명': '콜롬비아 COP', '환율': '0.31'},\n",
       " {'통화명': '탄자니아 TZS', '환율': '0.60'},\n",
       " {'통화명': '네팔 NPR', '환율': '10.91'},\n",
       " {'통화명': '루마니아 RON', '환율': '283.29'},\n",
       " {'통화명': '리비아 LYD', '환율': '280.45'},\n",
       " {'통화명': '마카오 MOP', '환율': '172.05'},\n",
       " {'통화명': '미얀마 MMK', '환율': '0.66'},\n",
       " {'통화명': '에티오피아 ETB', '환율': '26.35'},\n",
       " {'통화명': '우즈베키스탄 UZS', '환율': '0.13'},\n",
       " {'통화명': '캄보디아 KHR', '환율': '0.34'},\n",
       " {'통화명': '피지 FJD', '환율': '619.03'}]"
      ]
     },
     "execution_count": 12,
     "metadata": {},
     "output_type": "execute_result"
    }
   ],
   "source": [
    "환율()"
   ]
  },
  {
   "cell_type": "code",
   "execution_count": 13,
   "metadata": {},
   "outputs": [],
   "source": [
    "results = soup.select('tbody > tr')\n",
    "final_result = []\n",
    "result1 = soup.select('.tit')\n",
    "result2 = soup.select('.sale')\n",
    "\n",
    "for result in results:\n",
    "    #tbody > tr 검색한 것이 통화량 환율 등 한 행이니까 반복문을 돌리고 있음\n",
    "    #한 행별로 tit sale을 검색한다.(select_one 사용)\n",
    "    title = result.select_one('.tit').text.strip()\n",
    "    sale = result.select_one('.sale').text.strip()\n",
    "\n",
    "    if 'USD' in title:\n",
    "        final_result.append({\n",
    "            '통화명': title,\n",
    "            '환율': sale\n",
    "            })\n",
    "\n",
    "    if 'EUR' in title:\n",
    "        final_result.append({\n",
    "            '통화명': title,\n",
    "            '환율': sale\n",
    "            })\n",
    "\n",
    "    if 'JPY' in title:\n",
    "        final_result.append({\n",
    "            '통화명': title,\n",
    "            '환율': sale\n",
    "            })\n",
    "\n",
    "    if 'GBP' in title:\n",
    "        final_result.append({\n",
    "            '통화명': title,\n",
    "            '환율': sale\n",
    "            })\n",
    "\n",
    "#     temp = {\n",
    "#         '통화명': title,\n",
    "#         '환율': sale\n",
    "#     }\n",
    "\n",
    "#     final_result.append(temp)\n",
    "\n",
    "# print(final_result)\n",
    "\n"
   ]
  },
  {
   "cell_type": "code",
   "execution_count": 10,
   "metadata": {},
   "outputs": [
    {
     "ename": "SyntaxError",
     "evalue": "invalid syntax (3311209642.py, line 8)",
     "output_type": "error",
     "traceback": [
      "\u001b[1;36m  Input \u001b[1;32mIn [10]\u001b[1;36m\u001b[0m\n\u001b[1;33m    오늘의 환율 미국\u001b[0m\n\u001b[1;37m        ^\u001b[0m\n\u001b[1;31mSyntaxError\u001b[0m\u001b[1;31m:\u001b[0m invalid syntax\n"
     ]
    }
   ],
   "source": [
    "result_USD = final_result[0] #딕셔너리에는 텍스트가 없음\n",
    "result_EUR = final_result[1]\n",
    "result_JPY = final_result[2]\n",
    "result_GBP = final_result[6]\n",
    "\n",
    "#인덱스 배열을 새로 만들어라 \n",
    "\n",
    "오늘의 환율 미국\n",
    "환율 미국\n",
    "split()\n",
    "[0] = 환율\n",
    "if [0]== 환율 이면\n",
    "[1] 값을 가지고\n",
    "특정 환율정보만 보내주는식으로\n",
    "미국\n",
    "{\n",
    "    '미국': 'USD',\n",
    "    '유럽':'EUC'\n",
    "} "
   ]
  },
  {
   "cell_type": "code",
   "execution_count": 15,
   "metadata": {},
   "outputs": [
    {
     "data": {
      "text/plain": [
       "[{'통화명': '미국 USD', '환율': '1,391.70'},\n",
       " {'통화명': '유럽연합 EUR', '환율': '1,391.28'},\n",
       " {'통화명': '일본 JPY (100엔)', '환율': '972.16'},\n",
       " {'통화명': '영국 GBP', '환율': '1,586.26'}]"
      ]
     },
     "execution_count": 15,
     "metadata": {},
     "output_type": "execute_result"
    }
   ],
   "source": [
    "final_result"
   ]
  },
  {
   "cell_type": "code",
   "execution_count": 6,
   "metadata": {},
   "outputs": [
    {
     "name": "stdout",
     "output_type": "stream",
     "text": [
      "Collecting finance-datareader\n",
      "  Downloading finance_datareader-0.9.34-py3-none-any.whl (17 kB)\n",
      "Collecting tqdm\n",
      "  Downloading tqdm-4.64.1-py2.py3-none-any.whl (78 kB)\n",
      "     ---------------------------------------- 78.5/78.5 kB 2.2 MB/s eta 0:00:00\n",
      "Requirement already satisfied: lxml in d:\\a\\envs\\study\\lib\\site-packages (from finance-datareader) (4.9.1)\n",
      "Requirement already satisfied: pandas>=0.19.2 in d:\\a\\envs\\study\\lib\\site-packages (from finance-datareader) (1.4.3)\n",
      "Collecting requests-file\n",
      "  Downloading requests_file-1.5.1-py2.py3-none-any.whl (3.7 kB)\n",
      "Requirement already satisfied: requests>=2.3.0 in d:\\a\\envs\\study\\lib\\site-packages (from finance-datareader) (2.28.1)\n",
      "Requirement already satisfied: python-dateutil>=2.8.1 in d:\\a\\envs\\study\\lib\\site-packages (from pandas>=0.19.2->finance-datareader) (2.8.2)\n",
      "Requirement already satisfied: pytz>=2020.1 in d:\\a\\envs\\study\\lib\\site-packages (from pandas>=0.19.2->finance-datareader) (2022.2.1)\n",
      "Requirement already satisfied: numpy>=1.21.0 in d:\\a\\envs\\study\\lib\\site-packages (from pandas>=0.19.2->finance-datareader) (1.23.2)\n",
      "Requirement already satisfied: idna<4,>=2.5 in d:\\a\\envs\\study\\lib\\site-packages (from requests>=2.3.0->finance-datareader) (3.3)\n",
      "Requirement already satisfied: charset-normalizer<3,>=2 in d:\\a\\envs\\study\\lib\\site-packages (from requests>=2.3.0->finance-datareader) (2.1.1)\n",
      "Requirement already satisfied: certifi>=2017.4.17 in d:\\a\\envs\\study\\lib\\site-packages (from requests>=2.3.0->finance-datareader) (2022.6.15)\n",
      "Requirement already satisfied: urllib3<1.27,>=1.21.1 in d:\\a\\envs\\study\\lib\\site-packages (from requests>=2.3.0->finance-datareader) (1.26.12)\n",
      "Requirement already satisfied: six in d:\\a\\envs\\study\\lib\\site-packages (from requests-file->finance-datareader) (1.16.0)\n",
      "Requirement already satisfied: colorama in d:\\a\\envs\\study\\lib\\site-packages (from tqdm->finance-datareader) (0.4.5)\n",
      "Installing collected packages: tqdm, requests-file, finance-datareader\n",
      "Successfully installed finance-datareader-0.9.34 requests-file-1.5.1 tqdm-4.64.1\n",
      "Note: you may need to restart the kernel to use updated packages.\n"
     ]
    }
   ],
   "source": [
    "pip install finance-datareader"
   ]
  },
  {
   "cell_type": "code",
   "execution_count": 22,
   "metadata": {},
   "outputs": [
    {
     "ename": "JSONDecodeError",
     "evalue": "Expecting value: line 1 column 1 (char 0)",
     "output_type": "error",
     "traceback": [
      "\u001b[1;31m---------------------------------------------------------------------------\u001b[0m",
      "\u001b[1;31mJSONDecodeError\u001b[0m                           Traceback (most recent call last)",
      "File \u001b[1;32md:\\a\\envs\\study\\lib\\site-packages\\requests\\models.py:971\u001b[0m, in \u001b[0;36mResponse.json\u001b[1;34m(self, **kwargs)\u001b[0m\n\u001b[0;32m    970\u001b[0m \u001b[39mtry\u001b[39;00m:\n\u001b[1;32m--> 971\u001b[0m     \u001b[39mreturn\u001b[39;00m complexjson\u001b[39m.\u001b[39mloads(\u001b[39mself\u001b[39m\u001b[39m.\u001b[39mtext, \u001b[39m*\u001b[39m\u001b[39m*\u001b[39mkwargs)\n\u001b[0;32m    972\u001b[0m \u001b[39mexcept\u001b[39;00m JSONDecodeError \u001b[39mas\u001b[39;00m e:\n\u001b[0;32m    973\u001b[0m     \u001b[39m# Catch JSON-related errors and raise as requests.JSONDecodeError\u001b[39;00m\n\u001b[0;32m    974\u001b[0m     \u001b[39m# This aliases json.JSONDecodeError and simplejson.JSONDecodeError\u001b[39;00m\n",
      "File \u001b[1;32md:\\a\\envs\\study\\lib\\json\\__init__.py:346\u001b[0m, in \u001b[0;36mloads\u001b[1;34m(s, cls, object_hook, parse_float, parse_int, parse_constant, object_pairs_hook, **kw)\u001b[0m\n\u001b[0;32m    343\u001b[0m \u001b[39mif\u001b[39;00m (\u001b[39mcls\u001b[39m \u001b[39mis\u001b[39;00m \u001b[39mNone\u001b[39;00m \u001b[39mand\u001b[39;00m object_hook \u001b[39mis\u001b[39;00m \u001b[39mNone\u001b[39;00m \u001b[39mand\u001b[39;00m\n\u001b[0;32m    344\u001b[0m         parse_int \u001b[39mis\u001b[39;00m \u001b[39mNone\u001b[39;00m \u001b[39mand\u001b[39;00m parse_float \u001b[39mis\u001b[39;00m \u001b[39mNone\u001b[39;00m \u001b[39mand\u001b[39;00m\n\u001b[0;32m    345\u001b[0m         parse_constant \u001b[39mis\u001b[39;00m \u001b[39mNone\u001b[39;00m \u001b[39mand\u001b[39;00m object_pairs_hook \u001b[39mis\u001b[39;00m \u001b[39mNone\u001b[39;00m \u001b[39mand\u001b[39;00m \u001b[39mnot\u001b[39;00m kw):\n\u001b[1;32m--> 346\u001b[0m     \u001b[39mreturn\u001b[39;00m _default_decoder\u001b[39m.\u001b[39;49mdecode(s)\n\u001b[0;32m    347\u001b[0m \u001b[39mif\u001b[39;00m \u001b[39mcls\u001b[39m \u001b[39mis\u001b[39;00m \u001b[39mNone\u001b[39;00m:\n",
      "File \u001b[1;32md:\\a\\envs\\study\\lib\\json\\decoder.py:337\u001b[0m, in \u001b[0;36mJSONDecoder.decode\u001b[1;34m(self, s, _w)\u001b[0m\n\u001b[0;32m    333\u001b[0m \u001b[39m\"\"\"Return the Python representation of ``s`` (a ``str`` instance\u001b[39;00m\n\u001b[0;32m    334\u001b[0m \u001b[39mcontaining a JSON document).\u001b[39;00m\n\u001b[0;32m    335\u001b[0m \n\u001b[0;32m    336\u001b[0m \u001b[39m\"\"\"\u001b[39;00m\n\u001b[1;32m--> 337\u001b[0m obj, end \u001b[39m=\u001b[39m \u001b[39mself\u001b[39;49m\u001b[39m.\u001b[39;49mraw_decode(s, idx\u001b[39m=\u001b[39;49m_w(s, \u001b[39m0\u001b[39;49m)\u001b[39m.\u001b[39;49mend())\n\u001b[0;32m    338\u001b[0m end \u001b[39m=\u001b[39m _w(s, end)\u001b[39m.\u001b[39mend()\n",
      "File \u001b[1;32md:\\a\\envs\\study\\lib\\json\\decoder.py:355\u001b[0m, in \u001b[0;36mJSONDecoder.raw_decode\u001b[1;34m(self, s, idx)\u001b[0m\n\u001b[0;32m    354\u001b[0m \u001b[39mexcept\u001b[39;00m \u001b[39mStopIteration\u001b[39;00m \u001b[39mas\u001b[39;00m err:\n\u001b[1;32m--> 355\u001b[0m     \u001b[39mraise\u001b[39;00m JSONDecodeError(\u001b[39m\"\u001b[39m\u001b[39mExpecting value\u001b[39m\u001b[39m\"\u001b[39m, s, err\u001b[39m.\u001b[39mvalue) \u001b[39mfrom\u001b[39;00m \u001b[39mNone\u001b[39m\n\u001b[0;32m    356\u001b[0m \u001b[39mreturn\u001b[39;00m obj, end\n",
      "\u001b[1;31mJSONDecodeError\u001b[0m: Expecting value: line 1 column 1 (char 0)",
      "\nDuring handling of the above exception, another exception occurred:\n",
      "\u001b[1;31mJSONDecodeError\u001b[0m                           Traceback (most recent call last)",
      "\u001b[1;32md:\\새싹 금융데이터\\MJ-s_package\\환율 변환 모듈.ipynb 셀 15\u001b[0m in \u001b[0;36m<cell line: 3>\u001b[1;34m()\u001b[0m\n\u001b[0;32m      <a href='vscode-notebook-cell:/d%3A/%EC%83%88%EC%8B%B9%20%EA%B8%88%EC%9C%B5%EB%8D%B0%EC%9D%B4%ED%84%B0/MJ-s_package/%ED%99%98%EC%9C%A8%20%EB%B3%80%ED%99%98%20%EB%AA%A8%EB%93%88.ipynb#X16sZmlsZQ%3D%3D?line=0'>1</a>\u001b[0m \u001b[39mimport\u001b[39;00m \u001b[39mFinanceDataReader\u001b[39;00m \u001b[39mas\u001b[39;00m \u001b[39mfdr\u001b[39;00m\n\u001b[1;32m----> <a href='vscode-notebook-cell:/d%3A/%EC%83%88%EC%8B%B9%20%EA%B8%88%EC%9C%B5%EB%8D%B0%EC%9D%B4%ED%84%B0/MJ-s_package/%ED%99%98%EC%9C%A8%20%EB%B3%80%ED%99%98%20%EB%AA%A8%EB%93%88.ipynb#X16sZmlsZQ%3D%3D?line=2'>3</a>\u001b[0m df \u001b[39m=\u001b[39m fdr\u001b[39m.\u001b[39;49mDataReader(\u001b[39m'\u001b[39;49m\u001b[39mUSD/KRW\u001b[39;49m\u001b[39m'\u001b[39;49m, \u001b[39m'\u001b[39;49m\u001b[39m2012\u001b[39;49m\u001b[39m'\u001b[39;49m)\n\u001b[0;32m      <a href='vscode-notebook-cell:/d%3A/%EC%83%88%EC%8B%B9%20%EA%B8%88%EC%9C%B5%EB%8D%B0%EC%9D%B4%ED%84%B0/MJ-s_package/%ED%99%98%EC%9C%A8%20%EB%B3%80%ED%99%98%20%EB%AA%A8%EB%93%88.ipynb#X16sZmlsZQ%3D%3D?line=3'>4</a>\u001b[0m \u001b[39mprint\u001b[39m(df)\n",
      "File \u001b[1;32md:\\a\\envs\\study\\lib\\site-packages\\FinanceDataReader\\data.py:41\u001b[0m, in \u001b[0;36mDataReader\u001b[1;34m(symbol, start, end, exchange, data_source)\u001b[0m\n\u001b[0;32m     39\u001b[0m \u001b[39m# Investing\u001b[39;00m\n\u001b[0;32m     40\u001b[0m reader \u001b[39m=\u001b[39m InvestingDailyReader\n\u001b[1;32m---> 41\u001b[0m df \u001b[39m=\u001b[39m reader(symbol, start, end, exchange, data_source)\u001b[39m.\u001b[39;49mread()\n\u001b[0;32m     42\u001b[0m end \u001b[39m=\u001b[39m \u001b[39mmin\u001b[39m([pd\u001b[39m.\u001b[39mto_datetime(end), datetime\u001b[39m.\u001b[39mtoday()])\n\u001b[0;32m     43\u001b[0m \u001b[39mwhile\u001b[39;00m \u001b[39mlen\u001b[39m(df) \u001b[39mand\u001b[39;00m df\u001b[39m.\u001b[39mindex[\u001b[39m-\u001b[39m\u001b[39m1\u001b[39m] \u001b[39m<\u001b[39m end: \u001b[39m# issues/30\u001b[39;00m\n",
      "File \u001b[1;32md:\\a\\envs\\study\\lib\\site-packages\\FinanceDataReader\\investing\\data.py:63\u001b[0m, in \u001b[0;36mInvestingDailyReader.read\u001b[1;34m(self)\u001b[0m\n\u001b[0;32m     61\u001b[0m start_date_str \u001b[39m=\u001b[39m \u001b[39mself\u001b[39m\u001b[39m.\u001b[39mstart\u001b[39m.\u001b[39mstrftime(\u001b[39m'\u001b[39m\u001b[39m%\u001b[39m\u001b[39mm/\u001b[39m\u001b[39m%d\u001b[39;00m\u001b[39m/\u001b[39m\u001b[39m%\u001b[39m\u001b[39mY\u001b[39m\u001b[39m'\u001b[39m)\n\u001b[0;32m     62\u001b[0m end_date_str \u001b[39m=\u001b[39m \u001b[39mself\u001b[39m\u001b[39m.\u001b[39mend\u001b[39m.\u001b[39mstrftime(\u001b[39m'\u001b[39m\u001b[39m%\u001b[39m\u001b[39mm/\u001b[39m\u001b[39m%d\u001b[39;00m\u001b[39m/\u001b[39m\u001b[39m%\u001b[39m\u001b[39mY\u001b[39m\u001b[39m'\u001b[39m)\n\u001b[1;32m---> 63\u001b[0m curr_id \u001b[39m=\u001b[39m \u001b[39mself\u001b[39;49m\u001b[39m.\u001b[39;49m_get_currid_investing(\u001b[39mself\u001b[39;49m\u001b[39m.\u001b[39;49msymbol, \u001b[39mself\u001b[39;49m\u001b[39m.\u001b[39;49mexchange, \u001b[39mself\u001b[39;49m\u001b[39m.\u001b[39;49mdata_source)\n\u001b[0;32m     64\u001b[0m \u001b[39mif\u001b[39;00m \u001b[39mnot\u001b[39;00m curr_id:\n\u001b[0;32m     65\u001b[0m     \u001b[39mraise\u001b[39;00m \u001b[39mValueError\u001b[39;00m(\u001b[39m\"\u001b[39m\u001b[39mSymbol unsupported or not found\u001b[39m\u001b[39m\"\u001b[39m)\n",
      "File \u001b[1;32md:\\a\\envs\\study\\lib\\site-packages\\FinanceDataReader\\investing\\data.py:31\u001b[0m, in \u001b[0;36mInvestingDailyReader._get_currid_investing\u001b[1;34m(self, symbol, exchange, data_source)\u001b[0m\n\u001b[0;32m     26\u001b[0m headers \u001b[39m=\u001b[39m {\n\u001b[0;32m     27\u001b[0m     \u001b[39m'\u001b[39m\u001b[39mUser-Agent\u001b[39m\u001b[39m'\u001b[39m:\u001b[39m'\u001b[39m\u001b[39mMozilla/5.0 (Macintosh) AppleWebKit/537.36 Chrome/98.0.4758.109\u001b[39m\u001b[39m'\u001b[39m,\n\u001b[0;32m     28\u001b[0m     \u001b[39m'\u001b[39m\u001b[39mX-Requested-With\u001b[39m\u001b[39m'\u001b[39m:\u001b[39m'\u001b[39m\u001b[39mXMLHttpRequest\u001b[39m\u001b[39m'\u001b[39m,\n\u001b[0;32m     29\u001b[0m }\n\u001b[0;32m     30\u001b[0m r \u001b[39m=\u001b[39m requests\u001b[39m.\u001b[39mpost(url, data\u001b[39m=\u001b[39m{\u001b[39m'\u001b[39m\u001b[39msearch_text\u001b[39m\u001b[39m'\u001b[39m: symbol}, headers\u001b[39m=\u001b[39mheaders)\n\u001b[1;32m---> 31\u001b[0m jo \u001b[39m=\u001b[39m r\u001b[39m.\u001b[39;49mjson()\n\u001b[0;32m     32\u001b[0m \u001b[39mif\u001b[39;00m \u001b[39mlen\u001b[39m(jo[\u001b[39m'\u001b[39m\u001b[39mquotes\u001b[39m\u001b[39m'\u001b[39m]) \u001b[39m==\u001b[39m \u001b[39m0\u001b[39m:\n\u001b[0;32m     33\u001b[0m     \u001b[39mraise\u001b[39;00m \u001b[39mValueError\u001b[39;00m(\u001b[39mf\u001b[39m\u001b[39m\"\u001b[39m\u001b[39mSymbol(\u001b[39m\u001b[39m'\u001b[39m\u001b[39m{\u001b[39;00msymbol\u001b[39m}\u001b[39;00m\u001b[39m'\u001b[39m\u001b[39m) not found\u001b[39m\u001b[39m\"\u001b[39m)\n",
      "File \u001b[1;32md:\\a\\envs\\study\\lib\\site-packages\\requests\\models.py:975\u001b[0m, in \u001b[0;36mResponse.json\u001b[1;34m(self, **kwargs)\u001b[0m\n\u001b[0;32m    971\u001b[0m     \u001b[39mreturn\u001b[39;00m complexjson\u001b[39m.\u001b[39mloads(\u001b[39mself\u001b[39m\u001b[39m.\u001b[39mtext, \u001b[39m*\u001b[39m\u001b[39m*\u001b[39mkwargs)\n\u001b[0;32m    972\u001b[0m \u001b[39mexcept\u001b[39;00m JSONDecodeError \u001b[39mas\u001b[39;00m e:\n\u001b[0;32m    973\u001b[0m     \u001b[39m# Catch JSON-related errors and raise as requests.JSONDecodeError\u001b[39;00m\n\u001b[0;32m    974\u001b[0m     \u001b[39m# This aliases json.JSONDecodeError and simplejson.JSONDecodeError\u001b[39;00m\n\u001b[1;32m--> 975\u001b[0m     \u001b[39mraise\u001b[39;00m RequestsJSONDecodeError(e\u001b[39m.\u001b[39mmsg, e\u001b[39m.\u001b[39mdoc, e\u001b[39m.\u001b[39mpos)\n",
      "\u001b[1;31mJSONDecodeError\u001b[0m: Expecting value: line 1 column 1 (char 0)"
     ]
    }
   ],
   "source": [
    "import FinanceDataReader as fdr\n",
    "\n",
    "df = fdr.DataReader('USD/KRW', '2012')\n",
    "print(df)\n",
    "# matplotlib, seaborn 적용해보기 그래프"
   ]
  },
  {
   "cell_type": "code",
   "execution_count": 1,
   "metadata": {},
   "outputs": [
    {
     "ename": "SyntaxError",
     "evalue": "invalid syntax (69090601.py, line 1)",
     "output_type": "error",
     "traceback": [
      "\u001b[1;36m  Input \u001b[1;32mIn [1]\u001b[1;36m\u001b[0m\n\u001b[1;33m    pip install matplotlib\u001b[0m\n\u001b[1;37m        ^\u001b[0m\n\u001b[1;31mSyntaxError\u001b[0m\u001b[1;31m:\u001b[0m invalid syntax\n"
     ]
    }
   ],
   "source": [
    "pip install matplotlib\n",
    "\n",
    "#그래프 모듈 다운"
   ]
  },
  {
   "cell_type": "code",
   "execution_count": null,
   "metadata": {},
   "outputs": [],
   "source": []
  },
  {
   "cell_type": "code",
   "execution_count": null,
   "metadata": {},
   "outputs": [],
   "source": []
  },
  {
   "cell_type": "code",
   "execution_count": null,
   "metadata": {},
   "outputs": [],
   "source": []
  },
  {
   "cell_type": "code",
   "execution_count": 14,
   "metadata": {},
   "outputs": [],
   "source": [
    "#10년간 환율 변동 추이 그래프화해서 메일로 받기"
   ]
  },
  {
   "cell_type": "markdown",
   "metadata": {},
   "source": [
    "## 프로젝트 - 축제 part"
   ]
  },
  {
   "cell_type": "code",
   "execution_count": 25,
   "metadata": {},
   "outputs": [],
   "source": [
    "#번외 테이블 만들기(축제정보)\n",
    "# <div class=\"container text-center\">\n",
    "#   <div class=\"row\">\n",
    "#     <div class=\"col\">\n",
    "#       Column\n",
    "#     </div>\n",
    "#     <div class=\"col\">\n",
    "#       Column\n",
    "#     </div>\n",
    "#     <div class=\"col\">\n",
    "#       Column\n",
    "#     </div>\n",
    "#   </div>\n",
    "# </div>"
   ]
  },
  {
   "cell_type": "code",
   "execution_count": 2,
   "metadata": {},
   "outputs": [],
   "source": [
    "import requests"
   ]
  },
  {
   "cell_type": "code",
   "execution_count": 3,
   "metadata": {},
   "outputs": [
    {
     "data": {
      "text/plain": [
       "200"
      ]
     },
     "execution_count": 3,
     "metadata": {},
     "output_type": "execute_result"
    }
   ],
   "source": [
    "headers= {\n",
    "    'user-agent': 'Mozilla/5.0 (Windows NT 10.0; Win64; x64) AppleWebKit/537.36 (KHTML, like Gecko) Chrome/105.0.0.0 Safari/537.36'\n",
    "}\n",
    "r = requests.get('https://search.naver.com/search.naver?where=nexearch&sm=top_hty&fbm=0&ie=utf8', headers=headers)\n",
    "BASE_URL = 'https://search.naver.com/search.naver?where=nexearch&sm=tab_etc&mra=bk5C&qvt=0'\n",
    "parameters = '&query=프랑스 축제'\n",
    "\n",
    "URL = BASE_URL + parameters\n",
    "res = requests.get(URL, headers=headers)\n",
    "\n",
    "res.status_code"
   ]
  },
  {
   "cell_type": "code",
   "execution_count": 4,
   "metadata": {},
   "outputs": [],
   "source": [
    "from bs4 import BeautifulSoup\n",
    "soup = BeautifulSoup(res.text, 'html.parser')"
   ]
  },
  {
   "cell_type": "code",
   "execution_count": 5,
   "metadata": {},
   "outputs": [
    {
     "ename": "NameError",
     "evalue": "name 'cou_list' is not defined",
     "output_type": "error",
     "traceback": [
      "\u001b[1;31m---------------------------------------------------------------------------\u001b[0m",
      "\u001b[1;31mNameError\u001b[0m                                 Traceback (most recent call last)",
      "\u001b[1;32md:\\새싹 금융데이터\\MJ-s_package\\환율 변환 모듈.ipynb 셀 26\u001b[0m in \u001b[0;36m<cell line: 2>\u001b[1;34m()\u001b[0m\n\u001b[0;32m      <a href='vscode-notebook-cell:/d%3A/%EC%83%88%EC%8B%B9%20%EA%B8%88%EC%9C%B5%EB%8D%B0%EC%9D%B4%ED%84%B0/MJ-s_package/%ED%99%98%EC%9C%A8%20%EB%B3%80%ED%99%98%20%EB%AA%A8%EB%93%88.ipynb#X34sZmlsZQ%3D%3D?line=0'>1</a>\u001b[0m cou_result \u001b[39m=\u001b[39m []\n\u001b[1;32m----> <a href='vscode-notebook-cell:/d%3A/%EC%83%88%EC%8B%B9%20%EA%B8%88%EC%9C%B5%EB%8D%B0%EC%9D%B4%ED%84%B0/MJ-s_package/%ED%99%98%EC%9C%A8%20%EB%B3%80%ED%99%98%20%EB%AA%A8%EB%93%88.ipynb#X34sZmlsZQ%3D%3D?line=1'>2</a>\u001b[0m \u001b[39mfor\u001b[39;00m i \u001b[39min\u001b[39;00m cou_list:\n\u001b[0;32m      <a href='vscode-notebook-cell:/d%3A/%EC%83%88%EC%8B%B9%20%EA%B8%88%EC%9C%B5%EB%8D%B0%EC%9D%B4%ED%84%B0/MJ-s_package/%ED%99%98%EC%9C%A8%20%EB%B3%80%ED%99%98%20%EB%AA%A8%EB%93%88.ipynb#X34sZmlsZQ%3D%3D?line=2'>3</a>\u001b[0m     \u001b[39mlist\u001b[39m(\u001b[39mrange\u001b[39m(독일))\n",
      "\u001b[1;31mNameError\u001b[0m: name 'cou_list' is not defined"
     ]
    }
   ],
   "source": [
    "cou_result = []\n",
    "for i in cou_list:\n",
    "    list(range(독일))\n",
    "  \n",
    "\n",
    "#쿼리값 부분에 입력값을 받아라 사이트에서 국가 이름을 받아오게끔 해라"
   ]
  },
  {
   "cell_type": "code",
   "execution_count": 9,
   "metadata": {},
   "outputs": [
    {
     "name": "stdout",
     "output_type": "stream",
     "text": [
      "[<tr class=\"blind\"> <th class=\"first\" scope=\"col\">축제명</th> <th scope=\"col\">기간(현지기준)</th> <th scope=\"col\">장소</th> </tr>, <tr class=\"first_row\"> <td class=\"first tc\"> <p><a href=\"http://oposito.fr/-Les-33es-Rencontres-d-Ici-et-d-.html\" onclick='return goOtherCR(this,\"a=nco_xbn*1&amp;r=1&amp;i=\"+urlencode(\"80176088_00000093197D+80176088_0000009319EB+80176088_00000091EFB8+80176088_0000009319C3+80176088_000000931A89+80176088_00000091DB7C+80176088_0000009319F4+80176088_00000091EF52+80176088_000000931A71+80176088_00000091EF47+80176088_00000098C652+80176088_000000931A6A+80176088_000000931ADB+80176088_00000093196D+80176088_00000091797E\")+\"&amp;u=\"+urlencode(this.href));' target=\"_blank\">오포지토 거리극 페스티벌</a></p> </td> <td> <p style=\"text-align: center;\"> 2022.05.21. ~ 11.27. </p> </td> <td> <p><a href=\"https://goo.gl/maps/rfubtRDpCzH2\" onclick='return goOtherCR(this,\"a=nco_xbn*1&amp;r=1&amp;i=\"+urlencode(\"80176088_00000093197D+80176088_0000009319EB+80176088_00000091EFB8+80176088_0000009319C3+80176088_000000931A89+80176088_00000091DB7C+80176088_0000009319F4+80176088_00000091EF52+80176088_000000931A71+80176088_00000091EF47+80176088_00000098C652+80176088_000000931A6A+80176088_000000931ADB+80176088_00000093196D+80176088_00000091797E\")+\"&amp;u=\"+urlencode(this.href));' target=\"_blank\">프랑스 발두아즈 갸흐쥬레고네쓰</a></p> </td> </tr>, <tr> <td class=\"first tc\"> <p><a href=\"https://nouveaugareautheatre.com/\" onclick='return goOtherCR(this,\"a=nco_xbn*1&amp;r=1&amp;i=\"+urlencode(\"80176088_00000093197D+80176088_0000009319EB+80176088_00000091EFB8+80176088_0000009319C3+80176088_000000931A89+80176088_00000091DB7C+80176088_0000009319F4+80176088_00000091EF52+80176088_000000931A71+80176088_00000091EF47+80176088_00000098C652+80176088_000000931A6A+80176088_000000931ADB+80176088_00000093196D+80176088_00000091797E\")+\"&amp;u=\"+urlencode(this.href));' target=\"_blank\">우리는 아비뇽에 가지 않을거야</a></p> </td> <td> <p style=\"text-align: center;\"> 2022.06.01. ~ 09.18. </p> </td> <td> <p><a href=\"https://goo.gl/maps/M2pvQRxxNzq\" onclick='return goOtherCR(this,\"a=nco_xbn*1&amp;r=1&amp;i=\"+urlencode(\"80176088_00000093197D+80176088_0000009319EB+80176088_00000091EFB8+80176088_0000009319C3+80176088_000000931A89+80176088_00000091DB7C+80176088_0000009319F4+80176088_00000091EF52+80176088_000000931A71+80176088_00000091EF47+80176088_00000098C652+80176088_000000931A6A+80176088_000000931ADB+80176088_00000093196D+80176088_00000091797E\")+\"&amp;u=\"+urlencode(this.href));' target=\"_blank\">프랑스 비뜨히 슈흐 쎈느</a></p> </td> </tr>, <tr> <td class=\"first tc\"> <p><a href=\"https://www.maison-objet.com\" onclick='return goOtherCR(this,\"a=nco_xbn*1&amp;r=1&amp;i=\"+urlencode(\"80176088_00000093197D+80176088_0000009319EB+80176088_00000091EFB8+80176088_0000009319C3+80176088_000000931A89+80176088_00000091DB7C+80176088_0000009319F4+80176088_00000091EF52+80176088_000000931A71+80176088_00000091EF47+80176088_00000098C652+80176088_000000931A6A+80176088_000000931ADB+80176088_00000093196D+80176088_00000091797E\")+\"&amp;u=\"+urlencode(this.href));' target=\"_blank\">메종&amp;오브제</a></p> </td> <td> <p style=\"text-align: center;\"> 2022.09.08. ~ 09.12. </p> </td> <td> <p><a href=\"https://www.viparis.com/en/site/paris-nord-villepinte\" onclick='return goOtherCR(this,\"a=nco_xbn*1&amp;r=1&amp;i=\"+urlencode(\"80176088_00000093197D+80176088_0000009319EB+80176088_00000091EFB8+80176088_0000009319C3+80176088_000000931A89+80176088_00000091DB7C+80176088_0000009319F4+80176088_00000091EF52+80176088_000000931A71+80176088_00000091EF47+80176088_00000098C652+80176088_000000931A6A+80176088_000000931ADB+80176088_00000093196D+80176088_00000091797E\")+\"&amp;u=\"+urlencode(this.href));' target=\"_blank\">프랑스 파리</a></p> </td> </tr>, <tr> <td class=\"first tc\"> <p><a href=\"https://www.furies.fr/Nouvel-article-No-768.html\" onclick='return goOtherCR(this,\"a=nco_xbn*1&amp;r=1&amp;i=\"+urlencode(\"80176088_00000093197D+80176088_0000009319EB+80176088_00000091EFB8+80176088_0000009319C3+80176088_000000931A89+80176088_00000091DB7C+80176088_0000009319F4+80176088_00000091EF52+80176088_000000931A71+80176088_00000091EF47+80176088_00000098C652+80176088_000000931A6A+80176088_000000931ADB+80176088_00000093196D+80176088_00000091797E\")+\"&amp;u=\"+urlencode(this.href));' target=\"_blank\">퓨리에 페스티벌</a></p> </td> <td> <p style=\"text-align: center;\"> 2022.06.07. ~ 06.11. </p> </td> <td> <p><a href=\"https://goo.gl/maps/ci2PipNFF872\" onclick='return goOtherCR(this,\"a=nco_xbn*1&amp;r=1&amp;i=\"+urlencode(\"80176088_00000093197D+80176088_0000009319EB+80176088_00000091EFB8+80176088_0000009319C3+80176088_000000931A89+80176088_00000091DB7C+80176088_0000009319F4+80176088_00000091EF52+80176088_000000931A71+80176088_00000091EF47+80176088_00000098C652+80176088_000000931A6A+80176088_000000931ADB+80176088_00000093196D+80176088_00000091797E\")+\"&amp;u=\"+urlencode(this.href));' target=\"_blank\">프랑스 그랑테스트 샬롱장샹파뉴</a></p> </td> </tr>, <tr> <td class=\"first tc\"> <p><a href=\"https://www.aurillac.net/index.php/en/\" onclick='return goOtherCR(this,\"a=nco_xbn*1&amp;r=1&amp;i=\"+urlencode(\"80176088_00000093197D+80176088_0000009319EB+80176088_00000091EFB8+80176088_0000009319C3+80176088_000000931A89+80176088_00000091DB7C+80176088_0000009319F4+80176088_00000091EF52+80176088_000000931A71+80176088_00000091EF47+80176088_00000098C652+80176088_000000931A6A+80176088_000000931ADB+80176088_00000093196D+80176088_00000091797E\")+\"&amp;u=\"+urlencode(this.href));' target=\"_blank\">오리악 거리극 페스티벌</a></p> </td> <td> <p style=\"text-align: center;\"> 2022.08.17. ~ 08.20. </p> </td> <td> <p><a href=\"https://goo.gl/maps/Dj6r5peYz3U2\" onclick='return goOtherCR(this,\"a=nco_xbn*1&amp;r=1&amp;i=\"+urlencode(\"80176088_00000093197D+80176088_0000009319EB+80176088_00000091EFB8+80176088_0000009319C3+80176088_000000931A89+80176088_00000091DB7C+80176088_0000009319F4+80176088_00000091EF52+80176088_000000931A71+80176088_00000091EF47+80176088_00000098C652+80176088_000000931A6A+80176088_000000931ADB+80176088_00000093196D+80176088_00000091797E\")+\"&amp;u=\"+urlencode(this.href));' target=\"_blank\">프랑스 오리악</a></p> </td> </tr>, <tr> <td class=\"first tc\"> <p><a href=\"https://www.canneslions.com/\" onclick='return goOtherCR(this,\"a=nco_xbn*1&amp;r=1&amp;i=\"+urlencode(\"80176088_00000093197D+80176088_0000009319EB+80176088_00000091EFB8+80176088_0000009319C3+80176088_000000931A89+80176088_00000091DB7C+80176088_0000009319F4+80176088_00000091EF52+80176088_000000931A71+80176088_00000091EF47+80176088_00000098C652+80176088_000000931A6A+80176088_000000931ADB+80176088_00000093196D+80176088_00000091797E\")+\"&amp;u=\"+urlencode(this.href));' target=\"_blank\">칸 라이언즈</a></p> </td> <td> <p style=\"text-align: center;\"> 2022.06.20. ~ 06.24. </p> </td> <td> <p><a href=\"http://www.palaisdesfestivals.com/\" onclick='return goOtherCR(this,\"a=nco_xbn*1&amp;r=1&amp;i=\"+urlencode(\"80176088_00000093197D+80176088_0000009319EB+80176088_00000091EFB8+80176088_0000009319C3+80176088_000000931A89+80176088_00000091DB7C+80176088_0000009319F4+80176088_00000091EF52+80176088_000000931A71+80176088_00000091EF47+80176088_00000098C652+80176088_000000931A6A+80176088_000000931ADB+80176088_00000093196D+80176088_00000091797E\")+\"&amp;u=\"+urlencode(this.href));' target=\"_blank\">프랑스 깐느</a></p> </td> </tr>, <tr> <td class=\"first tc\"> <p><a href=\"http://festival-aix.com/en\" onclick='return goOtherCR(this,\"a=nco_xbn*1&amp;r=1&amp;i=\"+urlencode(\"80176088_00000093197D+80176088_0000009319EB+80176088_00000091EFB8+80176088_0000009319C3+80176088_000000931A89+80176088_00000091DB7C+80176088_0000009319F4+80176088_00000091EF52+80176088_000000931A71+80176088_00000091EF47+80176088_00000098C652+80176088_000000931A6A+80176088_000000931ADB+80176088_00000093196D+80176088_00000091797E\")+\"&amp;u=\"+urlencode(this.href));' target=\"_blank\">엑상프로방스 페스티벌</a></p> </td> <td> <p style=\"text-align: center;\"> 2022.07.04. ~ 07.23. </p> </td> <td> <p><a href=\"https://terms.naver.com/entry.nhn?docId=1125647&amp;cid=40942&amp;categoryId=40462\" onclick='return goOtherCR(this,\"a=nco_xbn*1&amp;r=1&amp;i=\"+urlencode(\"80176088_00000093197D+80176088_0000009319EB+80176088_00000091EFB8+80176088_0000009319C3+80176088_000000931A89+80176088_00000091DB7C+80176088_0000009319F4+80176088_00000091EF52+80176088_000000931A71+80176088_00000091EF47+80176088_00000098C652+80176088_000000931A6A+80176088_000000931ADB+80176088_00000093196D+80176088_00000091797E\")+\"&amp;u=\"+urlencode(this.href));' target=\"_blank\">프랑스 엑상프로방스</a></p> </td> </tr>, <tr> <td class=\"first tc\"> <p><a href=\"http://www.festival-avignon.com/en/\" onclick='return goOtherCR(this,\"a=nco_xbn*1&amp;r=1&amp;i=\"+urlencode(\"80176088_00000093197D+80176088_0000009319EB+80176088_00000091EFB8+80176088_0000009319C3+80176088_000000931A89+80176088_00000091DB7C+80176088_0000009319F4+80176088_00000091EF52+80176088_000000931A71+80176088_00000091EF47+80176088_00000098C652+80176088_000000931A6A+80176088_000000931ADB+80176088_00000093196D+80176088_00000091797E\")+\"&amp;u=\"+urlencode(this.href));' target=\"_blank\">아비뇽 페스티벌</a></p> </td> <td> <p style=\"text-align: center;\"> 2022.07.07. ~ 07.26. </p> </td> <td> <p><a href=\"http://www.festival-avignon.com/en/venues\" onclick='return goOtherCR(this,\"a=nco_xbn*1&amp;r=1&amp;i=\"+urlencode(\"80176088_00000093197D+80176088_0000009319EB+80176088_00000091EFB8+80176088_0000009319C3+80176088_000000931A89+80176088_00000091DB7C+80176088_0000009319F4+80176088_00000091EF52+80176088_000000931A71+80176088_00000091EF47+80176088_00000098C652+80176088_000000931A6A+80176088_000000931ADB+80176088_00000093196D+80176088_00000091797E\")+\"&amp;u=\"+urlencode(this.href));' target=\"_blank\">프랑스 보클뤼즈주 아비뇽</a></p> </td> </tr>, <tr> <td class=\"first tc\"> <p><a href=\"https://www.chalondanslarue.com/\" onclick='return goOtherCR(this,\"a=nco_xbn*1&amp;r=1&amp;i=\"+urlencode(\"80176088_00000093197D+80176088_0000009319EB+80176088_00000091EFB8+80176088_0000009319C3+80176088_000000931A89+80176088_00000091DB7C+80176088_0000009319F4+80176088_00000091EF52+80176088_000000931A71+80176088_00000091EF47+80176088_00000098C652+80176088_000000931A6A+80176088_000000931ADB+80176088_00000093196D+80176088_00000091797E\")+\"&amp;u=\"+urlencode(this.href));' target=\"_blank\">샬롱 거리극 페스티벌</a></p> </td> <td> <p style=\"text-align: center;\"> 2022.07.20. ~ 07.24. </p> </td> <td> <p><a href=\"https://terms.naver.com/entry.nhn?docId=1110850&amp;cid=40942&amp;categoryId=34084\" onclick='return goOtherCR(this,\"a=nco_xbn*1&amp;r=1&amp;i=\"+urlencode(\"80176088_00000093197D+80176088_0000009319EB+80176088_00000091EFB8+80176088_0000009319C3+80176088_000000931A89+80176088_00000091DB7C+80176088_0000009319F4+80176088_00000091EF52+80176088_000000931A71+80176088_00000091EF47+80176088_00000098C652+80176088_000000931A6A+80176088_000000931ADB+80176088_00000093196D+80176088_00000091797E\")+\"&amp;u=\"+urlencode(this.href));' target=\"_blank\">프랑스 부르고뉴 샬롱슈흐싸온느</a></p> </td> </tr>, <tr> <td class=\"first tc\"> <p><a href=\"https://www.nicecarnaval.com/\" onclick='return goOtherCR(this,\"a=nco_xbn*1&amp;r=1&amp;i=\"+urlencode(\"80176088_00000093197D+80176088_0000009319EB+80176088_00000091EFB8+80176088_0000009319C3+80176088_000000931A89+80176088_00000091DB7C+80176088_0000009319F4+80176088_00000091EF52+80176088_000000931A71+80176088_00000091EF47+80176088_00000098C652+80176088_000000931A6A+80176088_000000931ADB+80176088_00000093196D+80176088_00000091797E\")+\"&amp;u=\"+urlencode(this.href));' target=\"_blank\">니스 카니발</a></p> </td> <td> <p style=\"text-align: center;\"> 2023.02.10. ~ 02.26. </p> </td> <td> <p><a href=\"https://m.search.naver.com/search.naver?sm=top_hty&amp;fbm=1&amp;ie=utf8&amp;query=%ED%94%84%EB%9E%91%EC%8A%A4+%EB%8B%88%EC%8A%A4\" onclick='return goOtherCR(this,\"a=nco_xbn*1&amp;r=1&amp;i=\"+urlencode(\"80176088_00000093197D+80176088_0000009319EB+80176088_00000091EFB8+80176088_0000009319C3+80176088_000000931A89+80176088_00000091DB7C+80176088_0000009319F4+80176088_00000091EF52+80176088_000000931A71+80176088_00000091EF47+80176088_00000098C652+80176088_000000931A6A+80176088_000000931ADB+80176088_00000093196D+80176088_00000091797E\")+\"&amp;u=\"+urlencode(this.href));' target=\"_blank\">프랑스 니스</a></p> </td> </tr>, <tr> <td class=\"first tc\"> <p><a href=\"https://www.tomorrowland.com/en/winter/welcome\" onclick='return goOtherCR(this,\"a=nco_xbn*1&amp;r=1&amp;i=\"+urlencode(\"80176088_00000093197D+80176088_0000009319EB+80176088_00000091EFB8+80176088_0000009319C3+80176088_000000931A89+80176088_00000091DB7C+80176088_0000009319F4+80176088_00000091EF52+80176088_000000931A71+80176088_00000091EF47+80176088_00000098C652+80176088_000000931A6A+80176088_000000931ADB+80176088_00000093196D+80176088_00000091797E\")+\"&amp;u=\"+urlencode(this.href));' target=\"_blank\">투모로우랜드 윈터</a></p> </td> <td> <p style=\"text-align: center;\"> 2023.03.18. ~ 03.25. </p> </td> <td> <p><a href=\"https://goo.gl/maps/GUguaSG9Tna9HErh6\" onclick='return goOtherCR(this,\"a=nco_xbn*1&amp;r=1&amp;i=\"+urlencode(\"80176088_00000093197D+80176088_0000009319EB+80176088_00000091EFB8+80176088_0000009319C3+80176088_000000931A89+80176088_00000091DB7C+80176088_0000009319F4+80176088_00000091EF52+80176088_000000931A71+80176088_00000091EF47+80176088_00000098C652+80176088_000000931A6A+80176088_000000931ADB+80176088_00000093196D+80176088_00000091797E\")+\"&amp;u=\"+urlencode(this.href));' target=\"_blank\">프랑스 알프 뒤에즈</a></p> </td> </tr>, <tr> <td class=\"first tc\"> <p><a href=\"https://www.lollaparis.com/\" onclick='return goOtherCR(this,\"a=nco_xbn*1&amp;r=1&amp;i=\"+urlencode(\"80176088_00000093197D+80176088_0000009319EB+80176088_00000091EFB8+80176088_0000009319C3+80176088_000000931A89+80176088_00000091DB7C+80176088_0000009319F4+80176088_00000091EF52+80176088_000000931A71+80176088_00000091EF47+80176088_00000098C652+80176088_000000931A6A+80176088_000000931ADB+80176088_00000093196D+80176088_00000091797E\")+\"&amp;u=\"+urlencode(this.href));' target=\"_blank\">롤라팔루자 파리</a></p> </td> <td> <p style=\"text-align: center;\"> 2022.07.16. ~ 07.17. </p> </td> <td> <p><a href=\"https://goo.gl/maps/y2NFjn7SPes\" onclick='return goOtherCR(this,\"a=nco_xbn*1&amp;r=1&amp;i=\"+urlencode(\"80176088_00000093197D+80176088_0000009319EB+80176088_00000091EFB8+80176088_0000009319C3+80176088_000000931A89+80176088_00000091DB7C+80176088_0000009319F4+80176088_00000091EF52+80176088_000000931A71+80176088_00000091EF47+80176088_00000098C652+80176088_000000931A6A+80176088_000000931ADB+80176088_00000093196D+80176088_00000091797E\")+\"&amp;u=\"+urlencode(this.href));' target=\"_blank\">프랑스 파리 롱샴 경마장</a></p> </td> </tr>, <tr> <td class=\"first tc\"> <p><a href=\"https://www.festival-marionnette.com/en/\" onclick='return goOtherCR(this,\"a=nco_xbn*1&amp;r=1&amp;i=\"+urlencode(\"80176088_00000093197D+80176088_0000009319EB+80176088_00000091EFB8+80176088_0000009319C3+80176088_000000931A89+80176088_00000091DB7C+80176088_0000009319F4+80176088_00000091EF52+80176088_000000931A71+80176088_00000091EF47+80176088_00000098C652+80176088_000000931A6A+80176088_000000931ADB+80176088_00000093196D+80176088_00000091797E\")+\"&amp;u=\"+urlencode(this.href));' target=\"_blank\">샤를빌메지에르 마리오네트 축제</a></p> </td> <td> <p style=\"text-align: center;\"> 2023.09.16. ~ 09.24. </p> </td> <td> <p><a href=\"https://goo.gl/maps/PwZutRffTt22\" onclick='return goOtherCR(this,\"a=nco_xbn*1&amp;r=1&amp;i=\"+urlencode(\"80176088_00000093197D+80176088_0000009319EB+80176088_00000091EFB8+80176088_0000009319C3+80176088_000000931A89+80176088_00000091DB7C+80176088_0000009319F4+80176088_00000091EF52+80176088_000000931A71+80176088_00000091EF47+80176088_00000098C652+80176088_000000931A6A+80176088_000000931ADB+80176088_00000093196D+80176088_00000091797E\")+\"&amp;u=\"+urlencode(this.href));' target=\"_blank\">프랑스 샤를빌메지에르</a></p> </td> </tr>, <tr> <td class=\"first tc\"> <p><a href=\"https://www.fete-du-citron.com/\" onclick='return goOtherCR(this,\"a=nco_xbn*1&amp;r=1&amp;i=\"+urlencode(\"80176088_00000093197D+80176088_0000009319EB+80176088_00000091EFB8+80176088_0000009319C3+80176088_000000931A89+80176088_00000091DB7C+80176088_0000009319F4+80176088_00000091EF52+80176088_000000931A71+80176088_00000091EF47+80176088_00000098C652+80176088_000000931A6A+80176088_000000931ADB+80176088_00000093196D+80176088_00000091797E\")+\"&amp;u=\"+urlencode(this.href));' target=\"_blank\">망통 레몬 축제</a></p> </td> <td> <p style=\"text-align: center;\"> 2022.02.12. ~ 02.27. </p> </td> <td> <p><a href=\"https://terms.naver.com/entry.nhn?docId=1091812&amp;cid=40942&amp;categoryId=40462\" onclick='return goOtherCR(this,\"a=nco_xbn*1&amp;r=1&amp;i=\"+urlencode(\"80176088_00000093197D+80176088_0000009319EB+80176088_00000091EFB8+80176088_0000009319C3+80176088_000000931A89+80176088_00000091DB7C+80176088_0000009319F4+80176088_00000091EF52+80176088_000000931A71+80176088_00000091EF47+80176088_00000098C652+80176088_000000931A6A+80176088_000000931ADB+80176088_00000093196D+80176088_00000091797E\")+\"&amp;u=\"+urlencode(this.href));' target=\"_blank\">프랑스 망통</a></p> </td> </tr>, <tr> <td class=\"first tc\"> <p><a href=\"https://www.midem.com/\" onclick='return goOtherCR(this,\"a=nco_xbn*1&amp;r=1&amp;i=\"+urlencode(\"80176088_00000093197D+80176088_0000009319EB+80176088_00000091EFB8+80176088_0000009319C3+80176088_000000931A89+80176088_00000091DB7C+80176088_0000009319F4+80176088_00000091EF52+80176088_000000931A71+80176088_00000091EF47+80176088_00000098C652+80176088_000000931A6A+80176088_000000931ADB+80176088_00000093196D+80176088_00000091797E\")+\"&amp;u=\"+urlencode(this.href));' target=\"_blank\">미뎀</a></p> </td> <td> <p style=\"text-align: center;\"> 매년 6월<br/>(2022년 행사 코로나19로 취소) </p> </td> <td> <p><a href=\"https://terms.naver.com/entry.nhn?docId=1149194&amp;cid=40942&amp;categoryId=40462\" onclick='return goOtherCR(this,\"a=nco_xbn*1&amp;r=1&amp;i=\"+urlencode(\"80176088_00000093197D+80176088_0000009319EB+80176088_00000091EFB8+80176088_0000009319C3+80176088_000000931A89+80176088_00000091DB7C+80176088_0000009319F4+80176088_00000091EF52+80176088_000000931A71+80176088_00000091EF47+80176088_00000098C652+80176088_000000931A6A+80176088_000000931ADB+80176088_00000093196D+80176088_00000091797E\")+\"&amp;u=\"+urlencode(this.href));' target=\"_blank\">프랑스 깐느</a></p> </td> </tr>]\n"
     ]
    }
   ],
   "source": [
    "festival = soup.select('.scroll tr') #!!! 슬라이싱써서 0번째꺼 제외 뒷부분만 가져오기\n",
    "\n",
    "print(festival)\n",
    "\n",
    "# 반복문 for 돌려서 기간, 장소 등 가져와라 입력값 바꿔서 해봐라"
   ]
  },
  {
   "cell_type": "code",
   "execution_count": 62,
   "metadata": {},
   "outputs": [
    {
     "name": "stdout",
     "output_type": "stream",
     "text": [
      "[<tr class=\"first_row\"> <td class=\"first tc\"> <p><a href=\"http://oposito.fr/-Les-33es-Rencontres-d-Ici-et-d-.html\" onclick='return goOtherCR(this,\"a=nco_xbn*1&amp;r=1&amp;i=\"+urlencode(\"80176088_00000093197D+80176088_0000009319EB+80176088_00000091EFB8+80176088_0000009319C3+80176088_000000931A89+80176088_00000091DB7C+80176088_0000009319F4+80176088_00000091EF52+80176088_000000931A71+80176088_00000091EF47+80176088_00000098C652+80176088_000000931A6A+80176088_000000931ADB+80176088_00000093196D+80176088_00000091797E\")+\"&amp;u=\"+urlencode(this.href));' target=\"_blank\">오포지토 거리극 페스티벌</a></p> </td> <td> <p style=\"text-align: center;\"> 2022.05.21. ~ 11.27. </p> </td> <td> <p><a href=\"https://goo.gl/maps/rfubtRDpCzH2\" onclick='return goOtherCR(this,\"a=nco_xbn*1&amp;r=1&amp;i=\"+urlencode(\"80176088_00000093197D+80176088_0000009319EB+80176088_00000091EFB8+80176088_0000009319C3+80176088_000000931A89+80176088_00000091DB7C+80176088_0000009319F4+80176088_00000091EF52+80176088_000000931A71+80176088_00000091EF47+80176088_00000098C652+80176088_000000931A6A+80176088_000000931ADB+80176088_00000093196D+80176088_00000091797E\")+\"&amp;u=\"+urlencode(this.href));' target=\"_blank\">프랑스 발두아즈 갸흐쥬레고네쓰</a></p> </td> </tr>]\n"
     ]
    }
   ],
   "source": [
    "festival_when = soup.select('.first_row ')\n",
    "print(festival_when)"
   ]
  },
  {
   "cell_type": "code",
   "execution_count": null,
   "metadata": {},
   "outputs": [],
   "source": []
  },
  {
   "cell_type": "code",
   "execution_count": null,
   "metadata": {},
   "outputs": [],
   "source": []
  },
  {
   "cell_type": "code",
   "execution_count": null,
   "metadata": {},
   "outputs": [],
   "source": []
  },
  {
   "cell_type": "code",
   "execution_count": null,
   "metadata": {},
   "outputs": [],
   "source": []
  },
  {
   "cell_type": "code",
   "execution_count": null,
   "metadata": {},
   "outputs": [],
   "source": []
  }
 ],
 "metadata": {
  "kernelspec": {
   "display_name": "Python 3.10.4 ('study')",
   "language": "python",
   "name": "python3"
  },
  "language_info": {
   "codemirror_mode": {
    "name": "ipython",
    "version": 3
   },
   "file_extension": ".py",
   "mimetype": "text/x-python",
   "name": "python",
   "nbconvert_exporter": "python",
   "pygments_lexer": "ipython3",
   "version": "3.10.4"
  },
  "orig_nbformat": 4,
  "vscode": {
   "interpreter": {
    "hash": "2a0060edd7d251760572a9face11b31d5845688b205e41687a3c0e7ba9f3ee93"
   }
  }
 },
 "nbformat": 4,
 "nbformat_minor": 2
}
